{
 "cells": [
  {
   "cell_type": "code",
   "execution_count": 12,
   "id": "a1a5981c-eedf-4b07-a8bd-e8c1a8d048cb",
   "metadata": {},
   "outputs": [
    {
     "data": {
      "text/plain": [
       "2"
      ]
     },
     "execution_count": 12,
     "metadata": {},
     "output_type": "execute_result"
    }
   ],
   "source": [
    "1+1"
   ]
  },
  {
   "cell_type": "code",
   "execution_count": 14,
   "id": "fa1a2227-e805-4067-bdeb-1fb9a7690102",
   "metadata": {},
   "outputs": [
    {
     "data": {
      "text/plain": [
       "1"
      ]
     },
     "execution_count": 14,
     "metadata": {},
     "output_type": "execute_result"
    }
   ],
   "source": [
    "2-1"
   ]
  },
  {
   "cell_type": "code",
   "execution_count": 16,
   "id": "f3705e9d-22d8-482d-b84e-19c8cee7002f",
   "metadata": {},
   "outputs": [
    {
     "data": {
      "text/plain": [
       "12"
      ]
     },
     "execution_count": 16,
     "metadata": {},
     "output_type": "execute_result"
    }
   ],
   "source": [
    "3*4"
   ]
  },
  {
   "cell_type": "code",
   "execution_count": 18,
   "id": "52ffc985-16c4-4c6d-929e-7f08bba55500",
   "metadata": {},
   "outputs": [
    {
     "data": {
      "text/plain": [
       "2.0"
      ]
     },
     "execution_count": 18,
     "metadata": {},
     "output_type": "execute_result"
    }
   ],
   "source": [
    "8/4"
   ]
  },
  {
   "cell_type": "code",
   "execution_count": 20,
   "id": "36c7ecd7-3084-4807-8fb1-1533c58c12e1",
   "metadata": {},
   "outputs": [
    {
     "data": {
      "text/plain": [
       "1.6"
      ]
     },
     "execution_count": 20,
     "metadata": {},
     "output_type": "execute_result"
    }
   ],
   "source": [
    "8/5"
   ]
  },
  {
   "cell_type": "code",
   "execution_count": 22,
   "id": "2cfe1a0d-b19d-4d8e-bf8f-d48f23d5a512",
   "metadata": {},
   "outputs": [
    {
     "data": {
      "text/plain": [
       "2.0"
      ]
     },
     "execution_count": 22,
     "metadata": {},
     "output_type": "execute_result"
    }
   ],
   "source": [
    "8/4"
   ]
  },
  {
   "cell_type": "code",
   "execution_count": 24,
   "id": "6e727c48-86f4-46ad-a2b9-50a48b0d5dc6",
   "metadata": {},
   "outputs": [
    {
     "data": {
      "text/plain": [
       "2"
      ]
     },
     "execution_count": 24,
     "metadata": {},
     "output_type": "execute_result"
    }
   ],
   "source": [
    "8//4"
   ]
  },
  {
   "cell_type": "code",
   "execution_count": 26,
   "id": "b0666bd1-acf0-4fb7-a3ed-57489e2e251b",
   "metadata": {},
   "outputs": [
    {
     "data": {
      "text/plain": [
       "10"
      ]
     },
     "execution_count": 26,
     "metadata": {},
     "output_type": "execute_result"
    }
   ],
   "source": [
    "8+9-7"
   ]
  },
  {
   "cell_type": "code",
   "execution_count": 28,
   "id": "dddb8758-8b6e-4d1d-8d2c-d0b865730e73",
   "metadata": {},
   "outputs": [
    {
     "data": {
      "text/plain": [
       "16"
      ]
     },
     "execution_count": 28,
     "metadata": {},
     "output_type": "execute_result"
    }
   ],
   "source": [
    "8+8"
   ]
  },
  {
   "cell_type": "code",
   "execution_count": 30,
   "id": "fd5830f0-7f62-4974-8102-5c68b848d768",
   "metadata": {},
   "outputs": [
    {
     "data": {
      "text/plain": [
       "30"
      ]
     },
     "execution_count": 30,
     "metadata": {},
     "output_type": "execute_result"
    }
   ],
   "source": [
    "5+5*5"
   ]
  },
  {
   "cell_type": "code",
   "execution_count": 32,
   "id": "a0d6e86a-bbfb-4988-b8ef-f1d83cdc1948",
   "metadata": {},
   "outputs": [
    {
     "data": {
      "text/plain": [
       "50"
      ]
     },
     "execution_count": 32,
     "metadata": {},
     "output_type": "execute_result"
    }
   ],
   "source": [
    "(5+5)*5"
   ]
  },
  {
   "cell_type": "code",
   "execution_count": 34,
   "id": "bab836f6-4156-4dd5-a06f-6a2e1f726fff",
   "metadata": {},
   "outputs": [
    {
     "data": {
      "text/plain": [
       "32"
      ]
     },
     "execution_count": 34,
     "metadata": {},
     "output_type": "execute_result"
    }
   ],
   "source": [
    "2*2*2*2*2"
   ]
  },
  {
   "cell_type": "code",
   "execution_count": 36,
   "id": "7a5953cc-2729-4dc9-b5c8-4cb874c236d8",
   "metadata": {},
   "outputs": [
    {
     "data": {
      "text/plain": [
       "10"
      ]
     },
     "execution_count": 36,
     "metadata": {},
     "output_type": "execute_result"
    }
   ],
   "source": [
    "2*5"
   ]
  },
  {
   "cell_type": "code",
   "execution_count": 38,
   "id": "ce8e4f21-277b-4025-8c44-b5b9e8b221f2",
   "metadata": {},
   "outputs": [
    {
     "data": {
      "text/plain": [
       "32"
      ]
     },
     "execution_count": 38,
     "metadata": {},
     "output_type": "execute_result"
    }
   ],
   "source": [
    "2**5"
   ]
  },
  {
   "cell_type": "code",
   "execution_count": 40,
   "id": "89f4e641-dfa9-4074-808e-93126f602eec",
   "metadata": {},
   "outputs": [
    {
     "data": {
      "text/plain": [
       "5.0"
      ]
     },
     "execution_count": 40,
     "metadata": {},
     "output_type": "execute_result"
    }
   ],
   "source": [
    "15/3"
   ]
  },
  {
   "cell_type": "code",
   "execution_count": 42,
   "id": "a5549d4b-c354-4761-84b9-86502bd57487",
   "metadata": {},
   "outputs": [
    {
     "data": {
      "text/plain": [
       "3"
      ]
     },
     "execution_count": 42,
     "metadata": {},
     "output_type": "execute_result"
    }
   ],
   "source": [
    "10//3"
   ]
  },
  {
   "cell_type": "code",
   "execution_count": 44,
   "id": "445224e4-396e-4d35-8373-03e9bb4f3bb1",
   "metadata": {},
   "outputs": [
    {
     "data": {
      "text/plain": [
       "1"
      ]
     },
     "execution_count": 44,
     "metadata": {},
     "output_type": "execute_result"
    }
   ],
   "source": [
    "15%2"
   ]
  },
  {
   "cell_type": "code",
   "execution_count": 46,
   "id": "5324881f-3673-4f30-9c83-143f04be9c2a",
   "metadata": {},
   "outputs": [
    {
     "data": {
      "text/plain": [
       "0"
      ]
     },
     "execution_count": 46,
     "metadata": {},
     "output_type": "execute_result"
    }
   ],
   "source": [
    "10%2"
   ]
  },
  {
   "cell_type": "code",
   "execution_count": 48,
   "id": "897038f7-7dc7-417c-af38-274cccf2fc94",
   "metadata": {},
   "outputs": [
    {
     "ename": "SyntaxError",
     "evalue": "invalid syntax (1537055890.py, line 1)",
     "output_type": "error",
     "traceback": [
      "\u001b[1;36m  Cell \u001b[1;32mIn[48], line 1\u001b[1;36m\u001b[0m\n\u001b[1;33m    15%%2\u001b[0m\n\u001b[1;37m       ^\u001b[0m\n\u001b[1;31mSyntaxError\u001b[0m\u001b[1;31m:\u001b[0m invalid syntax\n"
     ]
    }
   ],
   "source": [
    "15%%2"
   ]
  },
  {
   "cell_type": "code",
   "execution_count": 50,
   "id": "7635531c-2513-4f79-a2cd-c444cb71ffaf",
   "metadata": {},
   "outputs": [
    {
     "ename": "TypeError",
     "evalue": "unsupported operand type(s) for +: 'int' and 'str'",
     "output_type": "error",
     "traceback": [
      "\u001b[1;31m---------------------------------------------------------------------------\u001b[0m",
      "\u001b[1;31mTypeError\u001b[0m                                 Traceback (most recent call last)",
      "Cell \u001b[1;32mIn[50], line 1\u001b[0m\n\u001b[1;32m----> 1\u001b[0m \u001b[38;5;241m3\u001b[39m \u001b[38;5;241m+\u001b[39m \u001b[38;5;124m'\u001b[39m\u001b[38;5;124mnit\u001b[39m\u001b[38;5;124m'\u001b[39m\n",
      "\u001b[1;31mTypeError\u001b[0m: unsupported operand type(s) for +: 'int' and 'str'"
     ]
    }
   ],
   "source": [
    "3 + 'nit'"
   ]
  },
  {
   "cell_type": "code",
   "execution_count": 52,
   "id": "491f14da-e556-4143-9cf3-c15bd15ba625",
   "metadata": {},
   "outputs": [
    {
     "name": "stdout",
     "output_type": "stream",
     "text": [
      "15\n",
      "7.8\n",
      "nit\n",
      "(8+9j)\n",
      "True\n"
     ]
    }
   ],
   "source": [
    "a,b,c,d,e = 15,7.8,\"nit\",8+9j,True\n",
    "print(a)\n",
    "print(b)\n",
    "print(c)\n",
    "print(d)\n",
    "print(e)"
   ]
  },
  {
   "cell_type": "code",
   "execution_count": 54,
   "id": "9bef82e4-b629-4492-a7d6-f749d21ff07e",
   "metadata": {},
   "outputs": [
    {
     "name": "stdout",
     "output_type": "stream",
     "text": [
      "<class 'int'>\n",
      "<class 'float'>\n",
      "<class 'str'>\n",
      "<class 'complex'>\n",
      "<class 'bool'>\n"
     ]
    }
   ],
   "source": [
    "print(type(a))\n",
    "print(type(b))\n",
    "print(type(c))\n",
    "print(type(d))\n",
    "print(type(e))"
   ]
  },
  {
   "cell_type": "code",
   "execution_count": 56,
   "id": "b93e1771-f50d-4776-86a6-170beed2821a",
   "metadata": {},
   "outputs": [
    {
     "data": {
      "text/plain": [
       "str"
      ]
     },
     "execution_count": 56,
     "metadata": {},
     "output_type": "execute_result"
    }
   ],
   "source": [
    "type(c)"
   ]
  },
  {
   "cell_type": "code",
   "execution_count": 58,
   "id": "e3d6ca2b-c0c6-46d9-8603-9ac71ae9bd65",
   "metadata": {},
   "outputs": [
    {
     "data": {
      "text/plain": [
       "'Naresh IT'"
      ]
     },
     "execution_count": 58,
     "metadata": {},
     "output_type": "execute_result"
    }
   ],
   "source": [
    "\"Naresh IT\""
   ]
  },
  {
   "cell_type": "code",
   "execution_count": 60,
   "id": "e656123f-5cc8-4a1a-9333-057c71b8bcd9",
   "metadata": {},
   "outputs": [
    {
     "data": {
      "text/plain": [
       "'max it technology'"
      ]
     },
     "execution_count": 60,
     "metadata": {},
     "output_type": "execute_result"
    }
   ],
   "source": [
    "\"max it technology\""
   ]
  },
  {
   "cell_type": "code",
   "execution_count": 62,
   "id": "eb72d58e-5ef8-445e-b033-63dc9513bda6",
   "metadata": {},
   "outputs": [
    {
     "data": {
      "text/plain": [
       "'max it technology'"
      ]
     },
     "execution_count": 62,
     "metadata": {},
     "output_type": "execute_result"
    }
   ],
   "source": [
    "s1='max it technology'\n",
    "s1"
   ]
  },
  {
   "cell_type": "code",
   "execution_count": 64,
   "id": "c7cd5c54-4f56-400d-9d7c-2a7d7acee664",
   "metadata": {},
   "outputs": [
    {
     "data": {
      "text/plain": [
       "5"
      ]
     },
     "execution_count": 64,
     "metadata": {},
     "output_type": "execute_result"
    }
   ],
   "source": [
    "a=2\n",
    "b=3\n",
    "a+b"
   ]
  },
  {
   "cell_type": "code",
   "execution_count": 66,
   "id": "a701436e-add8-4884-bdec-6fc29dc4d1b4",
   "metadata": {},
   "outputs": [
    {
     "data": {
      "text/plain": [
       "5"
      ]
     },
     "execution_count": 66,
     "metadata": {},
     "output_type": "execute_result"
    }
   ],
   "source": [
    "c=a+b\n",
    "c"
   ]
  },
  {
   "cell_type": "code",
   "execution_count": 68,
   "id": "ec68f3ae-32a5-41a1-bc20-3eb0b1820437",
   "metadata": {},
   "outputs": [
    {
     "data": {
      "text/plain": [
       "str"
      ]
     },
     "execution_count": 68,
     "metadata": {},
     "output_type": "execute_result"
    }
   ],
   "source": [
    "a=3\n",
    "b='hi'\n",
    "type(b)"
   ]
  },
  {
   "cell_type": "code",
   "execution_count": 70,
   "id": "74169b8d-7d5d-4e78-bf5d-abbd71d9c7b8",
   "metadata": {},
   "outputs": [
    {
     "ename": "SyntaxError",
     "evalue": "unterminated string literal (detected at line 1) (1538650457.py, line 1)",
     "output_type": "error",
     "traceback": [
      "\u001b[1;36m  Cell \u001b[1;32mIn[70], line 1\u001b[1;36m\u001b[0m\n\u001b[1;33m    print('max it's\"Technology\"')\u001b[0m\n\u001b[1;37m                               ^\u001b[0m\n\u001b[1;31mSyntaxError\u001b[0m\u001b[1;31m:\u001b[0m unterminated string literal (detected at line 1)\n"
     ]
    }
   ],
   "source": [
    "print('max it's\"Technology\"')"
   ]
  },
  {
   "cell_type": "code",
   "execution_count": 74,
   "id": "5d038f7a-e88c-4dca-aedf-a44870e49093",
   "metadata": {},
   "outputs": [
    {
     "name": "stdout",
     "output_type": "stream",
     "text": [
      "max it's \"Technology\"\n"
     ]
    }
   ],
   "source": [
    "print('max it\\'s \"Technology\"')"
   ]
  },
  {
   "cell_type": "code",
   "execution_count": 76,
   "id": "01b4db15-dace-48d8-b3dc-d402f7b51615",
   "metadata": {},
   "outputs": [
    {
     "name": "stdout",
     "output_type": "stream",
     "text": [
      "max it Technology\n"
     ]
    }
   ],
   "source": [
    "print('max it',  'Technology')"
   ]
  },
  {
   "cell_type": "code",
   "execution_count": 78,
   "id": "74eab199-37bb-4404-9329-f28002acb87f",
   "metadata": {},
   "outputs": [
    {
     "name": "stdout",
     "output_type": "stream",
     "text": [
      "max it','technology\n"
     ]
    }
   ],
   "source": [
    "print(\"max it','technology\")"
   ]
  },
  {
   "cell_type": "code",
   "execution_count": 80,
   "id": "d4b6bdeb-9074-4cca-b9f1-d5dedd9ebe88",
   "metadata": {},
   "outputs": [
    {
     "data": {
      "text/plain": [
       "'nitnit'"
      ]
     },
     "execution_count": 80,
     "metadata": {},
     "output_type": "execute_result"
    }
   ],
   "source": [
    "\"nit\" + \"nit\""
   ]
  },
  {
   "cell_type": "code",
   "execution_count": 82,
   "id": "87892ff9-1d25-47dc-a612-446fa7a5a051",
   "metadata": {},
   "outputs": [
    {
     "data": {
      "text/plain": [
       "'nitnit'"
      ]
     },
     "execution_count": 82,
     "metadata": {},
     "output_type": "execute_result"
    }
   ],
   "source": [
    "'nit' 'nit'"
   ]
  },
  {
   "cell_type": "code",
   "execution_count": 84,
   "id": "4030c8d7-beae-4b0a-a0c7-0bd81ebb6003",
   "metadata": {},
   "outputs": [
    {
     "data": {
      "text/plain": [
       "'nitnitnitnitnit'"
      ]
     },
     "execution_count": 84,
     "metadata": {},
     "output_type": "execute_result"
    }
   ],
   "source": [
    "5 * 'nit'"
   ]
  },
  {
   "cell_type": "code",
   "execution_count": 86,
   "id": "bfd7e76a-36e5-4e12-9bcd-251070909efa",
   "metadata": {},
   "outputs": [
    {
     "data": {
      "text/plain": [
       "'nitnitnitnitnit'"
      ]
     },
     "execution_count": 86,
     "metadata": {},
     "output_type": "execute_result"
    }
   ],
   "source": [
    "5*'nit'"
   ]
  },
  {
   "cell_type": "code",
   "execution_count": 88,
   "id": "f47d9643-3981-4f6f-a983-45388e9ebb43",
   "metadata": {},
   "outputs": [
    {
     "name": "stdout",
     "output_type": "stream",
     "text": [
      "c:\n",
      "it\n"
     ]
    }
   ],
   "source": [
    "print('c:\\nit')"
   ]
  },
  {
   "cell_type": "code",
   "execution_count": 90,
   "id": "2e3ac9d5-f565-46d3-a52b-c7532cd6a93e",
   "metadata": {},
   "outputs": [
    {
     "name": "stdout",
     "output_type": "stream",
     "text": [
      "c:\\nit\n"
     ]
    }
   ],
   "source": [
    "print(r'c:\\nit')"
   ]
  },
  {
   "cell_type": "markdown",
   "id": "afc2596c-eb5a-4402-a2d5-16890d234dd2",
   "metadata": {},
   "source": [
    "# Identifier"
   ]
  },
  {
   "cell_type": "code",
   "execution_count": 93,
   "id": "aae62e6e-b7c1-4151-8f5f-bb566a0b274d",
   "metadata": {},
   "outputs": [
    {
     "data": {
      "text/plain": [
       "2"
      ]
     },
     "execution_count": 93,
     "metadata": {},
     "output_type": "execute_result"
    }
   ],
   "source": [
    "x=2\n",
    "x"
   ]
  },
  {
   "cell_type": "code",
   "execution_count": 95,
   "id": "88a3d9bc-454d-4970-bcc7-6e5c69b78f61",
   "metadata": {},
   "outputs": [
    {
     "data": {
      "text/plain": [
       "5"
      ]
     },
     "execution_count": 95,
     "metadata": {},
     "output_type": "execute_result"
    }
   ],
   "source": [
    "x+3"
   ]
  },
  {
   "cell_type": "code",
   "execution_count": 97,
   "id": "3dbe0735-df48-40d6-852b-854a4df16bd6",
   "metadata": {},
   "outputs": [
    {
     "data": {
      "text/plain": [
       "3"
      ]
     },
     "execution_count": 97,
     "metadata": {},
     "output_type": "execute_result"
    }
   ],
   "source": [
    "y=3\n",
    "y"
   ]
  },
  {
   "cell_type": "code",
   "execution_count": 99,
   "id": "902514f9-03db-4232-8d35-eec437ff4121",
   "metadata": {},
   "outputs": [
    {
     "data": {
      "text/plain": [
       "5"
      ]
     },
     "execution_count": 99,
     "metadata": {},
     "output_type": "execute_result"
    }
   ],
   "source": [
    "x+y"
   ]
  },
  {
   "cell_type": "code",
   "execution_count": 101,
   "id": "e6412a1f-2336-4c4e-b53d-f5a368a5ad99",
   "metadata": {},
   "outputs": [
    {
     "data": {
      "text/plain": [
       "9"
      ]
     },
     "execution_count": 101,
     "metadata": {},
     "output_type": "execute_result"
    }
   ],
   "source": [
    "x=9\n",
    "x"
   ]
  },
  {
   "cell_type": "code",
   "execution_count": 103,
   "id": "eaa414ea-1aed-4705-be66-1559d1623424",
   "metadata": {},
   "outputs": [
    {
     "data": {
      "text/plain": [
       "12"
      ]
     },
     "execution_count": 103,
     "metadata": {},
     "output_type": "execute_result"
    }
   ],
   "source": [
    "x+y"
   ]
  },
  {
   "cell_type": "code",
   "execution_count": 105,
   "id": "b1d71d53-9d68-488a-a171-ba2b080fa1e8",
   "metadata": {},
   "outputs": [
    {
     "data": {
      "text/plain": [
       "19"
      ]
     },
     "execution_count": 105,
     "metadata": {},
     "output_type": "execute_result"
    }
   ],
   "source": [
    "x+10"
   ]
  },
  {
   "cell_type": "code",
   "execution_count": 131,
   "id": "88675291-a7a0-458b-8739-7a717e6a7291",
   "metadata": {},
   "outputs": [
    {
     "ename": "TypeError",
     "evalue": "can only concatenate str (not \"int\") to str",
     "output_type": "error",
     "traceback": [
      "\u001b[1;31m---------------------------------------------------------------------------\u001b[0m",
      "\u001b[1;31mTypeError\u001b[0m                                 Traceback (most recent call last)",
      "Cell \u001b[1;32mIn[131], line 1\u001b[0m\n\u001b[1;32m----> 1\u001b[0m _ \u001b[38;5;241m+\u001b[39m y\n",
      "\u001b[1;31mTypeError\u001b[0m: can only concatenate str (not \"int\") to str"
     ]
    }
   ],
   "source": [
    "_ + y"
   ]
  },
  {
   "cell_type": "code",
   "execution_count": 133,
   "id": "ee27fb85-213e-42ee-8caf-704e3924bee1",
   "metadata": {},
   "outputs": [
    {
     "ename": "TypeError",
     "evalue": "can only concatenate str (not \"int\") to str",
     "output_type": "error",
     "traceback": [
      "\u001b[1;31m---------------------------------------------------------------------------\u001b[0m",
      "\u001b[1;31mTypeError\u001b[0m                                 Traceback (most recent call last)",
      "Cell \u001b[1;32mIn[133], line 1\u001b[0m\n\u001b[1;32m----> 1\u001b[0m _ \u001b[38;5;241m+\u001b[39m y\n",
      "\u001b[1;31mTypeError\u001b[0m: can only concatenate str (not \"int\") to str"
     ]
    }
   ],
   "source": [
    "_ + y"
   ]
  },
  {
   "cell_type": "code",
   "execution_count": 135,
   "id": "f5f06a81-0048-4b52-84b6-d853b145a1e0",
   "metadata": {},
   "outputs": [
    {
     "ename": "TypeError",
     "evalue": "can only concatenate str (not \"int\") to str",
     "output_type": "error",
     "traceback": [
      "\u001b[1;31m---------------------------------------------------------------------------\u001b[0m",
      "\u001b[1;31mTypeError\u001b[0m                                 Traceback (most recent call last)",
      "Cell \u001b[1;32mIn[135], line 1\u001b[0m\n\u001b[1;32m----> 1\u001b[0m _ \u001b[38;5;241m+\u001b[39m y\n",
      "\u001b[1;31mTypeError\u001b[0m: can only concatenate str (not \"int\") to str"
     ]
    }
   ],
   "source": [
    "_ + y"
   ]
  },
  {
   "cell_type": "code",
   "execution_count": 137,
   "id": "3ac7e41f-8f3f-42b9-8f48-cfa8cebabbfc",
   "metadata": {},
   "outputs": [
    {
     "ename": "TypeError",
     "evalue": "can only concatenate str (not \"int\") to str",
     "output_type": "error",
     "traceback": [
      "\u001b[1;31m---------------------------------------------------------------------------\u001b[0m",
      "\u001b[1;31mTypeError\u001b[0m                                 Traceback (most recent call last)",
      "Cell \u001b[1;32mIn[137], line 1\u001b[0m\n\u001b[1;32m----> 1\u001b[0m _\u001b[38;5;241m+\u001b[39my\n",
      "\u001b[1;31mTypeError\u001b[0m: can only concatenate str (not \"int\") to str"
     ]
    }
   ],
   "source": [
    "_+y"
   ]
  },
  {
   "cell_type": "code",
   "execution_count": 139,
   "id": "29644cdb-0f3b-4a0b-8176-fc11f46fdb2a",
   "metadata": {},
   "outputs": [
    {
     "data": {
      "text/plain": [
       "3"
      ]
     },
     "execution_count": 139,
     "metadata": {},
     "output_type": "execute_result"
    }
   ],
   "source": [
    "y"
   ]
  },
  {
   "cell_type": "code",
   "execution_count": 141,
   "id": "7e234374-9b49-45e7-b452-7a07435dcbc0",
   "metadata": {},
   "outputs": [
    {
     "ename": "TypeError",
     "evalue": "can only concatenate str (not \"int\") to str",
     "output_type": "error",
     "traceback": [
      "\u001b[1;31m---------------------------------------------------------------------------\u001b[0m",
      "\u001b[1;31mTypeError\u001b[0m                                 Traceback (most recent call last)",
      "Cell \u001b[1;32mIn[141], line 1\u001b[0m\n\u001b[1;32m----> 1\u001b[0m _ \u001b[38;5;241m+\u001b[39m y\n",
      "\u001b[1;31mTypeError\u001b[0m: can only concatenate str (not \"int\") to str"
     ]
    }
   ],
   "source": [
    "_ + y"
   ]
  },
  {
   "cell_type": "code",
   "execution_count": 143,
   "id": "91ad0067-af5b-40a2-ae62-abd1cb9c67fc",
   "metadata": {},
   "outputs": [
    {
     "ename": "TypeError",
     "evalue": "can only concatenate str (not \"int\") to str",
     "output_type": "error",
     "traceback": [
      "\u001b[1;31m---------------------------------------------------------------------------\u001b[0m",
      "\u001b[1;31mTypeError\u001b[0m                                 Traceback (most recent call last)",
      "Cell \u001b[1;32mIn[143], line 1\u001b[0m\n\u001b[1;32m----> 1\u001b[0m _ \u001b[38;5;241m+\u001b[39m y\n",
      "\u001b[1;31mTypeError\u001b[0m: can only concatenate str (not \"int\") to str"
     ]
    }
   ],
   "source": [
    "_ + y"
   ]
  },
  {
   "cell_type": "code",
   "execution_count": 145,
   "id": "2a343fc4-67c1-4635-b131-2afbc2baca55",
   "metadata": {},
   "outputs": [],
   "source": [
    "name = 'nit'"
   ]
  },
  {
   "cell_type": "code",
   "execution_count": 147,
   "id": "4c03a613-9e21-4b43-91df-1ac7f7d9e917",
   "metadata": {},
   "outputs": [
    {
     "data": {
      "text/plain": [
       "'nit'"
      ]
     },
     "execution_count": 147,
     "metadata": {},
     "output_type": "execute_result"
    }
   ],
   "source": [
    "name"
   ]
  },
  {
   "cell_type": "code",
   "execution_count": 149,
   "id": "517a4198-5766-4ea7-be0a-fbaeb81abdfc",
   "metadata": {},
   "outputs": [
    {
     "data": {
      "text/plain": [
       "'nittechnology'"
      ]
     },
     "execution_count": 149,
     "metadata": {},
     "output_type": "execute_result"
    }
   ],
   "source": [
    "name + 'technology'"
   ]
  },
  {
   "cell_type": "code",
   "execution_count": 151,
   "id": "dd65f336-28b7-426b-9d0c-eb1ccec62070",
   "metadata": {},
   "outputs": [
    {
     "data": {
      "text/plain": [
       "'nittechnology'"
      ]
     },
     "execution_count": 151,
     "metadata": {},
     "output_type": "execute_result"
    }
   ],
   "source": [
    "name + 'technology'"
   ]
  },
  {
   "cell_type": "code",
   "execution_count": 153,
   "id": "ed371c15-48e7-4b01-9d47-ce6d799737b8",
   "metadata": {},
   "outputs": [
    {
     "ename": "SyntaxError",
     "evalue": "invalid syntax (3186014715.py, line 1)",
     "output_type": "error",
     "traceback": [
      "\u001b[1;36m  Cell \u001b[1;32mIn[153], line 1\u001b[1;36m\u001b[0m\n\u001b[1;33m    name 'technology'\u001b[0m\n\u001b[1;37m         ^\u001b[0m\n\u001b[1;31mSyntaxError\u001b[0m\u001b[1;31m:\u001b[0m invalid syntax\n"
     ]
    }
   ],
   "source": [
    "name 'technology'"
   ]
  },
  {
   "cell_type": "code",
   "execution_count": 155,
   "id": "f50732ab-bcc5-4bbc-ac84-da4925658351",
   "metadata": {},
   "outputs": [
    {
     "data": {
      "text/plain": [
       "'nit'"
      ]
     },
     "execution_count": 155,
     "metadata": {},
     "output_type": "execute_result"
    }
   ],
   "source": [
    "name"
   ]
  },
  {
   "cell_type": "code",
   "execution_count": 157,
   "id": "04f81101-928a-4195-b420-e06f807e64c5",
   "metadata": {},
   "outputs": [
    {
     "data": {
      "text/plain": [
       "3"
      ]
     },
     "execution_count": 157,
     "metadata": {},
     "output_type": "execute_result"
    }
   ],
   "source": [
    "len(name)"
   ]
  },
  {
   "cell_type": "code",
   "execution_count": 159,
   "id": "70b182ef-4562-4bd9-9395-50111d2eaa69",
   "metadata": {},
   "outputs": [
    {
     "data": {
      "text/plain": [
       "'n'"
      ]
     },
     "execution_count": 159,
     "metadata": {},
     "output_type": "execute_result"
    }
   ],
   "source": [
    "name[0]"
   ]
  },
  {
   "cell_type": "code",
   "execution_count": 161,
   "id": "25ffa1b1-535c-473a-97fa-11f4991ec814",
   "metadata": {},
   "outputs": [
    {
     "ename": "IndexError",
     "evalue": "string index out of range",
     "output_type": "error",
     "traceback": [
      "\u001b[1;31m---------------------------------------------------------------------------\u001b[0m",
      "\u001b[1;31mIndexError\u001b[0m                                Traceback (most recent call last)",
      "Cell \u001b[1;32mIn[161], line 1\u001b[0m\n\u001b[1;32m----> 1\u001b[0m name[\u001b[38;5;241m5\u001b[39m]\n",
      "\u001b[1;31mIndexError\u001b[0m: string index out of range"
     ]
    }
   ],
   "source": [
    "name[5]"
   ]
  },
  {
   "cell_type": "code",
   "execution_count": 163,
   "id": "15a155b0-fcc0-4cfa-87f4-bdbc2fbd2dbd",
   "metadata": {},
   "outputs": [
    {
     "ename": "IndexError",
     "evalue": "string index out of range",
     "output_type": "error",
     "traceback": [
      "\u001b[1;31m---------------------------------------------------------------------------\u001b[0m",
      "\u001b[1;31mIndexError\u001b[0m                                Traceback (most recent call last)",
      "Cell \u001b[1;32mIn[163], line 1\u001b[0m\n\u001b[1;32m----> 1\u001b[0m name[\u001b[38;5;241m7\u001b[39m]\n",
      "\u001b[1;31mIndexError\u001b[0m: string index out of range"
     ]
    }
   ],
   "source": [
    "name[7]"
   ]
  },
  {
   "cell_type": "code",
   "execution_count": 165,
   "id": "91ce44e2-b174-4389-a47d-52f03a4f4bf8",
   "metadata": {},
   "outputs": [
    {
     "data": {
      "text/plain": [
       "'t'"
      ]
     },
     "execution_count": 165,
     "metadata": {},
     "output_type": "execute_result"
    }
   ],
   "source": [
    "name[-1]"
   ]
  },
  {
   "cell_type": "code",
   "execution_count": 167,
   "id": "de802343-7013-4ebf-ab97-01b1f80d6662",
   "metadata": {},
   "outputs": [
    {
     "data": {
      "text/plain": [
       "'i'"
      ]
     },
     "execution_count": 167,
     "metadata": {},
     "output_type": "execute_result"
    }
   ],
   "source": [
    "name[-2]"
   ]
  },
  {
   "cell_type": "code",
   "execution_count": 169,
   "id": "d774b2e8-286a-4c85-9152-9a918fbbdf5b",
   "metadata": {},
   "outputs": [
    {
     "ename": "IndexError",
     "evalue": "string index out of range",
     "output_type": "error",
     "traceback": [
      "\u001b[1;31m---------------------------------------------------------------------------\u001b[0m",
      "\u001b[1;31mIndexError\u001b[0m                                Traceback (most recent call last)",
      "Cell \u001b[1;32mIn[169], line 1\u001b[0m\n\u001b[1;32m----> 1\u001b[0m name[\u001b[38;5;241m-\u001b[39m\u001b[38;5;241m6\u001b[39m]\n",
      "\u001b[1;31mIndexError\u001b[0m: string index out of range"
     ]
    }
   ],
   "source": [
    "name[-6]"
   ]
  },
  {
   "cell_type": "markdown",
   "id": "452bf9f6-ccb0-43b4-a335-e27c0599b556",
   "metadata": {},
   "source": [
    "# slicing"
   ]
  },
  {
   "cell_type": "code",
   "execution_count": 172,
   "id": "419b0185-5d9d-48d6-b1f4-214529513b1e",
   "metadata": {},
   "outputs": [
    {
     "data": {
      "text/plain": [
       "'nit'"
      ]
     },
     "execution_count": 172,
     "metadata": {},
     "output_type": "execute_result"
    }
   ],
   "source": [
    "name"
   ]
  },
  {
   "cell_type": "code",
   "execution_count": 174,
   "id": "29456ed9-ae27-4ad7-b4f2-f1273602266d",
   "metadata": {},
   "outputs": [
    {
     "data": {
      "text/plain": [
       "'n'"
      ]
     },
     "execution_count": 174,
     "metadata": {},
     "output_type": "execute_result"
    }
   ],
   "source": [
    "name[0:1]"
   ]
  },
  {
   "cell_type": "code",
   "execution_count": 176,
   "id": "0cdd7bce-eafb-4c5b-8778-98a2623d6b3e",
   "metadata": {},
   "outputs": [
    {
     "data": {
      "text/plain": [
       "'ni'"
      ]
     },
     "execution_count": 176,
     "metadata": {},
     "output_type": "execute_result"
    }
   ],
   "source": [
    "name[0:2]"
   ]
  },
  {
   "cell_type": "code",
   "execution_count": 178,
   "id": "5017907f-20b2-469c-a617-8cf3f79c6e96",
   "metadata": {},
   "outputs": [
    {
     "data": {
      "text/plain": [
       "'it'"
      ]
     },
     "execution_count": 178,
     "metadata": {},
     "output_type": "execute_result"
    }
   ],
   "source": [
    "name[1:4]"
   ]
  },
  {
   "cell_type": "code",
   "execution_count": 180,
   "id": "af9115f7-2551-4290-a356-e627d9bc2b53",
   "metadata": {},
   "outputs": [
    {
     "data": {
      "text/plain": [
       "'it'"
      ]
     },
     "execution_count": 180,
     "metadata": {},
     "output_type": "execute_result"
    }
   ],
   "source": [
    "name[1:]"
   ]
  },
  {
   "cell_type": "code",
   "execution_count": 182,
   "id": "06d40e38-022b-4080-9632-e568eb5a7af1",
   "metadata": {},
   "outputs": [
    {
     "data": {
      "text/plain": [
       "'nit'"
      ]
     },
     "execution_count": 182,
     "metadata": {},
     "output_type": "execute_result"
    }
   ],
   "source": [
    "name[:4]"
   ]
  },
  {
   "cell_type": "code",
   "execution_count": 184,
   "id": "b6fffb68-9711-4115-be66-3825f63a8d66",
   "metadata": {},
   "outputs": [
    {
     "data": {
      "text/plain": [
       "''"
      ]
     },
     "execution_count": 184,
     "metadata": {},
     "output_type": "execute_result"
    }
   ],
   "source": [
    "name[3:9]"
   ]
  },
  {
   "cell_type": "code",
   "execution_count": 186,
   "id": "010b50e5-b14b-4d9b-b85b-a8e9c9954f79",
   "metadata": {},
   "outputs": [
    {
     "data": {
      "text/plain": [
       "'nit'"
      ]
     },
     "execution_count": 186,
     "metadata": {},
     "output_type": "execute_result"
    }
   ],
   "source": [
    "name"
   ]
  },
  {
   "cell_type": "code",
   "execution_count": 188,
   "id": "a918df50-b72c-4de7-bbfa-141b195d6753",
   "metadata": {},
   "outputs": [
    {
     "data": {
      "text/plain": [
       "'fine'"
      ]
     },
     "execution_count": 188,
     "metadata": {},
     "output_type": "execute_result"
    }
   ],
   "source": [
    "name1 = 'fine'\n",
    "name1"
   ]
  },
  {
   "cell_type": "code",
   "execution_count": 190,
   "id": "7161c803-5c5e-41c3-80ff-4d02eddc6512",
   "metadata": {},
   "outputs": [
    {
     "data": {
      "text/plain": [
       "'f'"
      ]
     },
     "execution_count": 190,
     "metadata": {},
     "output_type": "execute_result"
    }
   ],
   "source": [
    "name1[0:1]"
   ]
  },
  {
   "cell_type": "code",
   "execution_count": 192,
   "id": "3d189040-52ff-4268-a5b8-e117ea6f8429",
   "metadata": {},
   "outputs": [
    {
     "ename": "TypeError",
     "evalue": "'str' object does not support item assignment",
     "output_type": "error",
     "traceback": [
      "\u001b[1;31m---------------------------------------------------------------------------\u001b[0m",
      "\u001b[1;31mTypeError\u001b[0m                                 Traceback (most recent call last)",
      "Cell \u001b[1;32mIn[192], line 1\u001b[0m\n\u001b[1;32m----> 1\u001b[0m name1[\u001b[38;5;241m0\u001b[39m:\u001b[38;5;241m1\u001b[39m] \u001b[38;5;241m=\u001b[39m \u001b[38;5;124m'\u001b[39m\u001b[38;5;124md\u001b[39m\u001b[38;5;124m'\u001b[39m\n",
      "\u001b[1;31mTypeError\u001b[0m: 'str' object does not support item assignment"
     ]
    }
   ],
   "source": [
    "name1[0:1] = 'd'"
   ]
  },
  {
   "cell_type": "code",
   "execution_count": 194,
   "id": "a68f2c3b-135d-4bd7-b1a7-193e9cbf95e4",
   "metadata": {},
   "outputs": [
    {
     "ename": "TypeError",
     "evalue": "'str' object does not support item assignment",
     "output_type": "error",
     "traceback": [
      "\u001b[1;31m---------------------------------------------------------------------------\u001b[0m",
      "\u001b[1;31mTypeError\u001b[0m                                 Traceback (most recent call last)",
      "Cell \u001b[1;32mIn[194], line 1\u001b[0m\n\u001b[1;32m----> 1\u001b[0m name1[\u001b[38;5;241m0\u001b[39m] \u001b[38;5;241m=\u001b[39m \u001b[38;5;124m'\u001b[39m\u001b[38;5;124md\u001b[39m\u001b[38;5;124m'\u001b[39m\n",
      "\u001b[1;31mTypeError\u001b[0m: 'str' object does not support item assignment"
     ]
    }
   ],
   "source": [
    "name1[0] = 'd'"
   ]
  },
  {
   "cell_type": "code",
   "execution_count": 196,
   "id": "48e360bd-6036-4201-b2f0-b7245c1c3b10",
   "metadata": {},
   "outputs": [
    {
     "data": {
      "text/plain": [
       "'fine'"
      ]
     },
     "execution_count": 196,
     "metadata": {},
     "output_type": "execute_result"
    }
   ],
   "source": [
    "name1"
   ]
  },
  {
   "cell_type": "code",
   "execution_count": 198,
   "id": "26365718-f13f-4c40-8af0-bf7553cf0578",
   "metadata": {},
   "outputs": [
    {
     "data": {
      "text/plain": [
       "'ine'"
      ]
     },
     "execution_count": 198,
     "metadata": {},
     "output_type": "execute_result"
    }
   ],
   "source": [
    "name1[1:]"
   ]
  },
  {
   "cell_type": "code",
   "execution_count": 200,
   "id": "fb939a21-21bf-44fa-acfb-4d4835c7029b",
   "metadata": {},
   "outputs": [
    {
     "data": {
      "text/plain": [
       "'dine'"
      ]
     },
     "execution_count": 200,
     "metadata": {},
     "output_type": "execute_result"
    }
   ],
   "source": [
    "'d' + name1[1:]"
   ]
  },
  {
   "cell_type": "code",
   "execution_count": 202,
   "id": "8ff9ffbf-4bbc-450a-80d1-ea3c8fa05e63",
   "metadata": {},
   "outputs": [
    {
     "ename": "NameError",
     "evalue": "name 'num1' is not defined",
     "output_type": "error",
     "traceback": [
      "\u001b[1;31m---------------------------------------------------------------------------\u001b[0m",
      "\u001b[1;31mNameError\u001b[0m                                 Traceback (most recent call last)",
      "Cell \u001b[1;32mIn[202], line 1\u001b[0m\n\u001b[1;32m----> 1\u001b[0m num1\u001b[38;5;241m.\u001b[39minsert(\u001b[38;5;241m2\u001b[39m,\u001b[38;5;124m'\u001b[39m\u001b[38;5;124mnit\u001b[39m\u001b[38;5;124m'\u001b[39m)\n",
      "\u001b[1;31mNameError\u001b[0m: name 'num1' is not defined"
     ]
    }
   ],
   "source": [
    "num1.insert(2,'nit')"
   ]
  },
  {
   "cell_type": "markdown",
   "id": "37f9eac9-2e79-4f6f-8827-329e26b408ba",
   "metadata": {},
   "source": [
    "# id()"
   ]
  },
  {
   "cell_type": "code",
   "execution_count": 205,
   "id": "4d9a1a5e-af7c-408a-ab6a-9babf77b7697",
   "metadata": {},
   "outputs": [
    {
     "data": {
      "text/plain": [
       "140712328374840"
      ]
     },
     "execution_count": 205,
     "metadata": {},
     "output_type": "execute_result"
    }
   ],
   "source": [
    "num = 5\n",
    "id(num)"
   ]
  },
  {
   "cell_type": "code",
   "execution_count": 207,
   "id": "c69d3ffb-7f46-464a-a98d-da11fb0ee56a",
   "metadata": {},
   "outputs": [
    {
     "data": {
      "text/plain": [
       "2381740757552"
      ]
     },
     "execution_count": 207,
     "metadata": {},
     "output_type": "execute_result"
    }
   ],
   "source": [
    "name ='nit'\n",
    "id(name)"
   ]
  },
  {
   "cell_type": "code",
   "execution_count": 209,
   "id": "5c5b92ba-8b26-444a-9202-61cad12ba1c3",
   "metadata": {},
   "outputs": [
    {
     "data": {
      "text/plain": [
       "140712328375000"
      ]
     },
     "execution_count": 209,
     "metadata": {},
     "output_type": "execute_result"
    }
   ],
   "source": [
    "a=10\n",
    "id(a)"
   ]
  },
  {
   "cell_type": "code",
   "execution_count": 211,
   "id": "a49e4676-f6e6-4ee2-9bbf-024830f21356",
   "metadata": {},
   "outputs": [],
   "source": [
    "b=a"
   ]
  },
  {
   "cell_type": "code",
   "execution_count": 213,
   "id": "51a58fff-f256-4f14-ba75-3e757b7f828d",
   "metadata": {},
   "outputs": [
    {
     "data": {
      "text/plain": [
       "140712328375000"
      ]
     },
     "execution_count": 213,
     "metadata": {},
     "output_type": "execute_result"
    }
   ],
   "source": [
    "id(b)"
   ]
  },
  {
   "cell_type": "code",
   "execution_count": 215,
   "id": "890fd809-5410-4a54-9411-566fa3762e61",
   "metadata": {},
   "outputs": [
    {
     "data": {
      "text/plain": [
       "140712328375000"
      ]
     },
     "execution_count": 215,
     "metadata": {},
     "output_type": "execute_result"
    }
   ],
   "source": [
    "id(10)"
   ]
  },
  {
   "cell_type": "code",
   "execution_count": 217,
   "id": "0a5417b4-2d71-4b0d-ab60-ac46fa39ebd0",
   "metadata": {},
   "outputs": [
    {
     "data": {
      "text/plain": [
       "140712328375000"
      ]
     },
     "execution_count": 217,
     "metadata": {},
     "output_type": "execute_result"
    }
   ],
   "source": [
    "k=10\n",
    "id(k)"
   ]
  },
  {
   "cell_type": "code",
   "execution_count": 219,
   "id": "22674e98-15a3-424c-825c-d66676da9d9c",
   "metadata": {},
   "outputs": [],
   "source": [
    "a=20"
   ]
  },
  {
   "cell_type": "code",
   "execution_count": 221,
   "id": "d54414a3-d434-414a-821f-145ba0b05f0a",
   "metadata": {},
   "outputs": [
    {
     "data": {
      "text/plain": [
       "140712328375320"
      ]
     },
     "execution_count": 221,
     "metadata": {},
     "output_type": "execute_result"
    }
   ],
   "source": [
    "id(a)"
   ]
  },
  {
   "cell_type": "code",
   "execution_count": 223,
   "id": "3f196990-de01-44a7-83e4-71d65940617a",
   "metadata": {},
   "outputs": [
    {
     "data": {
      "text/plain": [
       "140712328375000"
      ]
     },
     "execution_count": 223,
     "metadata": {},
     "output_type": "execute_result"
    }
   ],
   "source": [
    "id(b)"
   ]
  },
  {
   "cell_type": "code",
   "execution_count": 225,
   "id": "3f139f19-b30f-4a5c-b103-c5e671a48546",
   "metadata": {},
   "outputs": [
    {
     "data": {
      "text/plain": [
       "3.14"
      ]
     },
     "execution_count": 225,
     "metadata": {},
     "output_type": "execute_result"
    }
   ],
   "source": [
    "PI = 3.14\n",
    "PI"
   ]
  },
  {
   "cell_type": "code",
   "execution_count": 227,
   "id": "4a4524cb-dfb5-4705-ac71-99a6b056b2d0",
   "metadata": {},
   "outputs": [
    {
     "data": {
      "text/plain": [
       "3.15"
      ]
     },
     "execution_count": 227,
     "metadata": {},
     "output_type": "execute_result"
    }
   ],
   "source": [
    "PI =3.15\n",
    "PI"
   ]
  },
  {
   "cell_type": "code",
   "execution_count": 229,
   "id": "8fe969b8-4864-4726-8b67-2f678732fd38",
   "metadata": {},
   "outputs": [
    {
     "data": {
      "text/plain": [
       "float"
      ]
     },
     "execution_count": 229,
     "metadata": {},
     "output_type": "execute_result"
    }
   ],
   "source": [
    "type(PI)"
   ]
  },
  {
   "cell_type": "markdown",
   "id": "45e42b40-2636-4e4f-a7db-35a1329ebcee",
   "metadata": {},
   "source": [
    "# operator"
   ]
  },
  {
   "cell_type": "markdown",
   "id": "f47debf6-5394-4d3b-9f65-bfdaa8abc6de",
   "metadata": {},
   "source": [
    "# arithematic "
   ]
  },
  {
   "cell_type": "code",
   "execution_count": 233,
   "id": "24a864e3-00f0-4522-842c-ea4e67754962",
   "metadata": {},
   "outputs": [],
   "source": [
    "x1,y1 = 10,5"
   ]
  },
  {
   "cell_type": "code",
   "execution_count": 235,
   "id": "ee754b1c-e00e-4ef3-8d29-1cb8b196b468",
   "metadata": {},
   "outputs": [
    {
     "data": {
      "text/plain": [
       "15"
      ]
     },
     "execution_count": 235,
     "metadata": {},
     "output_type": "execute_result"
    }
   ],
   "source": [
    "x1^y1"
   ]
  },
  {
   "cell_type": "code",
   "execution_count": 237,
   "id": "2291f8b0-d57a-421d-adb3-a330b348690a",
   "metadata": {},
   "outputs": [
    {
     "data": {
      "text/plain": [
       "15"
      ]
     },
     "execution_count": 237,
     "metadata": {},
     "output_type": "execute_result"
    }
   ],
   "source": [
    "x1+y1"
   ]
  },
  {
   "cell_type": "code",
   "execution_count": 239,
   "id": "a0e44913-cff6-425b-a502-6aa60a147c71",
   "metadata": {},
   "outputs": [
    {
     "data": {
      "text/plain": [
       "5"
      ]
     },
     "execution_count": 239,
     "metadata": {},
     "output_type": "execute_result"
    }
   ],
   "source": [
    "x1-y1"
   ]
  },
  {
   "cell_type": "code",
   "execution_count": 241,
   "id": "7e99d4b9-55f6-4eba-a338-6f67c3e83024",
   "metadata": {},
   "outputs": [
    {
     "data": {
      "text/plain": [
       "50"
      ]
     },
     "execution_count": 241,
     "metadata": {},
     "output_type": "execute_result"
    }
   ],
   "source": [
    "x1*y1"
   ]
  },
  {
   "cell_type": "code",
   "execution_count": 243,
   "id": "e80e0aa5-dae4-4283-adec-3aa73d2b4736",
   "metadata": {},
   "outputs": [
    {
     "data": {
      "text/plain": [
       "2.0"
      ]
     },
     "execution_count": 243,
     "metadata": {},
     "output_type": "execute_result"
    }
   ],
   "source": [
    "x1/y1"
   ]
  },
  {
   "cell_type": "code",
   "execution_count": 245,
   "id": "262f0cd8-cf2a-4ad5-8484-7aa4ca7ac4b6",
   "metadata": {},
   "outputs": [
    {
     "data": {
      "text/plain": [
       "2"
      ]
     },
     "execution_count": 245,
     "metadata": {},
     "output_type": "execute_result"
    }
   ],
   "source": [
    "x1//y1"
   ]
  },
  {
   "cell_type": "code",
   "execution_count": 247,
   "id": "17b6ff10-9a3c-42a4-acfa-a1d199fa7a77",
   "metadata": {},
   "outputs": [
    {
     "data": {
      "text/plain": [
       "0"
      ]
     },
     "execution_count": 247,
     "metadata": {},
     "output_type": "execute_result"
    }
   ],
   "source": [
    "x1%y1"
   ]
  },
  {
   "cell_type": "code",
   "execution_count": 249,
   "id": "36208cf2-5541-4fdf-a091-11a60d739d81",
   "metadata": {},
   "outputs": [
    {
     "data": {
      "text/plain": [
       "100000"
      ]
     },
     "execution_count": 249,
     "metadata": {},
     "output_type": "execute_result"
    }
   ],
   "source": [
    "x1**y1"
   ]
  },
  {
   "cell_type": "code",
   "execution_count": 251,
   "id": "f809c2d6-39b7-4d27-931e-5a9151578b1d",
   "metadata": {},
   "outputs": [
    {
     "data": {
      "text/plain": [
       "9"
      ]
     },
     "execution_count": 251,
     "metadata": {},
     "output_type": "execute_result"
    }
   ],
   "source": [
    "x2 =3\n",
    "y2 =2\n",
    "x2**y2"
   ]
  },
  {
   "cell_type": "markdown",
   "id": "6a425e54-c1ed-418e-b4bd-248236ae7aa8",
   "metadata": {},
   "source": [
    "# assignment oper"
   ]
  },
  {
   "cell_type": "code",
   "execution_count": 264,
   "id": "20790d6a-cfc9-4e54-a865-439e82c748ad",
   "metadata": {},
   "outputs": [
    {
     "data": {
      "text/plain": [
       "2"
      ]
     },
     "execution_count": 264,
     "metadata": {},
     "output_type": "execute_result"
    }
   ],
   "source": [
    "x=2\n",
    "x"
   ]
  },
  {
   "cell_type": "code",
   "execution_count": 266,
   "id": "f80fa9b1-08b3-4951-8daf-29834dfbf121",
   "metadata": {},
   "outputs": [],
   "source": [
    "x=x+2"
   ]
  },
  {
   "cell_type": "code",
   "execution_count": 268,
   "id": "72020c86-54f4-4c71-b171-50530a97db24",
   "metadata": {},
   "outputs": [
    {
     "data": {
      "text/plain": [
       "4"
      ]
     },
     "execution_count": 268,
     "metadata": {},
     "output_type": "execute_result"
    }
   ],
   "source": [
    "x"
   ]
  },
  {
   "cell_type": "code",
   "execution_count": 270,
   "id": "0a54096a-8c45-405d-8666-3197e4febaf3",
   "metadata": {},
   "outputs": [
    {
     "data": {
      "text/plain": [
       "6"
      ]
     },
     "execution_count": 270,
     "metadata": {},
     "output_type": "execute_result"
    }
   ],
   "source": [
    "x+=2\n",
    "x"
   ]
  },
  {
   "cell_type": "code",
   "execution_count": 272,
   "id": "89a66774-745b-4f1e-9d9e-d32075367154",
   "metadata": {},
   "outputs": [
    {
     "data": {
      "text/plain": [
       "8"
      ]
     },
     "execution_count": 272,
     "metadata": {},
     "output_type": "execute_result"
    }
   ],
   "source": [
    "x+=2\n",
    "x"
   ]
  },
  {
   "cell_type": "code",
   "execution_count": 274,
   "id": "cff9b057-2a81-4a57-99e4-6d9b62c60ba5",
   "metadata": {},
   "outputs": [
    {
     "data": {
      "text/plain": [
       "16"
      ]
     },
     "execution_count": 274,
     "metadata": {},
     "output_type": "execute_result"
    }
   ],
   "source": [
    "x*=2\n",
    "x"
   ]
  },
  {
   "cell_type": "code",
   "execution_count": 276,
   "id": "9d735d65-ebd4-4a1a-a661-e895bcd289e4",
   "metadata": {},
   "outputs": [
    {
     "data": {
      "text/plain": [
       "14"
      ]
     },
     "execution_count": 276,
     "metadata": {},
     "output_type": "execute_result"
    }
   ],
   "source": [
    "x-=2\n",
    "x"
   ]
  },
  {
   "cell_type": "code",
   "execution_count": 278,
   "id": "2d4dd1b1-11e1-495f-8c52-f88cb62ffe25",
   "metadata": {},
   "outputs": [
    {
     "data": {
      "text/plain": [
       "7.0"
      ]
     },
     "execution_count": 278,
     "metadata": {},
     "output_type": "execute_result"
    }
   ],
   "source": [
    "x/=2\n",
    "x"
   ]
  },
  {
   "cell_type": "code",
   "execution_count": 282,
   "id": "64400679-46ff-4396-842d-4fab1a24e4a1",
   "metadata": {},
   "outputs": [
    {
     "data": {
      "text/plain": [
       "1.0"
      ]
     },
     "execution_count": 282,
     "metadata": {},
     "output_type": "execute_result"
    }
   ],
   "source": [
    "x//=2\n",
    "x"
   ]
  },
  {
   "cell_type": "code",
   "execution_count": 284,
   "id": "7a09a2ff-c28e-4875-9f0d-5f022e81d469",
   "metadata": {},
   "outputs": [],
   "source": [
    "a,b =5,6"
   ]
  },
  {
   "cell_type": "code",
   "execution_count": 286,
   "id": "b7126db0-2be0-4be5-b599-09efa36ee4e1",
   "metadata": {},
   "outputs": [
    {
     "data": {
      "text/plain": [
       "5"
      ]
     },
     "execution_count": 286,
     "metadata": {},
     "output_type": "execute_result"
    }
   ],
   "source": [
    "a"
   ]
  },
  {
   "cell_type": "code",
   "execution_count": 288,
   "id": "feca4261-0184-4269-9def-de1c037881e3",
   "metadata": {},
   "outputs": [
    {
     "data": {
      "text/plain": [
       "6"
      ]
     },
     "execution_count": 288,
     "metadata": {},
     "output_type": "execute_result"
    }
   ],
   "source": [
    "b"
   ]
  },
  {
   "cell_type": "markdown",
   "id": "d533906c-38ba-4976-a6f1-4e41b1f968b8",
   "metadata": {},
   "source": [
    "# unary oper"
   ]
  },
  {
   "cell_type": "code",
   "execution_count": 294,
   "id": "d9b2ad31-cf3b-440c-a28d-95e51671831c",
   "metadata": {},
   "outputs": [
    {
     "data": {
      "text/plain": [
       "7"
      ]
     },
     "execution_count": 294,
     "metadata": {},
     "output_type": "execute_result"
    }
   ],
   "source": [
    "n=7\n",
    "n"
   ]
  },
  {
   "cell_type": "code",
   "execution_count": 296,
   "id": "a5681a4b-c3fb-400f-8a42-24bf7af62ff1",
   "metadata": {},
   "outputs": [
    {
     "data": {
      "text/plain": [
       "-7"
      ]
     },
     "execution_count": 296,
     "metadata": {},
     "output_type": "execute_result"
    }
   ],
   "source": [
    "m=-(n)\n",
    "m"
   ]
  },
  {
   "cell_type": "code",
   "execution_count": 298,
   "id": "6f22ef3f-1454-41c6-8c9c-25a83b3bb417",
   "metadata": {},
   "outputs": [
    {
     "data": {
      "text/plain": [
       "7"
      ]
     },
     "execution_count": 298,
     "metadata": {},
     "output_type": "execute_result"
    }
   ],
   "source": [
    "n"
   ]
  },
  {
   "cell_type": "code",
   "execution_count": 300,
   "id": "8427c5b1-8017-4603-8ab3-7b474e792042",
   "metadata": {},
   "outputs": [
    {
     "data": {
      "text/plain": [
       "-7"
      ]
     },
     "execution_count": 300,
     "metadata": {},
     "output_type": "execute_result"
    }
   ],
   "source": [
    "-n"
   ]
  },
  {
   "cell_type": "markdown",
   "id": "a95367f3-1d81-475c-8b46-07b65950b32f",
   "metadata": {},
   "source": [
    "# relational oper"
   ]
  },
  {
   "cell_type": "code",
   "execution_count": 306,
   "id": "1c5f5a5e-7883-4cf1-96a9-508be21987f8",
   "metadata": {},
   "outputs": [],
   "source": [
    "a=5\n",
    "b=6"
   ]
  },
  {
   "cell_type": "code",
   "execution_count": 308,
   "id": "c6be6481-9f8e-49e4-8e9c-c4885f5375a6",
   "metadata": {},
   "outputs": [
    {
     "data": {
      "text/plain": [
       "True"
      ]
     },
     "execution_count": 308,
     "metadata": {},
     "output_type": "execute_result"
    }
   ],
   "source": [
    "a<b"
   ]
  },
  {
   "cell_type": "code",
   "execution_count": 310,
   "id": "bda43dea-7354-44f4-8843-dd63d29b7796",
   "metadata": {},
   "outputs": [
    {
     "data": {
      "text/plain": [
       "False"
      ]
     },
     "execution_count": 310,
     "metadata": {},
     "output_type": "execute_result"
    }
   ],
   "source": [
    "a>b"
   ]
  },
  {
   "cell_type": "code",
   "execution_count": 312,
   "id": "f5e38680-e3b4-4db7-96a1-fdbe600ea1ea",
   "metadata": {},
   "outputs": [
    {
     "data": {
      "text/plain": [
       "False"
      ]
     },
     "execution_count": 312,
     "metadata": {},
     "output_type": "execute_result"
    }
   ],
   "source": [
    "a==b"
   ]
  },
  {
   "cell_type": "code",
   "execution_count": 314,
   "id": "812663a6-2cf0-4e19-9f25-3d292fa6ce44",
   "metadata": {},
   "outputs": [
    {
     "data": {
      "text/plain": [
       "True"
      ]
     },
     "execution_count": 314,
     "metadata": {},
     "output_type": "execute_result"
    }
   ],
   "source": [
    "a!=b"
   ]
  },
  {
   "cell_type": "code",
   "execution_count": 316,
   "id": "923266e8-90f6-40be-bbb5-524e7dc7704c",
   "metadata": {},
   "outputs": [],
   "source": [
    "b=5"
   ]
  },
  {
   "cell_type": "code",
   "execution_count": 318,
   "id": "ee479693-370d-433f-a806-7a391c5c32a1",
   "metadata": {},
   "outputs": [
    {
     "data": {
      "text/plain": [
       "True"
      ]
     },
     "execution_count": 318,
     "metadata": {},
     "output_type": "execute_result"
    }
   ],
   "source": [
    "a==b"
   ]
  },
  {
   "cell_type": "code",
   "execution_count": null,
   "id": "876c9fd2-ca42-4a55-8ae9-6f475cbc736d",
   "metadata": {},
   "outputs": [],
   "source": [
    "a"
   ]
  },
  {
   "cell_type": "code",
   "execution_count": null,
   "id": "e90f0f9a-7b9e-4d0e-9768-d53605448e14",
   "metadata": {},
   "outputs": [],
   "source": [
    "b"
   ]
  },
  {
   "cell_type": "code",
   "execution_count": null,
   "id": "67a59481-3282-4ac5-b6d7-288f34b859c9",
   "metadata": {},
   "outputs": [],
   "source": [
    "a>=b"
   ]
  },
  {
   "cell_type": "code",
   "execution_count": null,
   "id": "751ba721-0d0e-4409-9363-25744222b959",
   "metadata": {},
   "outputs": [],
   "source": [
    "a<=b"
   ]
  },
  {
   "cell_type": "code",
   "execution_count": null,
   "id": "e626728a-d7bb-4fe6-8acb-6eae47c1373d",
   "metadata": {},
   "outputs": [],
   "source": [
    "a<b"
   ]
  },
  {
   "cell_type": "code",
   "execution_count": null,
   "id": "540df062-26d0-4f45-a081-fb69ff710bfd",
   "metadata": {},
   "outputs": [],
   "source": [
    "a>b"
   ]
  },
  {
   "cell_type": "code",
   "execution_count": null,
   "id": "4607bf4c-265d-4d69-979b-bd8296db5efc",
   "metadata": {},
   "outputs": [],
   "source": [
    "b=7"
   ]
  },
  {
   "cell_type": "code",
   "execution_count": null,
   "id": "a98e8e09-1ac5-4c29-ad18-a622f1a77e1e",
   "metadata": {},
   "outputs": [],
   "source": [
    "a!=b"
   ]
  },
  {
   "cell_type": "code",
   "execution_count": null,
   "id": "7c4fe8f2-bef0-4a65-a10a-659b585e779c",
   "metadata": {},
   "outputs": [],
   "source": [
    "# logical oper"
   ]
  },
  {
   "cell_type": "code",
   "execution_count": null,
   "id": "ea197e7e-1750-4d39-abcf-b538d4ca1c4b",
   "metadata": {},
   "outputs": [],
   "source": [
    "a= 5\n",
    "b=4"
   ]
  },
  {
   "cell_type": "code",
   "execution_count": null,
   "id": "892d8d81-0fec-400f-ad25-a6769ea0ac55",
   "metadata": {},
   "outputs": [],
   "source": [
    "a<8 and b<5"
   ]
  },
  {
   "cell_type": "code",
   "execution_count": null,
   "id": "4d3a52c8-7a3a-4396-b187-a0272e7d2d73",
   "metadata": {},
   "outputs": [],
   "source": [
    "a<8 and b<2"
   ]
  },
  {
   "cell_type": "code",
   "execution_count": null,
   "id": "e804bf3b-8ee4-40a3-8df1-5b3f9c4ac889",
   "metadata": {},
   "outputs": [],
   "source": [
    "a<8 or b<2"
   ]
  },
  {
   "cell_type": "code",
   "execution_count": null,
   "id": "c3c16fa4-96b0-49c8-b9a6-f9258aa4f638",
   "metadata": {},
   "outputs": [],
   "source": [
    "a>8 or b<2"
   ]
  },
  {
   "cell_type": "code",
   "execution_count": null,
   "id": "8f685c2e-7e16-4a01-8a5e-0d03dc0bfafa",
   "metadata": {},
   "outputs": [],
   "source": [
    "x = False\n",
    "x"
   ]
  },
  {
   "cell_type": "code",
   "execution_count": null,
   "id": "659ffd90-e42e-4ef3-a87a-f0410857a986",
   "metadata": {},
   "outputs": [],
   "source": [
    "not x"
   ]
  }
 ],
 "metadata": {
  "kernelspec": {
   "display_name": "Python [conda env:base] *",
   "language": "python",
   "name": "conda-base-py"
  },
  "language_info": {
   "codemirror_mode": {
    "name": "ipython",
    "version": 3
   },
   "file_extension": ".py",
   "mimetype": "text/x-python",
   "name": "python",
   "nbconvert_exporter": "python",
   "pygments_lexer": "ipython3",
   "version": "3.12.7"
  }
 },
 "nbformat": 4,
 "nbformat_minor": 5
}
