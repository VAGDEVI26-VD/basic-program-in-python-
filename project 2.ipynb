{
 "cells": [
  {
   "cell_type": "code",
   "execution_count": 3,
   "id": "96987ebd-c3ac-4eab-b900-7cbbebd19a1a",
   "metadata": {},
   "outputs": [],
   "source": [
    "import numpy as np\n",
    "\n",
    "#Seasons\n",
    "Seasons = [\"2010\",\"2011\",\"2012\",\"2013\",\"2014\",\"2015\",\"2016\",\"2017\",\"2018\",\"2019\"]\n",
    "Sdict = {\"2010\":0,\"2011\":1,\"2012\":2,\"2013\":3,\"2014\":4,\"2015\":5,\"2016\":6,\"2017\":7,\"2018\":8,\"2019\":9}\n",
    "\n",
    "#Players\n",
    "Players = [\"Sachin\",\"Rahul\",\"Smith\",\"Sami\",\"Pollard\",\"Morris\",\"Samson\",\"Dhoni\",\"Kohli\",\"Sky\"]\n",
    "Pdict = {\"Sachin\":0,\"Rahul\":1,\"Smith\":2,\"Sami\":3,\"Pollard\":4,\"Morris\":5,\"Samson\":6,\"Dhoni\":7,\"Kohli\":8,\"Sky\":9}\n",
    "\n",
    "#Salaries\n",
    "Sachin_Salary = [15946875,17718750,19490625,21262500,23034375,24806250,25244493,27849149,30453805,23500000]\n",
    "Rahul_Salary = [12000000,12744189,13488377,14232567,14976754,16324500,18038573,19752645,21466718,23180790]\n",
    "Smith_Salary = [4621800,5828090,13041250,14410581,15779912,14500000,16022500,17545000,19067500,20644400]\n",
    "Sami_Salary = [3713640,4694041,13041250,14410581,15779912,17149243,18518574,19450000,22407474,22458000]\n",
    "Pollard_Salary = [4493160,4806720,6061274,13758000,15202590,16647180,18091770,19536360,20513178,21436271]\n",
    "Morris_Salary = [3348000,4235220,12455000,14410581,15779912,14500000,16022500,17545000,19067500,20644400]\n",
    "Samson_Salary = [3144240,3380160,3615960,4574189,13520500,14940153,16359805,17779458,18668431,20068563]\n",
    "Dhoni_Salary = [0,0,4171200,4484040,4796880,6053663,15506632,16669630,17832627,18995624]\n",
    "Kohli_Salary = [0,0,0,4822800,5184480,5546160,6993708,16402500,17632688,18862875]\n",
    "Sky_Salary = [3031920,3841443,13041250,14410581,15779912,14200000,15691000,17182000,18673000,15000000]\n",
    "#Matrix\n",
    "Salary = np.array([Sachin_Salary, Rahul_Salary, Smith_Salary, Sami_Salary, Pollard_Salary, Morris_Salary, Samson_Salary, Dhoni_Salary, Kohli_Salary, Sky_Salary])\n",
    "\n",
    "#Games \n",
    "Sachin_G = [80,77,82,82,73,82,58,78,6,35]\n",
    "Rahul_G = [82,57,82,79,76,72,60,72,79,80]\n",
    "Smith_G = [79,78,75,81,76,79,62,76,77,69]\n",
    "Sami_G = [80,65,77,66,69,77,55,67,77,40]\n",
    "Pollard_G = [82,82,82,79,82,78,54,76,71,41]\n",
    "Morris_G = [70,69,67,77,70,77,57,74,79,44]\n",
    "Samson_G = [78,64,80,78,45,80,60,70,62,82]\n",
    "Dhoni_G = [35,35,80,74,82,78,66,81,81,27]\n",
    "Kohli_G = [40,40,40,81,78,81,39,0,10,51]\n",
    "Sky_G = [75,51,51,79,77,76,49,69,54,62]\n",
    "#Matrix\n",
    "Games = np.array([Sachin_G, Rahul_G, Smith_G, Sami_G, Pollard_G, Morris_G, Samson_G, Dhoni_G, Kohli_G, Sky_G])\n",
    "\n",
    "#Points\n",
    "Sachin_PTS = [2832,2430,2323,2201,1970,2078,1616,2133,83,782]\n",
    "Rahul_PTS = [1653,1426,1779,1688,1619,1312,1129,1170,1245,1154]\n",
    "Smith_PTS = [2478,2132,2250,2304,2258,2111,1683,2036,2089,1743]\n",
    "Sami_PTS = [2122,1881,1978,1504,1943,1970,1245,1920,2112,966]\n",
    "Pollard_PTS = [1292,1443,1695,1624,1503,1784,1113,1296,1297,646]\n",
    "Morris_PTS = [1572,1561,1496,1746,1678,1438,1025,1232,1281,928]\n",
    "Samson_PTS = [1258,1104,1684,1781,841,1268,1189,1186,1185,1564]\n",
    "Dhoni_PTS = [903,903,1624,1871,2472,2161,1850,2280,2593,686]\n",
    "Kohli_PTS = [597,597,597,1361,1619,2026,852,0,159,904]\n",
    "Sky_PTS = [2040,1397,1254,2386,2045,1941,1082,1463,1028,1331]\n",
    "#Matrix\n",
    "Points = np.array([Sachin_PTS, Rahul_PTS, Smith_PTS, Sami_PTS, Pollard_PTS, Morris_PTS, Samson_PTS, Dhoni_PTS, Kohli_PTS, Sky_PTS])                            "
   ]
  },
  {
   "cell_type": "code",
   "execution_count": 11,
   "id": "72163514-aa8b-49b3-a3a8-67e21661e0ce",
   "metadata": {},
   "outputs": [
    {
     "data": {
      "text/plain": [
       "array([[15946875, 17718750, 19490625, 21262500, 23034375, 24806250,\n",
       "        25244493, 27849149, 30453805, 23500000],\n",
       "       [12000000, 12744189, 13488377, 14232567, 14976754, 16324500,\n",
       "        18038573, 19752645, 21466718, 23180790],\n",
       "       [ 4621800,  5828090, 13041250, 14410581, 15779912, 14500000,\n",
       "        16022500, 17545000, 19067500, 20644400],\n",
       "       [ 3713640,  4694041, 13041250, 14410581, 15779912, 17149243,\n",
       "        18518574, 19450000, 22407474, 22458000],\n",
       "       [ 4493160,  4806720,  6061274, 13758000, 15202590, 16647180,\n",
       "        18091770, 19536360, 20513178, 21436271],\n",
       "       [ 3348000,  4235220, 12455000, 14410581, 15779912, 14500000,\n",
       "        16022500, 17545000, 19067500, 20644400],\n",
       "       [ 3144240,  3380160,  3615960,  4574189, 13520500, 14940153,\n",
       "        16359805, 17779458, 18668431, 20068563],\n",
       "       [       0,        0,  4171200,  4484040,  4796880,  6053663,\n",
       "        15506632, 16669630, 17832627, 18995624],\n",
       "       [       0,        0,        0,  4822800,  5184480,  5546160,\n",
       "         6993708, 16402500, 17632688, 18862875],\n",
       "       [ 3031920,  3841443, 13041250, 14410581, 15779912, 14200000,\n",
       "        15691000, 17182000, 18673000, 15000000]])"
      ]
     },
     "execution_count": 11,
     "metadata": {},
     "output_type": "execute_result"
    }
   ],
   "source": [
    "Salary   # matrix format"
   ]
  },
  {
   "cell_type": "code",
   "execution_count": 9,
   "id": "ec3aa11b-a9de-4a12-838b-007d3842b782",
   "metadata": {},
   "outputs": [
    {
     "data": {
      "text/plain": [
       "array([[80, 77, 82, 82, 73, 82, 58, 78,  6, 35],\n",
       "       [82, 57, 82, 79, 76, 72, 60, 72, 79, 80],\n",
       "       [79, 78, 75, 81, 76, 79, 62, 76, 77, 69],\n",
       "       [80, 65, 77, 66, 69, 77, 55, 67, 77, 40],\n",
       "       [82, 82, 82, 79, 82, 78, 54, 76, 71, 41],\n",
       "       [70, 69, 67, 77, 70, 77, 57, 74, 79, 44],\n",
       "       [78, 64, 80, 78, 45, 80, 60, 70, 62, 82],\n",
       "       [35, 35, 80, 74, 82, 78, 66, 81, 81, 27],\n",
       "       [40, 40, 40, 81, 78, 81, 39,  0, 10, 51],\n",
       "       [75, 51, 51, 79, 77, 76, 49, 69, 54, 62]])"
      ]
     },
     "execution_count": 9,
     "metadata": {},
     "output_type": "execute_result"
    }
   ],
   "source": [
    "Games"
   ]
  },
  {
   "cell_type": "code",
   "execution_count": 15,
   "id": "6105166f-0728-4299-ae0e-144cdb4e2669",
   "metadata": {},
   "outputs": [
    {
     "data": {
      "text/plain": [
       "array([[2832, 2430, 2323, 2201, 1970, 2078, 1616, 2133,   83,  782],\n",
       "       [1653, 1426, 1779, 1688, 1619, 1312, 1129, 1170, 1245, 1154],\n",
       "       [2478, 2132, 2250, 2304, 2258, 2111, 1683, 2036, 2089, 1743],\n",
       "       [2122, 1881, 1978, 1504, 1943, 1970, 1245, 1920, 2112,  966],\n",
       "       [1292, 1443, 1695, 1624, 1503, 1784, 1113, 1296, 1297,  646],\n",
       "       [1572, 1561, 1496, 1746, 1678, 1438, 1025, 1232, 1281,  928],\n",
       "       [1258, 1104, 1684, 1781,  841, 1268, 1189, 1186, 1185, 1564],\n",
       "       [ 903,  903, 1624, 1871, 2472, 2161, 1850, 2280, 2593,  686],\n",
       "       [ 597,  597,  597, 1361, 1619, 2026,  852,    0,  159,  904],\n",
       "       [2040, 1397, 1254, 2386, 2045, 1941, 1082, 1463, 1028, 1331]])"
      ]
     },
     "execution_count": 15,
     "metadata": {},
     "output_type": "execute_result"
    }
   ],
   "source": [
    "Points"
   ]
  },
  {
   "cell_type": "code",
   "execution_count": 17,
   "id": "a2617981-00b9-4d7b-bf8b-ad4afff048c6",
   "metadata": {},
   "outputs": [
    {
     "data": {
      "text/plain": [
       "array([[80, 77, 82, 82, 73, 82, 58, 78,  6, 35],\n",
       "       [82, 57, 82, 79, 76, 72, 60, 72, 79, 80],\n",
       "       [79, 78, 75, 81, 76, 79, 62, 76, 77, 69],\n",
       "       [80, 65, 77, 66, 69, 77, 55, 67, 77, 40],\n",
       "       [82, 82, 82, 79, 82, 78, 54, 76, 71, 41],\n",
       "       [70, 69, 67, 77, 70, 77, 57, 74, 79, 44],\n",
       "       [78, 64, 80, 78, 45, 80, 60, 70, 62, 82],\n",
       "       [35, 35, 80, 74, 82, 78, 66, 81, 81, 27],\n",
       "       [40, 40, 40, 81, 78, 81, 39,  0, 10, 51],\n",
       "       [75, 51, 51, 79, 77, 76, 49, 69, 54, 62]])"
      ]
     },
     "execution_count": 17,
     "metadata": {},
     "output_type": "execute_result"
    }
   ],
   "source": [
    "Games"
   ]
  },
  {
   "cell_type": "code",
   "execution_count": 19,
   "id": "d078e1ea-43a9-4b2a-8729-97947d408895",
   "metadata": {},
   "outputs": [
    {
     "data": {
      "text/plain": [
       "array([70, 69, 67, 77, 70, 77, 57, 74, 79, 44])"
      ]
     },
     "execution_count": 19,
     "metadata": {},
     "output_type": "execute_result"
    }
   ],
   "source": [
    "Games[5]"
   ]
  },
  {
   "cell_type": "code",
   "execution_count": 21,
   "id": "00fc9ce1-b902-4816-aa53-1409efa693b1",
   "metadata": {},
   "outputs": [
    {
     "data": {
      "text/plain": [
       "array([[80, 77, 82, 82, 73, 82, 58, 78,  6, 35],\n",
       "       [82, 57, 82, 79, 76, 72, 60, 72, 79, 80],\n",
       "       [79, 78, 75, 81, 76, 79, 62, 76, 77, 69],\n",
       "       [80, 65, 77, 66, 69, 77, 55, 67, 77, 40],\n",
       "       [82, 82, 82, 79, 82, 78, 54, 76, 71, 41]])"
      ]
     },
     "execution_count": 21,
     "metadata": {},
     "output_type": "execute_result"
    }
   ],
   "source": [
    "Games[0:5]"
   ]
  },
  {
   "cell_type": "code",
   "execution_count": 23,
   "id": "9af99f5d-0677-473b-a03a-a0ec052a63e4",
   "metadata": {},
   "outputs": [
    {
     "data": {
      "text/plain": [
       "82"
      ]
     },
     "execution_count": 23,
     "metadata": {},
     "output_type": "execute_result"
    }
   ],
   "source": [
    "Games[0,5]"
   ]
  },
  {
   "cell_type": "code",
   "execution_count": 25,
   "id": "ae6f9567-0f87-4ef0-8bd7-b208bc81f7d9",
   "metadata": {},
   "outputs": [
    {
     "data": {
      "text/plain": [
       "array([[82, 57, 82, 79, 76, 72, 60, 72, 79, 80]])"
      ]
     },
     "execution_count": 25,
     "metadata": {},
     "output_type": "execute_result"
    }
   ],
   "source": [
    "Games[1:2]"
   ]
  },
  {
   "cell_type": "code",
   "execution_count": 27,
   "id": "9fb1f367-8fe8-4b6d-b004-1596d395507a",
   "metadata": {},
   "outputs": [
    {
     "data": {
      "text/plain": [
       "array([[2832, 2430, 2323, 2201, 1970, 2078, 1616, 2133,   83,  782],\n",
       "       [1653, 1426, 1779, 1688, 1619, 1312, 1129, 1170, 1245, 1154],\n",
       "       [2478, 2132, 2250, 2304, 2258, 2111, 1683, 2036, 2089, 1743],\n",
       "       [2122, 1881, 1978, 1504, 1943, 1970, 1245, 1920, 2112,  966],\n",
       "       [1292, 1443, 1695, 1624, 1503, 1784, 1113, 1296, 1297,  646],\n",
       "       [1572, 1561, 1496, 1746, 1678, 1438, 1025, 1232, 1281,  928],\n",
       "       [1258, 1104, 1684, 1781,  841, 1268, 1189, 1186, 1185, 1564],\n",
       "       [ 903,  903, 1624, 1871, 2472, 2161, 1850, 2280, 2593,  686],\n",
       "       [ 597,  597,  597, 1361, 1619, 2026,  852,    0,  159,  904],\n",
       "       [2040, 1397, 1254, 2386, 2045, 1941, 1082, 1463, 1028, 1331]])"
      ]
     },
     "execution_count": 27,
     "metadata": {},
     "output_type": "execute_result"
    }
   ],
   "source": [
    "Points"
   ]
  },
  {
   "cell_type": "code",
   "execution_count": 29,
   "id": "9db9ed16-8b91-459d-8634-55ecd456511d",
   "metadata": {},
   "outputs": [
    {
     "data": {
      "text/plain": [
       "array([2832, 2430, 2323, 2201, 1970, 2078, 1616, 2133,   83,  782])"
      ]
     },
     "execution_count": 29,
     "metadata": {},
     "output_type": "execute_result"
    }
   ],
   "source": [
    "Points[0]"
   ]
  },
  {
   "cell_type": "code",
   "execution_count": 31,
   "id": "e1fc20f6-ae47-40fb-a37c-fbb721010df5",
   "metadata": {},
   "outputs": [
    {
     "data": {
      "text/plain": [
       "array([[2832, 2430, 2323, 2201, 1970, 2078, 1616, 2133,   83,  782],\n",
       "       [1653, 1426, 1779, 1688, 1619, 1312, 1129, 1170, 1245, 1154],\n",
       "       [2478, 2132, 2250, 2304, 2258, 2111, 1683, 2036, 2089, 1743],\n",
       "       [2122, 1881, 1978, 1504, 1943, 1970, 1245, 1920, 2112,  966],\n",
       "       [1292, 1443, 1695, 1624, 1503, 1784, 1113, 1296, 1297,  646],\n",
       "       [1572, 1561, 1496, 1746, 1678, 1438, 1025, 1232, 1281,  928],\n",
       "       [1258, 1104, 1684, 1781,  841, 1268, 1189, 1186, 1185, 1564],\n",
       "       [ 903,  903, 1624, 1871, 2472, 2161, 1850, 2280, 2593,  686],\n",
       "       [ 597,  597,  597, 1361, 1619, 2026,  852,    0,  159,  904],\n",
       "       [2040, 1397, 1254, 2386, 2045, 1941, 1082, 1463, 1028, 1331]])"
      ]
     },
     "execution_count": 31,
     "metadata": {},
     "output_type": "execute_result"
    }
   ],
   "source": [
    "Points[:]"
   ]
  },
  {
   "cell_type": "code",
   "execution_count": 33,
   "id": "52067684-4117-4d15-9f87-648b11c6f0db",
   "metadata": {},
   "outputs": [
    {
     "data": {
      "text/plain": [
       "1104"
      ]
     },
     "execution_count": 33,
     "metadata": {},
     "output_type": "execute_result"
    }
   ],
   "source": [
    "Points[6,1]"
   ]
  },
  {
   "cell_type": "code",
   "execution_count": 35,
   "id": "841a3a1c-23fa-4625-a558-f234a2de7871",
   "metadata": {},
   "outputs": [
    {
     "data": {
      "text/plain": [
       "646"
      ]
     },
     "execution_count": 35,
     "metadata": {},
     "output_type": "execute_result"
    }
   ],
   "source": [
    "Points[-6,-1]"
   ]
  },
  {
   "cell_type": "code",
   "execution_count": 39,
   "id": "f4af03e6-7365-488f-a158-da9edbf66fc6",
   "metadata": {},
   "outputs": [
    {
     "data": {
      "text/plain": [
       "array([[80, 77, 82, 82, 73, 82, 58, 78,  6, 35],\n",
       "       [82, 57, 82, 79, 76, 72, 60, 72, 79, 80],\n",
       "       [79, 78, 75, 81, 76, 79, 62, 76, 77, 69],\n",
       "       [80, 65, 77, 66, 69, 77, 55, 67, 77, 40],\n",
       "       [82, 82, 82, 79, 82, 78, 54, 76, 71, 41],\n",
       "       [70, 69, 67, 77, 70, 77, 57, 74, 79, 44],\n",
       "       [78, 64, 80, 78, 45, 80, 60, 70, 62, 82],\n",
       "       [35, 35, 80, 74, 82, 78, 66, 81, 81, 27],\n",
       "       [40, 40, 40, 81, 78, 81, 39,  0, 10, 51],\n",
       "       [75, 51, 51, 79, 77, 76, 49, 69, 54, 62]])"
      ]
     },
     "execution_count": 39,
     "metadata": {},
     "output_type": "execute_result"
    }
   ],
   "source": [
    "Games"
   ]
  },
  {
   "cell_type": "code",
   "execution_count": 41,
   "id": "11239cb2-4613-4e94-b1be-7b44774e5eb2",
   "metadata": {},
   "outputs": [
    {
     "data": {
      "text/plain": [
       "{'Sachin': 0,\n",
       " 'Rahul': 1,\n",
       " 'Smith': 2,\n",
       " 'Sami': 3,\n",
       " 'Pollard': 4,\n",
       " 'Morris': 5,\n",
       " 'Samson': 6,\n",
       " 'Dhoni': 7,\n",
       " 'Kohli': 8,\n",
       " 'Sky': 9}"
      ]
     },
     "execution_count": 41,
     "metadata": {},
     "output_type": "execute_result"
    }
   ],
   "source": [
    "Pdict"
   ]
  },
  {
   "cell_type": "code",
   "execution_count": 43,
   "id": "60365286-f7c6-4a1f-afc1-5a49a5515c03",
   "metadata": {},
   "outputs": [
    {
     "data": {
      "text/plain": [
       "0"
      ]
     },
     "execution_count": 43,
     "metadata": {},
     "output_type": "execute_result"
    }
   ],
   "source": [
    "Pdict['Sachin']"
   ]
  },
  {
   "cell_type": "code",
   "execution_count": 45,
   "id": "ecb77801-0098-4925-a481-c8820bcb0e12",
   "metadata": {},
   "outputs": [
    {
     "data": {
      "text/plain": [
       "1"
      ]
     },
     "execution_count": 45,
     "metadata": {},
     "output_type": "execute_result"
    }
   ],
   "source": [
    "Pdict['Rahul']"
   ]
  },
  {
   "cell_type": "code",
   "execution_count": 47,
   "id": "e698a09e-3b24-4694-abda-5b6618111447",
   "metadata": {},
   "outputs": [
    {
     "data": {
      "text/plain": [
       "array([82, 57, 82, 79, 76, 72, 60, 72, 79, 80])"
      ]
     },
     "execution_count": 47,
     "metadata": {},
     "output_type": "execute_result"
    }
   ],
   "source": [
    "Games[1]"
   ]
  },
  {
   "cell_type": "code",
   "execution_count": 53,
   "id": "ba68dd8b-c1fd-4588-82dd-0ecea55d00e6",
   "metadata": {},
   "outputs": [
    {
     "data": {
      "text/plain": [
       "array([82, 57, 82, 79, 76, 72, 60, 72, 79, 80])"
      ]
     },
     "execution_count": 53,
     "metadata": {},
     "output_type": "execute_result"
    }
   ],
   "source": [
    "Games[Pdict['Rahul']]    # Masking "
   ]
  },
  {
   "cell_type": "markdown",
   "id": "0516c0a6-7bee-4332-93b1-ab96aa04ffd8",
   "metadata": {},
   "source": [
    "# Games"
   ]
  },
  {
   "cell_type": "code",
   "execution_count": 56,
   "id": "1d582fbe-2ac7-4d44-a480-f1d751772af2",
   "metadata": {},
   "outputs": [
    {
     "data": {
      "text/plain": [
       "array([[2832, 2430, 2323, 2201, 1970, 2078, 1616, 2133,   83,  782],\n",
       "       [1653, 1426, 1779, 1688, 1619, 1312, 1129, 1170, 1245, 1154],\n",
       "       [2478, 2132, 2250, 2304, 2258, 2111, 1683, 2036, 2089, 1743],\n",
       "       [2122, 1881, 1978, 1504, 1943, 1970, 1245, 1920, 2112,  966],\n",
       "       [1292, 1443, 1695, 1624, 1503, 1784, 1113, 1296, 1297,  646],\n",
       "       [1572, 1561, 1496, 1746, 1678, 1438, 1025, 1232, 1281,  928],\n",
       "       [1258, 1104, 1684, 1781,  841, 1268, 1189, 1186, 1185, 1564],\n",
       "       [ 903,  903, 1624, 1871, 2472, 2161, 1850, 2280, 2593,  686],\n",
       "       [ 597,  597,  597, 1361, 1619, 2026,  852,    0,  159,  904],\n",
       "       [2040, 1397, 1254, 2386, 2045, 1941, 1082, 1463, 1028, 1331]])"
      ]
     },
     "execution_count": 56,
     "metadata": {},
     "output_type": "execute_result"
    }
   ],
   "source": [
    "Points"
   ]
  },
  {
   "cell_type": "code",
   "execution_count": 58,
   "id": "b37e23b1-b5a8-4f9d-a032-84f8316b7ca8",
   "metadata": {},
   "outputs": [
    {
     "data": {
      "text/plain": [
       "array([[15946875, 17718750, 19490625, 21262500, 23034375, 24806250,\n",
       "        25244493, 27849149, 30453805, 23500000],\n",
       "       [12000000, 12744189, 13488377, 14232567, 14976754, 16324500,\n",
       "        18038573, 19752645, 21466718, 23180790],\n",
       "       [ 4621800,  5828090, 13041250, 14410581, 15779912, 14500000,\n",
       "        16022500, 17545000, 19067500, 20644400],\n",
       "       [ 3713640,  4694041, 13041250, 14410581, 15779912, 17149243,\n",
       "        18518574, 19450000, 22407474, 22458000],\n",
       "       [ 4493160,  4806720,  6061274, 13758000, 15202590, 16647180,\n",
       "        18091770, 19536360, 20513178, 21436271],\n",
       "       [ 3348000,  4235220, 12455000, 14410581, 15779912, 14500000,\n",
       "        16022500, 17545000, 19067500, 20644400],\n",
       "       [ 3144240,  3380160,  3615960,  4574189, 13520500, 14940153,\n",
       "        16359805, 17779458, 18668431, 20068563],\n",
       "       [       0,        0,  4171200,  4484040,  4796880,  6053663,\n",
       "        15506632, 16669630, 17832627, 18995624],\n",
       "       [       0,        0,        0,  4822800,  5184480,  5546160,\n",
       "         6993708, 16402500, 17632688, 18862875],\n",
       "       [ 3031920,  3841443, 13041250, 14410581, 15779912, 14200000,\n",
       "        15691000, 17182000, 18673000, 15000000]])"
      ]
     },
     "execution_count": 58,
     "metadata": {},
     "output_type": "execute_result"
    }
   ],
   "source": [
    "Salary"
   ]
  },
  {
   "cell_type": "code",
   "execution_count": 60,
   "id": "3502dfee-5563-4c40-9c8d-1a0612003fb3",
   "metadata": {},
   "outputs": [
    {
     "data": {
      "text/plain": [
       "array([[80, 77, 82, 82, 73, 82, 58, 78,  6, 35],\n",
       "       [82, 57, 82, 79, 76, 72, 60, 72, 79, 80],\n",
       "       [79, 78, 75, 81, 76, 79, 62, 76, 77, 69],\n",
       "       [80, 65, 77, 66, 69, 77, 55, 67, 77, 40],\n",
       "       [82, 82, 82, 79, 82, 78, 54, 76, 71, 41],\n",
       "       [70, 69, 67, 77, 70, 77, 57, 74, 79, 44],\n",
       "       [78, 64, 80, 78, 45, 80, 60, 70, 62, 82],\n",
       "       [35, 35, 80, 74, 82, 78, 66, 81, 81, 27],\n",
       "       [40, 40, 40, 81, 78, 81, 39,  0, 10, 51],\n",
       "       [75, 51, 51, 79, 77, 76, 49, 69, 54, 62]])"
      ]
     },
     "execution_count": 60,
     "metadata": {},
     "output_type": "execute_result"
    }
   ],
   "source": [
    "Games"
   ]
  },
  {
   "cell_type": "code",
   "execution_count": 64,
   "id": "ed2b7b2e-4559-4944-8a12-6d5443e75311",
   "metadata": {},
   "outputs": [
    {
     "name": "stderr",
     "output_type": "stream",
     "text": [
      "C:\\Users\\Lenovo\\AppData\\Local\\Temp\\ipykernel_2996\\3709746658.py:1: RuntimeWarning: divide by zero encountered in divide\n",
      "  Salary/Games\n"
     ]
    },
    {
     "data": {
      "text/plain": [
       "array([[ 199335.9375    ,  230113.63636364,  237690.54878049,\n",
       "         259298.7804878 ,  315539.38356164,  302515.24390244,\n",
       "         435249.87931034,  357040.37179487, 5075634.16666667,\n",
       "         671428.57142857],\n",
       "       [ 146341.46341463,  223582.26315789,  164492.40243902,\n",
       "         180159.07594937,  197062.55263158,  226729.16666667,\n",
       "         300642.88333333,  274342.29166667,  271730.60759494,\n",
       "         289759.875     ],\n",
       "       [  58503.79746835,   74719.1025641 ,  173883.33333333,\n",
       "         177908.40740741,  207630.42105263,  183544.30379747,\n",
       "         258427.41935484,  230855.26315789,  247629.87012987,\n",
       "         299194.20289855],\n",
       "       [  46420.5       ,   72216.01538462,  169366.88311688,\n",
       "         218342.13636364,  228694.37681159,  222717.44155844,\n",
       "         336701.34545455,  290298.50746269,  291006.15584416,\n",
       "         561450.        ],\n",
       "       [  54794.63414634,   58618.53658537,   73917.97560976,\n",
       "         174151.89873418,  185397.43902439,  213425.38461538,\n",
       "         335032.77777778,  257057.36842105,  288918.        ,\n",
       "         522835.87804878],\n",
       "       [  47828.57142857,   61380.        ,  185895.52238806,\n",
       "         187150.4025974 ,  225427.31428571,  188311.68831169,\n",
       "         281096.49122807,  237094.59459459,  241360.75949367,\n",
       "         469190.90909091],\n",
       "       [  40310.76923077,   52815.        ,   45199.5       ,\n",
       "          58643.44871795,  300455.55555556,  186751.9125    ,\n",
       "         272663.41666667,  253992.25714286,  301103.72580645,\n",
       "         244738.57317073],\n",
       "       [      0.        ,       0.        ,   52140.        ,\n",
       "          60595.13513514,   58498.53658537,   77611.06410256,\n",
       "         234948.96969697,  205797.90123457,  220155.88888889,\n",
       "         703541.62962963],\n",
       "       [      0.        ,       0.        ,       0.        ,\n",
       "          59540.74074074,   66467.69230769,   68471.11111111,\n",
       "         179325.84615385,              inf, 1763268.8       ,\n",
       "         369860.29411765],\n",
       "       [  40425.6       ,   75322.41176471,  255710.78431373,\n",
       "         182412.41772152,  204933.92207792,  186842.10526316,\n",
       "         320224.48979592,  249014.49275362,  345796.2962963 ,\n",
       "         241935.48387097]])"
      ]
     },
     "execution_count": 64,
     "metadata": {},
     "output_type": "execute_result"
    }
   ],
   "source": [
    "Salary/Games"
   ]
  },
  {
   "cell_type": "code",
   "execution_count": 66,
   "id": "1207734d-6324-43f4-871d-e62b8676c884",
   "metadata": {},
   "outputs": [
    {
     "name": "stderr",
     "output_type": "stream",
     "text": [
      "C:\\Users\\Lenovo\\AppData\\Local\\Temp\\ipykernel_2996\\3232172828.py:1: RuntimeWarning: divide by zero encountered in divide\n",
      "  np.round(Salary/Games)\n"
     ]
    },
    {
     "data": {
      "text/plain": [
       "array([[ 199336.,  230114.,  237691.,  259299.,  315539.,  302515.,\n",
       "         435250.,  357040., 5075634.,  671429.],\n",
       "       [ 146341.,  223582.,  164492.,  180159.,  197063.,  226729.,\n",
       "         300643.,  274342.,  271731.,  289760.],\n",
       "       [  58504.,   74719.,  173883.,  177908.,  207630.,  183544.,\n",
       "         258427.,  230855.,  247630.,  299194.],\n",
       "       [  46420.,   72216.,  169367.,  218342.,  228694.,  222717.,\n",
       "         336701.,  290299.,  291006.,  561450.],\n",
       "       [  54795.,   58619.,   73918.,  174152.,  185397.,  213425.,\n",
       "         335033.,  257057.,  288918.,  522836.],\n",
       "       [  47829.,   61380.,  185896.,  187150.,  225427.,  188312.,\n",
       "         281096.,  237095.,  241361.,  469191.],\n",
       "       [  40311.,   52815.,   45200.,   58643.,  300456.,  186752.,\n",
       "         272663.,  253992.,  301104.,  244739.],\n",
       "       [      0.,       0.,   52140.,   60595.,   58499.,   77611.,\n",
       "         234949.,  205798.,  220156.,  703542.],\n",
       "       [      0.,       0.,       0.,   59541.,   66468.,   68471.,\n",
       "         179326.,      inf, 1763269.,  369860.],\n",
       "       [  40426.,   75322.,  255711.,  182412.,  204934.,  186842.,\n",
       "         320224.,  249014.,  345796.,  241935.]])"
      ]
     },
     "execution_count": 66,
     "metadata": {},
     "output_type": "execute_result"
    }
   ],
   "source": [
    "np.round(Salary/Games)"
   ]
  },
  {
   "cell_type": "code",
   "execution_count": 68,
   "id": "449e027a-c3c3-4dca-8279-5df637635dd1",
   "metadata": {},
   "outputs": [
    {
     "name": "stderr",
     "output_type": "stream",
     "text": [
      "C:\\Users\\Lenovo\\AppData\\Local\\Temp\\ipykernel_2996\\3663165759.py:1: RuntimeWarning: divide by zero encountered in floor_divide\n",
      "  np.round(Salary//Games)\n"
     ]
    },
    {
     "data": {
      "text/plain": [
       "array([[ 199335,  230113,  237690,  259298,  315539,  302515,  435249,\n",
       "         357040, 5075634,  671428],\n",
       "       [ 146341,  223582,  164492,  180159,  197062,  226729,  300642,\n",
       "         274342,  271730,  289759],\n",
       "       [  58503,   74719,  173883,  177908,  207630,  183544,  258427,\n",
       "         230855,  247629,  299194],\n",
       "       [  46420,   72216,  169366,  218342,  228694,  222717,  336701,\n",
       "         290298,  291006,  561450],\n",
       "       [  54794,   58618,   73917,  174151,  185397,  213425,  335032,\n",
       "         257057,  288918,  522835],\n",
       "       [  47828,   61380,  185895,  187150,  225427,  188311,  281096,\n",
       "         237094,  241360,  469190],\n",
       "       [  40310,   52815,   45199,   58643,  300455,  186751,  272663,\n",
       "         253992,  301103,  244738],\n",
       "       [      0,       0,   52140,   60595,   58498,   77611,  234948,\n",
       "         205797,  220155,  703541],\n",
       "       [      0,       0,       0,   59540,   66467,   68471,  179325,\n",
       "              0, 1763268,  369860],\n",
       "       [  40425,   75322,  255710,  182412,  204933,  186842,  320224,\n",
       "         249014,  345796,  241935]])"
      ]
     },
     "execution_count": 68,
     "metadata": {},
     "output_type": "execute_result"
    }
   ],
   "source": [
    "np.round(Salary//Games)"
   ]
  },
  {
   "cell_type": "markdown",
   "id": "5bc2aded-6a41-4cc9-a27e-7bdbceb023a7",
   "metadata": {},
   "source": [
    "# data analysis part"
   ]
  },
  {
   "cell_type": "code",
   "execution_count": 70,
   "id": "ac6ecf50-2952-4a3c-a997-ec01bf386782",
   "metadata": {},
   "outputs": [],
   "source": [
    "import warnings\n",
    "warnings.filterwarnings('ignore')"
   ]
  },
  {
   "cell_type": "code",
   "execution_count": 72,
   "id": "dbd31075-a971-4470-8efe-8355ae741d13",
   "metadata": {},
   "outputs": [],
   "source": [
    "import matplotlib.pyplot as plt"
   ]
  },
  {
   "cell_type": "code",
   "execution_count": 74,
   "id": "56e52fcf-b6fa-49fc-8239-d96ec3fe982c",
   "metadata": {},
   "outputs": [],
   "source": [
    "%matplotlib inline"
   ]
  },
  {
   "cell_type": "code",
   "execution_count": 77,
   "id": "bb3c6ebf-f1ce-42d3-82ed-2f2552fd459d",
   "metadata": {},
   "outputs": [
    {
     "data": {
      "text/plain": [
       "array([[15946875, 17718750, 19490625, 21262500, 23034375, 24806250,\n",
       "        25244493, 27849149, 30453805, 23500000],\n",
       "       [12000000, 12744189, 13488377, 14232567, 14976754, 16324500,\n",
       "        18038573, 19752645, 21466718, 23180790],\n",
       "       [ 4621800,  5828090, 13041250, 14410581, 15779912, 14500000,\n",
       "        16022500, 17545000, 19067500, 20644400],\n",
       "       [ 3713640,  4694041, 13041250, 14410581, 15779912, 17149243,\n",
       "        18518574, 19450000, 22407474, 22458000],\n",
       "       [ 4493160,  4806720,  6061274, 13758000, 15202590, 16647180,\n",
       "        18091770, 19536360, 20513178, 21436271],\n",
       "       [ 3348000,  4235220, 12455000, 14410581, 15779912, 14500000,\n",
       "        16022500, 17545000, 19067500, 20644400],\n",
       "       [ 3144240,  3380160,  3615960,  4574189, 13520500, 14940153,\n",
       "        16359805, 17779458, 18668431, 20068563],\n",
       "       [       0,        0,  4171200,  4484040,  4796880,  6053663,\n",
       "        15506632, 16669630, 17832627, 18995624],\n",
       "       [       0,        0,        0,  4822800,  5184480,  5546160,\n",
       "         6993708, 16402500, 17632688, 18862875],\n",
       "       [ 3031920,  3841443, 13041250, 14410581, 15779912, 14200000,\n",
       "        15691000, 17182000, 18673000, 15000000]])"
      ]
     },
     "execution_count": 77,
     "metadata": {},
     "output_type": "execute_result"
    }
   ],
   "source": [
    "Salary"
   ]
  },
  {
   "cell_type": "code",
   "execution_count": 83,
   "id": "859cb839-6f2d-4d91-98da-cf9242f81867",
   "metadata": {},
   "outputs": [
    {
     "data": {
      "text/plain": [
       "array([15946875, 17718750, 19490625, 21262500, 23034375, 24806250,\n",
       "       25244493, 27849149, 30453805, 23500000])"
      ]
     },
     "execution_count": 83,
     "metadata": {},
     "output_type": "execute_result"
    }
   ],
   "source": [
    "Salary[0]"
   ]
  },
  {
   "cell_type": "code",
   "execution_count": 99,
   "id": "c8288ad9-5b48-4a8f-ab3e-cbbc46a411e6",
   "metadata": {},
   "outputs": [
    {
     "data": {
      "image/png": "[encoded data removed]",
      "text/plain": [
       "<Figure size 640x480 with 1 Axes>"
      ]
     },
     "metadata": {},
     "output_type": "display_data"
    }
   ],
   "source": [
    "plt.plot(Salary[0])\n",
    "plt.show()"
   ]
  },
  {
   "cell_type": "code",
   "execution_count": 103,
   "id": "babb4e48-5eb3-4541-96ca-3857a657bf52",
   "metadata": {},
   "outputs": [],
   "source": [
    "# linestyle or ls: {'-', '--', '-.', ':', '', (offset, on-off-seq), ...}"
   ]
  },
  {
   "cell_type": "code",
   "execution_count": 105,
   "id": "feeed714-895c-4c00-b306-17b3a9350c1a",
   "metadata": {},
   "outputs": [
    {
     "data": {
      "image/png": "[encoded data removed]",
      "text/plain": [
       "<Figure size 640x480 with 1 Axes>"
      ]
     },
     "metadata": {},
     "output_type": "display_data"
    }
   ],
   "source": [
    "plt.plot(Salary[0],ls='--')\n",
    "plt.show()"
   ]
  },
  {
   "cell_type": "code",
   "execution_count": 117,
   "id": "37352809-f2b1-42d9-9c9c-88c8d11562f5",
   "metadata": {},
   "outputs": [
    {
     "data": {
      "image/png": "[encoded data removed]",
      "text/plain": [
       "<Figure size 640x480 with 1 Axes>"
      ]
     },
     "metadata": {},
     "output_type": "display_data"
    }
   ],
   "source": [
    "# color change\n",
    "plt.plot(Salary[0],ls='--',color='Green')\n",
    "plt.show()"
   ]
  },
  {
   "cell_type": "code",
   "execution_count": 115,
   "id": "4922388e-5ebc-4e62-bac6-a54d19698fcc",
   "metadata": {},
   "outputs": [
    {
     "data": {
      "image/png": "[encoded data removed]",
      "text/plain": [
       "<Figure size 640x480 with 1 Axes>"
      ]
     },
     "metadata": {},
     "output_type": "display_data"
    }
   ],
   "source": [
    "plt.plot(Salary[0],ls='--',color='black')\n",
    "plt.show()"
   ]
  },
  {
   "cell_type": "code",
   "execution_count": 121,
   "id": "baa876b9-17e6-480d-bb74-10e426519508",
   "metadata": {},
   "outputs": [
    {
     "data": {
      "image/png": "[encoded data removed]",
      "text/plain": [
       "<Figure size 640x480 with 1 Axes>"
      ]
     },
     "metadata": {},
     "output_type": "display_data"
    }
   ],
   "source": [
    "plt.plot(Salary[0],ls='--',color='y')\n",
    "plt.show()"
   ]
  },
  {
   "cell_type": "code",
   "execution_count": 123,
   "id": "c400babb-ca7c-4348-89c9-be1b8af47386",
   "metadata": {},
   "outputs": [
    {
     "data": {
      "image/png": "[encoded data removed]",
      "text/plain": [
       "<Figure size 640x480 with 1 Axes>"
      ]
     },
     "metadata": {},
     "output_type": "display_data"
    }
   ],
   "source": [
    "plt.plot(Salary[0],ls='--',color='m')\n",
    "plt.show()"
   ]
  },
  {
   "cell_type": "code",
   "execution_count": 157,
   "id": "e8b6ec96-dafd-4f7d-96f4-4bad52ce1950",
   "metadata": {},
   "outputs": [
    {
     "data": {
      "image/png": "[encoded data removed]",
      "text/plain": [
       "<Figure size 700x300 with 1 Axes>"
      ]
     },
     "metadata": {},
     "output_type": "display_data"
    }
   ],
   "source": [
    "plt.plot(Salary[0],ls='--',color='b')\n",
    "plt.show()"
   ]
  },
  {
   "cell_type": "code",
   "execution_count": 153,
   "id": "88554396-4ffd-4906-8849-d2205de953f2",
   "metadata": {},
   "outputs": [
    {
     "data": {
      "image/png": "[encoded data removed]",
      "text/plain": [
       "<Figure size 700x300 with 1 Axes>"
      ]
     },
     "metadata": {},
     "output_type": "display_data"
    }
   ],
   "source": [
    "%matplotlib inline\n",
    "plt.rcParams['figure.figsize']=7,3\n",
    "plt.plot(Salary[0],ls='--',color='k')\n",
    "plt.show()"
   ]
  },
  {
   "cell_type": "code",
   "execution_count": null,
   "id": "61ba431e-5219-43eb-a2e2-a76a85cc9838",
   "metadata": {},
   "outputs": [],
   "source": []
  },
  {
   "cell_type": "code",
   "execution_count": null,
   "id": "b11baf9b-0185-493c-b578-5052e9ca4452",
   "metadata": {},
   "outputs": [],
   "source": []
  },
  {
   "cell_type": "code",
   "execution_count": null,
   "id": "9a7e1eb9-d7ab-454a-961a-bf76ec75d4f4",
   "metadata": {},
   "outputs": [],
   "source": []
  },
  {
   "cell_type": "code",
   "execution_count": null,
   "id": "a514b667-d16c-48a5-a9af-4ec20c15ad7e",
   "metadata": {},
   "outputs": [],
   "source": []
  }
 ],
 "metadata": {
  "kernelspec": {
   "display_name": "Python [conda env:base] *",
   "language": "python",
   "name": "conda-base-py"
  },
  "language_info": {
   "codemirror_mode": {
    "name": "ipython",
    "version": 3
   },
   "file_extension": ".py",
   "mimetype": "text/x-python",
   "name": "python",
   "nbconvert_exporter": "python",
   "pygments_lexer": "ipython3",
   "version": "3.12.7"
  }
 },
 "nbformat": 4,
 "nbformat_minor": 5
}
