{
 "cells": [
  {
   "cell_type": "code",
   "execution_count": 8,
   "id": "144699b7-d3f9-4247-9d46-33d2f9c010c7",
   "metadata": {},
   "outputs": [],
   "source": [
    "import pandas as pd"
   ]
  },
  {
   "cell_type": "code",
   "execution_count": 10,
   "id": "2bb02237-b2d2-408f-a9b7-644064cee5c4",
   "metadata": {},
   "outputs": [],
   "source": [
    "df=pd.read_csv(r\"C:\\Users\\Lenovo\\Documents\\sheet.csv\")"
   ]
  },
  {
   "cell_type": "code",
   "execution_count": 12,
   "id": "25ae0bfa-d7a9-4fbc-8ff1-99bb36a1534b",
   "metadata": {},
   "outputs": [
    {
     "data": {
      "text/html": [
       "<div>\n",
       "<style scoped>\n",
       "    .dataframe tbody tr th:only-of-type {\n",
       "        vertical-align: middle;\n",
       "    }\n",
       "\n",
       "    .dataframe tbody tr th {\n",
       "        vertical-align: top;\n",
       "    }\n",
       "\n",
       "    .dataframe thead th {\n",
       "        text-align: right;\n",
       "    }\n",
       "</style>\n",
       "<table border=\"1\" class=\"dataframe\">\n",
       "  <thead>\n",
       "    <tr style=\"text-align: right;\">\n",
       "      <th></th>\n",
       "      <th>ADDRES</th>\n",
       "      <th>date</th>\n",
       "      <th>time</th>\n",
       "    </tr>\n",
       "  </thead>\n",
       "  <tbody>\n",
       "    <tr>\n",
       "      <th>0</th>\n",
       "      <td>56th street,ben colony, btm layout, bangalore ...</td>\n",
       "      <td>3rd- apr- 2022</td>\n",
       "      <td>5hr 55min 8sec</td>\n",
       "    </tr>\n",
       "    <tr>\n",
       "      <th>1</th>\n",
       "      <td>20th street, johns road, whitefield, bangalore...</td>\n",
       "      <td>6th-dec-2021</td>\n",
       "      <td>0hr 00min 0.280740740740741sec</td>\n",
       "    </tr>\n",
       "  </tbody>\n",
       "</table>\n",
       "</div>"
      ],
      "text/plain": [
       "                                              ADDRES            date  \\\n",
       "0  56th street,ben colony, btm layout, bangalore ...  3rd- apr- 2022   \n",
       "1  20th street, johns road, whitefield, bangalore...    6th-dec-2021   \n",
       "\n",
       "                             time  \n",
       "0                  5hr 55min 8sec  \n",
       "1  0hr 00min 0.280740740740741sec  "
      ]
     },
     "execution_count": 12,
     "metadata": {},
     "output_type": "execute_result"
    }
   ],
   "source": [
    "df"
   ]
  },
  {
   "cell_type": "code",
   "execution_count": 14,
   "id": "a7d5e0b0-b21e-4fe9-b5f8-64f93ffc07f3",
   "metadata": {},
   "outputs": [
    {
     "data": {
      "text/plain": [
       "2479560602544"
      ]
     },
     "execution_count": 14,
     "metadata": {},
     "output_type": "execute_result"
    }
   ],
   "source": [
    "id(df)"
   ]
  },
  {
   "cell_type": "code",
   "execution_count": 16,
   "id": "36557942-4d3b-465b-a556-f7c8e07f68bc",
   "metadata": {},
   "outputs": [
    {
     "data": {
      "text/plain": [
       "2"
      ]
     },
     "execution_count": 16,
     "metadata": {},
     "output_type": "execute_result"
    }
   ],
   "source": [
    "len(df)"
   ]
  },
  {
   "cell_type": "code",
   "execution_count": 18,
   "id": "f953e8af-277c-4a7c-b3c3-684466d76944",
   "metadata": {},
   "outputs": [
    {
     "data": {
      "text/plain": [
       "(2, 3)"
      ]
     },
     "execution_count": 18,
     "metadata": {},
     "output_type": "execute_result"
    }
   ],
   "source": [
    "df.shape"
   ]
  },
  {
   "cell_type": "code",
   "execution_count": 20,
   "id": "40d10c0b-4689-4733-b603-85d4893c11d7",
   "metadata": {},
   "outputs": [
    {
     "data": {
      "text/plain": [
       "0    56th street,ben colony, btm layout, bangalore ...\n",
       "1    20th street, johns road, whitefield, bangalore...\n",
       "Name: ADDRES, dtype: object"
      ]
     },
     "execution_count": 20,
     "metadata": {},
     "output_type": "execute_result"
    }
   ],
   "source": [
    "df['ADDRES']"
   ]
  },
  {
   "cell_type": "code",
   "execution_count": 22,
   "id": "980966b2-feba-4cb2-b47a-5c48b3fb279e",
   "metadata": {},
   "outputs": [
    {
     "data": {
      "text/plain": [
       "0                    5hr 55min 8sec\n",
       "1    0hr 00min 0.280740740740741sec\n",
       "Name: time, dtype: object"
      ]
     },
     "execution_count": 22,
     "metadata": {},
     "output_type": "execute_result"
    }
   ],
   "source": [
    "df['time']"
   ]
  },
  {
   "cell_type": "code",
   "execution_count": 24,
   "id": "69324c82-2606-453c-874a-0f88d70ed4ce",
   "metadata": {},
   "outputs": [
    {
     "data": {
      "text/plain": [
       "0    3rd- apr- 2022\n",
       "1      6th-dec-2021\n",
       "Name: date, dtype: object"
      ]
     },
     "execution_count": 24,
     "metadata": {},
     "output_type": "execute_result"
    }
   ],
   "source": [
    "df['date']"
   ]
  },
  {
   "cell_type": "code",
   "execution_count": 26,
   "id": "cdf82a70-fa37-4b44-8ff4-206357a6c8ab",
   "metadata": {},
   "outputs": [
    {
     "data": {
      "text/html": [
       "<div>\n",
       "<style scoped>\n",
       "    .dataframe tbody tr th:only-of-type {\n",
       "        vertical-align: middle;\n",
       "    }\n",
       "\n",
       "    .dataframe tbody tr th {\n",
       "        vertical-align: top;\n",
       "    }\n",
       "\n",
       "    .dataframe thead th {\n",
       "        text-align: right;\n",
       "    }\n",
       "</style>\n",
       "<table border=\"1\" class=\"dataframe\">\n",
       "  <thead>\n",
       "    <tr style=\"text-align: right;\">\n",
       "      <th></th>\n",
       "      <th>ADDRES</th>\n",
       "      <th>date</th>\n",
       "    </tr>\n",
       "  </thead>\n",
       "  <tbody>\n",
       "    <tr>\n",
       "      <th>0</th>\n",
       "      <td>56th street,ben colony, btm layout, bangalore ...</td>\n",
       "      <td>3rd- apr- 2022</td>\n",
       "    </tr>\n",
       "    <tr>\n",
       "      <th>1</th>\n",
       "      <td>20th street, johns road, whitefield, bangalore...</td>\n",
       "      <td>6th-dec-2021</td>\n",
       "    </tr>\n",
       "  </tbody>\n",
       "</table>\n",
       "</div>"
      ],
      "text/plain": [
       "                                              ADDRES            date\n",
       "0  56th street,ben colony, btm layout, bangalore ...  3rd- apr- 2022\n",
       "1  20th street, johns road, whitefield, bangalore...    6th-dec-2021"
      ]
     },
     "execution_count": 26,
     "metadata": {},
     "output_type": "execute_result"
    }
   ],
   "source": [
    "df[['ADDRES','date']]"
   ]
  },
  {
   "cell_type": "code",
   "execution_count": 28,
   "id": "95a45356-6ee3-438d-9dc6-74ee2f54f1c2",
   "metadata": {},
   "outputs": [
    {
     "data": {
      "text/html": [
       "<div>\n",
       "<style scoped>\n",
       "    .dataframe tbody tr th:only-of-type {\n",
       "        vertical-align: middle;\n",
       "    }\n",
       "\n",
       "    .dataframe tbody tr th {\n",
       "        vertical-align: top;\n",
       "    }\n",
       "\n",
       "    .dataframe thead th {\n",
       "        text-align: right;\n",
       "    }\n",
       "</style>\n",
       "<table border=\"1\" class=\"dataframe\">\n",
       "  <thead>\n",
       "    <tr style=\"text-align: right;\">\n",
       "      <th></th>\n",
       "      <th>date</th>\n",
       "      <th>time</th>\n",
       "    </tr>\n",
       "  </thead>\n",
       "  <tbody>\n",
       "    <tr>\n",
       "      <th>0</th>\n",
       "      <td>3rd- apr- 2022</td>\n",
       "      <td>5hr 55min 8sec</td>\n",
       "    </tr>\n",
       "    <tr>\n",
       "      <th>1</th>\n",
       "      <td>6th-dec-2021</td>\n",
       "      <td>0hr 00min 0.280740740740741sec</td>\n",
       "    </tr>\n",
       "  </tbody>\n",
       "</table>\n",
       "</div>"
      ],
      "text/plain": [
       "             date                            time\n",
       "0  3rd- apr- 2022                  5hr 55min 8sec\n",
       "1    6th-dec-2021  0hr 00min 0.280740740740741sec"
      ]
     },
     "execution_count": 28,
     "metadata": {},
     "output_type": "execute_result"
    }
   ],
   "source": [
    "df[['date','time']]"
   ]
  },
  {
   "cell_type": "code",
   "execution_count": 30,
   "id": "d114360a-b34f-42dc-a524-0c2a01f753c2",
   "metadata": {},
   "outputs": [
    {
     "data": {
      "text/html": [
       "<div>\n",
       "<style scoped>\n",
       "    .dataframe tbody tr th:only-of-type {\n",
       "        vertical-align: middle;\n",
       "    }\n",
       "\n",
       "    .dataframe tbody tr th {\n",
       "        vertical-align: top;\n",
       "    }\n",
       "\n",
       "    .dataframe thead th {\n",
       "        text-align: right;\n",
       "    }\n",
       "</style>\n",
       "<table border=\"1\" class=\"dataframe\">\n",
       "  <thead>\n",
       "    <tr style=\"text-align: right;\">\n",
       "      <th></th>\n",
       "      <th>0</th>\n",
       "      <th>1</th>\n",
       "      <th>2</th>\n",
       "      <th>3</th>\n",
       "      <th>4</th>\n",
       "    </tr>\n",
       "  </thead>\n",
       "  <tbody>\n",
       "    <tr>\n",
       "      <th>0</th>\n",
       "      <td>56th street</td>\n",
       "      <td>ben colony</td>\n",
       "      <td>btm layout</td>\n",
       "      <td>bangalore</td>\n",
       "      <td>78909</td>\n",
       "    </tr>\n",
       "    <tr>\n",
       "      <th>1</th>\n",
       "      <td>20th street</td>\n",
       "      <td>johns road</td>\n",
       "      <td>whitefield</td>\n",
       "      <td>bangalore</td>\n",
       "      <td>567</td>\n",
       "    </tr>\n",
       "  </tbody>\n",
       "</table>\n",
       "</div>"
      ],
      "text/plain": [
       "             0            1            2            3       4\n",
       "0  56th street   ben colony   btm layout   bangalore   78909 \n",
       "1  20th street   johns road   whitefield   bangalore      567"
      ]
     },
     "execution_count": 30,
     "metadata": {},
     "output_type": "execute_result"
    }
   ],
   "source": [
    "address_df=df['ADDRES'].str.split(r',',expand=True)\n",
    "address_df"
   ]
  },
  {
   "cell_type": "code",
   "execution_count": 32,
   "id": "c3590d77-f84d-40cd-8f42-a86f256eb115",
   "metadata": {},
   "outputs": [
    {
     "data": {
      "text/plain": [
       "Index(['street Name', 'Area', 'City', 'state', 'pincode'], dtype='object')"
      ]
     },
     "execution_count": 32,
     "metadata": {},
     "output_type": "execute_result"
    }
   ],
   "source": [
    "address_df.columns=['street Name','Area','City','state','pincode']\n",
    "address_df.columns"
   ]
  },
  {
   "cell_type": "code",
   "execution_count": 34,
   "id": "7b18ec0b-3558-4446-abff-c9505a3b4787",
   "metadata": {},
   "outputs": [
    {
     "data": {
      "text/html": [
       "<div>\n",
       "<style scoped>\n",
       "    .dataframe tbody tr th:only-of-type {\n",
       "        vertical-align: middle;\n",
       "    }\n",
       "\n",
       "    .dataframe tbody tr th {\n",
       "        vertical-align: top;\n",
       "    }\n",
       "\n",
       "    .dataframe thead th {\n",
       "        text-align: right;\n",
       "    }\n",
       "</style>\n",
       "<table border=\"1\" class=\"dataframe\">\n",
       "  <thead>\n",
       "    <tr style=\"text-align: right;\">\n",
       "      <th></th>\n",
       "      <th>street Name</th>\n",
       "      <th>Area</th>\n",
       "      <th>City</th>\n",
       "      <th>state</th>\n",
       "      <th>pincode</th>\n",
       "    </tr>\n",
       "  </thead>\n",
       "  <tbody>\n",
       "    <tr>\n",
       "      <th>0</th>\n",
       "      <td>56th street</td>\n",
       "      <td>ben colony</td>\n",
       "      <td>btm layout</td>\n",
       "      <td>bangalore</td>\n",
       "      <td>78909</td>\n",
       "    </tr>\n",
       "    <tr>\n",
       "      <th>1</th>\n",
       "      <td>20th street</td>\n",
       "      <td>johns road</td>\n",
       "      <td>whitefield</td>\n",
       "      <td>bangalore</td>\n",
       "      <td>567</td>\n",
       "    </tr>\n",
       "  </tbody>\n",
       "</table>\n",
       "</div>"
      ],
      "text/plain": [
       "   street Name         Area         City        state pincode\n",
       "0  56th street   ben colony   btm layout   bangalore   78909 \n",
       "1  20th street   johns road   whitefield   bangalore      567"
      ]
     },
     "execution_count": 34,
     "metadata": {},
     "output_type": "execute_result"
    }
   ],
   "source": [
    "address_df.columns=['street Name','Area','City','state','pincode']\n",
    "address_df"
   ]
  },
  {
   "cell_type": "code",
   "execution_count": 36,
   "id": "1477f3ba-8a8d-406c-9bf0-a644dae832e8",
   "metadata": {},
   "outputs": [
    {
     "data": {
      "text/html": [
       "<div>\n",
       "<style scoped>\n",
       "    .dataframe tbody tr th:only-of-type {\n",
       "        vertical-align: middle;\n",
       "    }\n",
       "\n",
       "    .dataframe tbody tr th {\n",
       "        vertical-align: top;\n",
       "    }\n",
       "\n",
       "    .dataframe thead th {\n",
       "        text-align: right;\n",
       "    }\n",
       "</style>\n",
       "<table border=\"1\" class=\"dataframe\">\n",
       "  <thead>\n",
       "    <tr style=\"text-align: right;\">\n",
       "      <th></th>\n",
       "      <th>0</th>\n",
       "      <th>1</th>\n",
       "      <th>2</th>\n",
       "    </tr>\n",
       "  </thead>\n",
       "  <tbody>\n",
       "    <tr>\n",
       "      <th>0</th>\n",
       "      <td>3rd</td>\n",
       "      <td>apr</td>\n",
       "      <td>2022</td>\n",
       "    </tr>\n",
       "    <tr>\n",
       "      <th>1</th>\n",
       "      <td>6th</td>\n",
       "      <td>dec</td>\n",
       "      <td>2021</td>\n",
       "    </tr>\n",
       "  </tbody>\n",
       "</table>\n",
       "</div>"
      ],
      "text/plain": [
       "     0     1      2\n",
       "0  3rd   apr   2022\n",
       "1  6th   dec   2021"
      ]
     },
     "execution_count": 36,
     "metadata": {},
     "output_type": "execute_result"
    }
   ],
   "source": [
    "date_df=df['date'].str.split(r'-',expand=True)\n",
    "date_df"
   ]
  },
  {
   "cell_type": "code",
   "execution_count": 38,
   "id": "6aa0166d-5a15-47a0-a109-8dbca719a561",
   "metadata": {},
   "outputs": [
    {
     "data": {
      "text/html": [
       "<div>\n",
       "<style scoped>\n",
       "    .dataframe tbody tr th:only-of-type {\n",
       "        vertical-align: middle;\n",
       "    }\n",
       "\n",
       "    .dataframe tbody tr th {\n",
       "        vertical-align: top;\n",
       "    }\n",
       "\n",
       "    .dataframe thead th {\n",
       "        text-align: right;\n",
       "    }\n",
       "</style>\n",
       "<table border=\"1\" class=\"dataframe\">\n",
       "  <thead>\n",
       "    <tr style=\"text-align: right;\">\n",
       "      <th></th>\n",
       "      <th>date</th>\n",
       "      <th>month</th>\n",
       "      <th>year</th>\n",
       "    </tr>\n",
       "  </thead>\n",
       "  <tbody>\n",
       "    <tr>\n",
       "      <th>0</th>\n",
       "      <td>3rd</td>\n",
       "      <td>apr</td>\n",
       "      <td>2022</td>\n",
       "    </tr>\n",
       "    <tr>\n",
       "      <th>1</th>\n",
       "      <td>6th</td>\n",
       "      <td>dec</td>\n",
       "      <td>2021</td>\n",
       "    </tr>\n",
       "  </tbody>\n",
       "</table>\n",
       "</div>"
      ],
      "text/plain": [
       "  date month   year\n",
       "0  3rd   apr   2022\n",
       "1  6th   dec   2021"
      ]
     },
     "execution_count": 38,
     "metadata": {},
     "output_type": "execute_result"
    }
   ],
   "source": [
    "date_df.columns=['date','month','year']\n",
    "date_df"
   ]
  },
  {
   "cell_type": "code",
   "execution_count": 40,
   "id": "7d8f8b08-b897-4185-a74c-4c0a2724f9c5",
   "metadata": {},
   "outputs": [
    {
     "data": {
      "text/plain": [
       "0                    5hr 55min 8sec\n",
       "1    0hr 00min 0.280740740740741sec\n",
       "Name: time, dtype: object"
      ]
     },
     "execution_count": 40,
     "metadata": {},
     "output_type": "execute_result"
    }
   ],
   "source": [
    "df['time']"
   ]
  },
  {
   "cell_type": "code",
   "execution_count": 42,
   "id": "861e1fb2-bac8-4d6c-b1d3-5dcbdcd86b0b",
   "metadata": {},
   "outputs": [],
   "source": [
    "time_df=df['time'].str.split(expand=True)"
   ]
  },
  {
   "cell_type": "code",
   "execution_count": 44,
   "id": "1f2eeb87-3d1f-41cb-9cd0-09ad1b749715",
   "metadata": {},
   "outputs": [
    {
     "data": {
      "text/html": [
       "<div>\n",
       "<style scoped>\n",
       "    .dataframe tbody tr th:only-of-type {\n",
       "        vertical-align: middle;\n",
       "    }\n",
       "\n",
       "    .dataframe tbody tr th {\n",
       "        vertical-align: top;\n",
       "    }\n",
       "\n",
       "    .dataframe thead th {\n",
       "        text-align: right;\n",
       "    }\n",
       "</style>\n",
       "<table border=\"1\" class=\"dataframe\">\n",
       "  <thead>\n",
       "    <tr style=\"text-align: right;\">\n",
       "      <th></th>\n",
       "      <th>0</th>\n",
       "      <th>1</th>\n",
       "      <th>2</th>\n",
       "    </tr>\n",
       "  </thead>\n",
       "  <tbody>\n",
       "    <tr>\n",
       "      <th>0</th>\n",
       "      <td>5hr</td>\n",
       "      <td>55min</td>\n",
       "      <td>8sec</td>\n",
       "    </tr>\n",
       "    <tr>\n",
       "      <th>1</th>\n",
       "      <td>0hr</td>\n",
       "      <td>00min</td>\n",
       "      <td>0.280740740740741sec</td>\n",
       "    </tr>\n",
       "  </tbody>\n",
       "</table>\n",
       "</div>"
      ],
      "text/plain": [
       "     0      1                     2\n",
       "0  5hr  55min                  8sec\n",
       "1  0hr  00min  0.280740740740741sec"
      ]
     },
     "execution_count": 44,
     "metadata": {},
     "output_type": "execute_result"
    }
   ],
   "source": [
    "time_df"
   ]
  },
  {
   "cell_type": "code",
   "execution_count": 46,
   "id": "a2142873-4270-470a-9fb1-954e9ed32e4e",
   "metadata": {},
   "outputs": [
    {
     "name": "stderr",
     "output_type": "stream",
     "text": [
      "C:\\Users\\Lenovo\\AppData\\Local\\Temp\\ipykernel_10000\\447195881.py:1: UserWarning: Pandas doesn't allow columns to be created via a new attribute name - see https://pandas.pydata.org/pandas-docs/stable/indexing.html#attribute-access\n",
      "  time_df.column=['hours','minutes','seconds']\n"
     ]
    },
    {
     "data": {
      "text/html": [
       "<div>\n",
       "<style scoped>\n",
       "    .dataframe tbody tr th:only-of-type {\n",
       "        vertical-align: middle;\n",
       "    }\n",
       "\n",
       "    .dataframe tbody tr th {\n",
       "        vertical-align: top;\n",
       "    }\n",
       "\n",
       "    .dataframe thead th {\n",
       "        text-align: right;\n",
       "    }\n",
       "</style>\n",
       "<table border=\"1\" class=\"dataframe\">\n",
       "  <thead>\n",
       "    <tr style=\"text-align: right;\">\n",
       "      <th></th>\n",
       "      <th>0</th>\n",
       "      <th>1</th>\n",
       "      <th>2</th>\n",
       "    </tr>\n",
       "  </thead>\n",
       "  <tbody>\n",
       "    <tr>\n",
       "      <th>0</th>\n",
       "      <td>5hr</td>\n",
       "      <td>55min</td>\n",
       "      <td>8sec</td>\n",
       "    </tr>\n",
       "    <tr>\n",
       "      <th>1</th>\n",
       "      <td>0hr</td>\n",
       "      <td>00min</td>\n",
       "      <td>0.280740740740741sec</td>\n",
       "    </tr>\n",
       "  </tbody>\n",
       "</table>\n",
       "</div>"
      ],
      "text/plain": [
       "     0      1                     2\n",
       "0  5hr  55min                  8sec\n",
       "1  0hr  00min  0.280740740740741sec"
      ]
     },
     "execution_count": 46,
     "metadata": {},
     "output_type": "execute_result"
    }
   ],
   "source": [
    "time_df.column=['hours','minutes','seconds']\n",
    "time_df"
   ]
  },
  {
   "cell_type": "code",
   "execution_count": 48,
   "id": "bd649256-9cf9-4177-ba3a-478ba840262b",
   "metadata": {},
   "outputs": [],
   "source": [
    "df.to_csv(\"cleaned_data.csv\",index = False)"
   ]
  },
  {
   "cell_type": "code",
   "execution_count": 57,
   "id": "23ae27a5-a8a6-471e-965c-b8066ad9374f",
   "metadata": {},
   "outputs": [
    {
     "data": {
      "text/html": [
       "<div>\n",
       "<style scoped>\n",
       "    .dataframe tbody tr th:only-of-type {\n",
       "        vertical-align: middle;\n",
       "    }\n",
       "\n",
       "    .dataframe tbody tr th {\n",
       "        vertical-align: top;\n",
       "    }\n",
       "\n",
       "    .dataframe thead th {\n",
       "        text-align: right;\n",
       "    }\n",
       "</style>\n",
       "<table border=\"1\" class=\"dataframe\">\n",
       "  <thead>\n",
       "    <tr style=\"text-align: right;\">\n",
       "      <th></th>\n",
       "      <th>ADDRES</th>\n",
       "      <th>date</th>\n",
       "      <th>time</th>\n",
       "    </tr>\n",
       "  </thead>\n",
       "  <tbody>\n",
       "    <tr>\n",
       "      <th>0</th>\n",
       "      <td>56th street,ben colony, btm layout, bangalore ...</td>\n",
       "      <td>3rd- apr- 2022</td>\n",
       "      <td>5hr 55min 8sec</td>\n",
       "    </tr>\n",
       "    <tr>\n",
       "      <th>1</th>\n",
       "      <td>20th street, johns road, whitefield, bangalore...</td>\n",
       "      <td>6th-dec-2021</td>\n",
       "      <td>0hr 00min 0.280740740740741sec</td>\n",
       "    </tr>\n",
       "  </tbody>\n",
       "</table>\n",
       "</div>"
      ],
      "text/plain": [
       "                                              ADDRES            date  \\\n",
       "0  56th street,ben colony, btm layout, bangalore ...  3rd- apr- 2022   \n",
       "1  20th street, johns road, whitefield, bangalore...    6th-dec-2021   \n",
       "\n",
       "                             time  \n",
       "0                  5hr 55min 8sec  \n",
       "1  0hr 00min 0.280740740740741sec  "
      ]
     },
     "execution_count": 57,
     "metadata": {},
     "output_type": "execute_result"
    }
   ],
   "source": [
    "df.head(2)"
   ]
  },
  {
   "cell_type": "code",
   "execution_count": null,
   "id": "9aa1e19e-acac-4bd1-a73e-e0083ff27bde",
   "metadata": {},
   "outputs": [],
   "source": []
  },
  {
   "cell_type": "code",
   "execution_count": null,
   "id": "c36e6230-7861-4c47-8ab7-c97379188576",
   "metadata": {},
   "outputs": [],
   "source": []
  },
  {
   "cell_type": "code",
   "execution_count": null,
   "id": "7c347ad0-7f80-4b9e-a2dd-09c23cadaf90",
   "metadata": {},
   "outputs": [],
   "source": []
  },
  {
   "cell_type": "code",
   "execution_count": null,
   "id": "8cb1f087-cb57-4bbb-8676-2187b6e07289",
   "metadata": {},
   "outputs": [],
   "source": []
  },
  {
   "cell_type": "code",
   "execution_count": null,
   "id": "0b242fcd-851c-4a61-993c-fa131f1a7234",
   "metadata": {},
   "outputs": [],
   "source": []
  },
  {
   "cell_type": "code",
   "execution_count": null,
   "id": "94849848-0e78-4218-8aec-056d2b9ad9c6",
   "metadata": {},
   "outputs": [],
   "source": []
  }
 ],
 "metadata": {
  "kernelspec": {
   "display_name": "Python [conda env:base] *",
   "language": "python",
   "name": "conda-base-py"
  },
  "language_info": {
   "codemirror_mode": {
    "name": "ipython",
    "version": 3
   },
   "file_extension": ".py",
   "mimetype": "text/x-python",
   "name": "python",
   "nbconvert_exporter": "python",
   "pygments_lexer": "ipython3",
   "version": "3.12.7"
  }
 },
 "nbformat": 4,
 "nbformat_minor": 5
}
