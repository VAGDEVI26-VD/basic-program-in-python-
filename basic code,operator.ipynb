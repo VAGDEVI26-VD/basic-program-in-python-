{
 "cells": [
  {
   "cell_type": "code",
   "execution_count": 1,
   "id": "9e16271b-0d30-4d1c-b6f4-2d23c93e9631",
   "metadata": {},
   "outputs": [
    {
     "name": "stdout",
     "output_type": "stream",
     "text": [
      "5\n"
     ]
    }
   ],
   "source": [
    "print(3 +2)"
   ]
  },
  {
   "cell_type": "code",
   "execution_count": 3,
   "id": "09a89d31-d743-4a74-81d2-2f11110756c0",
   "metadata": {},
   "outputs": [
    {
     "name": "stdout",
     "output_type": "stream",
     "text": [
      "1\n"
     ]
    }
   ],
   "source": [
    "print(3-2)"
   ]
  },
  {
   "cell_type": "code",
   "execution_count": 4,
   "id": "547ee748-5789-4ae3-a756-3930b3fc1769",
   "metadata": {},
   "outputs": [
    {
     "name": "stdout",
     "output_type": "stream",
     "text": [
      "6\n"
     ]
    }
   ],
   "source": [
    "print(3*2)"
   ]
  },
  {
   "cell_type": "code",
   "execution_count": 5,
   "id": "32aa4552-3f83-459d-b7cb-d65e0654ae8a",
   "metadata": {},
   "outputs": [
    {
     "name": "stdout",
     "output_type": "stream",
     "text": [
      "1.5\n"
     ]
    }
   ],
   "source": [
    "print(3/2)"
   ]
  },
  {
   "cell_type": "code",
   "execution_count": 6,
   "id": "567511e8-aba2-405b-81b6-02b61773e8d4",
   "metadata": {},
   "outputs": [
    {
     "name": "stdout",
     "output_type": "stream",
     "text": [
      "1\n"
     ]
    }
   ],
   "source": [
    "print(3//2)"
   ]
  },
  {
   "cell_type": "code",
   "execution_count": 11,
   "id": "1d889da9-bb04-487a-8a4e-07a12b826e45",
   "metadata": {},
   "outputs": [
    {
     "name": "stdout",
     "output_type": "stream",
     "text": [
      "9\n"
     ]
    }
   ],
   "source": [
    "print(3**2)"
   ]
  },
  {
   "cell_type": "code",
   "execution_count": 13,
   "id": "35b6d755-7416-4660-ac1f-61258cfdc172",
   "metadata": {},
   "outputs": [
    {
     "name": "stdout",
     "output_type": "stream",
     "text": [
      "1\n"
     ]
    }
   ],
   "source": [
    "print(3%2)"
   ]
  },
  {
   "cell_type": "code",
   "execution_count": 15,
   "id": "abcc5633-57a1-4b57-87fb-3efa62f3a00a",
   "metadata": {},
   "outputs": [
    {
     "name": "stdout",
     "output_type": "stream",
     "text": [
      "<class 'int'>\n"
     ]
    }
   ],
   "source": [
    "print(type(10))"
   ]
  },
  {
   "cell_type": "code",
   "execution_count": 17,
   "id": "73107857-3b78-4fc5-a983-fa6da3da731a",
   "metadata": {},
   "outputs": [
    {
     "name": "stdout",
     "output_type": "stream",
     "text": [
      "<class 'float'>\n"
     ]
    }
   ],
   "source": [
    "print(type(3.14))"
   ]
  },
  {
   "cell_type": "code",
   "execution_count": 19,
   "id": "2356b230-202a-45a7-82fb-272408682f4f",
   "metadata": {},
   "outputs": [
    {
     "name": "stdout",
     "output_type": "stream",
     "text": [
      "<class 'complex'>\n"
     ]
    }
   ],
   "source": [
    "print(type(1+3j))"
   ]
  },
  {
   "cell_type": "code",
   "execution_count": 21,
   "id": "df124c0c-5d02-4391-9b3a-8d98d0837dac",
   "metadata": {},
   "outputs": [
    {
     "name": "stdout",
     "output_type": "stream",
     "text": [
      "<class 'str'>\n"
     ]
    }
   ],
   "source": [
    "print(type('Vagedvi'))"
   ]
  },
  {
   "cell_type": "code",
   "execution_count": 23,
   "id": "9b4dabf7-d791-418d-be86-49c65f897f3c",
   "metadata": {},
   "outputs": [
    {
     "name": "stdout",
     "output_type": "stream",
     "text": [
      "<class 'list'>\n"
     ]
    }
   ],
   "source": [
    "print(type([1,2,3]))"
   ]
  },
  {
   "cell_type": "code",
   "execution_count": 25,
   "id": "cce152b8-9f27-4011-882c-2c2131f98627",
   "metadata": {},
   "outputs": [
    {
     "name": "stdout",
     "output_type": "stream",
     "text": [
      "<class 'dict'>\n"
     ]
    }
   ],
   "source": [
    "print(type({'name':'vagdevi'}))"
   ]
  },
  {
   "cell_type": "code",
   "execution_count": 27,
   "id": "949a3b9a-d194-44ca-b5d7-127d549c8eb2",
   "metadata": {},
   "outputs": [
    {
     "name": "stdout",
     "output_type": "stream",
     "text": [
      "<class 'set'>\n"
     ]
    }
   ],
   "source": [
    "print(type({9.8,3,14,2.7}))"
   ]
  },
  {
   "cell_type": "code",
   "execution_count": 29,
   "id": "a6b2d036-432e-44ba-a0c9-d09d9fb6813a",
   "metadata": {},
   "outputs": [
    {
     "name": "stdout",
     "output_type": "stream",
     "text": [
      "<class 'bool'>\n"
     ]
    }
   ],
   "source": [
    "print(type(3==3))"
   ]
  },
  {
   "cell_type": "code",
   "execution_count": 31,
   "id": "b7a8018f-1952-4226-a1c0-c0bdd8a17e4e",
   "metadata": {},
   "outputs": [
    {
     "name": "stdout",
     "output_type": "stream",
     "text": [
      "<class 'bool'>\n"
     ]
    }
   ],
   "source": [
    "print(type(3>=3))"
   ]
  },
  {
   "cell_type": "markdown",
   "id": "dd4a19f5-1dc2-488e-930e-1c17f47744c0",
   "metadata": {},
   "source": [
    "# operators"
   ]
  },
  {
   "cell_type": "code",
   "execution_count": 33,
   "id": "a27f464a-695a-4a51-9bf7-14dad2d7485c",
   "metadata": {},
   "outputs": [
    {
     "name": "stdout",
     "output_type": "stream",
     "text": [
      "Addition 3\n"
     ]
    }
   ],
   "source": [
    "print('Addition',1+2)"
   ]
  },
  {
   "cell_type": "code",
   "execution_count": 35,
   "id": "1f1b3258-6128-404d-944a-0ebd30329322",
   "metadata": {},
   "outputs": [
    {
     "name": "stdout",
     "output_type": "stream",
     "text": [
      "subtraction -1\n"
     ]
    }
   ],
   "source": [
    "print('subtraction',1-2)"
   ]
  },
  {
   "cell_type": "code",
   "execution_count": 37,
   "id": "42d1b96e-2318-4e9e-a6bb-50b7a02c7746",
   "metadata": {},
   "outputs": [
    {
     "name": "stdout",
     "output_type": "stream",
     "text": [
      "Multiplication 6\n"
     ]
    }
   ],
   "source": [
    "print('Multiplication',2*3)"
   ]
  },
  {
   "cell_type": "code",
   "execution_count": 39,
   "id": "217bc9de-de95-4084-8c7b-20d1a84d50bc",
   "metadata": {},
   "outputs": [
    {
     "name": "stdout",
     "output_type": "stream",
     "text": [
      "Division 2.0\n"
     ]
    }
   ],
   "source": [
    "print('Division',4/2)"
   ]
  },
  {
   "cell_type": "code",
   "execution_count": 41,
   "id": "ba5f6d3c-4172-4a8d-8818-c7d1cbd88736",
   "metadata": {},
   "outputs": [
    {
     "name": "stdout",
     "output_type": "stream",
     "text": [
      "Division 3.0\n"
     ]
    }
   ],
   "source": [
    "print('Division',6/2)"
   ]
  },
  {
   "cell_type": "code",
   "execution_count": 43,
   "id": "8adc5de7-2c74-41c4-ad5c-06d303ee26e6",
   "metadata": {},
   "outputs": [
    {
     "name": "stdout",
     "output_type": "stream",
     "text": [
      "Division 3.5\n"
     ]
    }
   ],
   "source": [
    "print('Division',7/2)"
   ]
  },
  {
   "cell_type": "code",
   "execution_count": 45,
   "id": "eecb0883-dfc8-42d2-890e-49e86ee34ae6",
   "metadata": {},
   "outputs": [
    {
     "name": "stdout",
     "output_type": "stream",
     "text": [
      "Division without remindr 2\n"
     ]
    }
   ],
   "source": [
    "print('Division without remindr',7//3)"
   ]
  },
  {
   "cell_type": "code",
   "execution_count": 47,
   "id": "8d1491de-889e-48dd-ba4c-5b506f464fc4",
   "metadata": {},
   "outputs": [
    {
     "name": "stdout",
     "output_type": "stream",
     "text": [
      "Division without reminder 3\n"
     ]
    }
   ],
   "source": [
    "print('Division without reminder',7//2)"
   ]
  },
  {
   "cell_type": "code",
   "execution_count": 49,
   "id": "f67c48fa-3cfb-42eb-b252-6ab1e36c35ad",
   "metadata": {},
   "outputs": [
    {
     "name": "stdout",
     "output_type": "stream",
     "text": [
      "Exponential: 9\n"
     ]
    }
   ],
   "source": [
    "print('Exponential:',3**2)"
   ]
  },
  {
   "cell_type": "code",
   "execution_count": 51,
   "id": "1b355736-517a-4f3c-942a-5ac2c72144f8",
   "metadata": {},
   "outputs": [
    {
     "name": "stdout",
     "output_type": "stream",
     "text": [
      "Floating Number,pi 3.14\n"
     ]
    }
   ],
   "source": [
    "print('Floating Number,pi',3.14)"
   ]
  },
  {
   "cell_type": "code",
   "execution_count": 53,
   "id": "e66f1516-8de8-46a9-ae9a-1dc651094e6c",
   "metadata": {},
   "outputs": [
    {
     "name": "stdout",
     "output_type": "stream",
     "text": [
      "Floating number,gravity 9.81\n"
     ]
    }
   ],
   "source": [
    "print('Floating number,gravity',9.81)"
   ]
  },
  {
   "cell_type": "code",
   "execution_count": 55,
   "id": "84daa4d5-2783-4f80-a8d4-a71501c7e234",
   "metadata": {},
   "outputs": [
    {
     "name": "stdout",
     "output_type": "stream",
     "text": [
      "complex number: (1+1j)\n"
     ]
    }
   ],
   "source": [
    "print('complex number:',1+1j)"
   ]
  },
  {
   "cell_type": "code",
   "execution_count": 57,
   "id": "042f4c36-d522-4d28-9a38-10643461547d",
   "metadata": {},
   "outputs": [
    {
     "name": "stdout",
     "output_type": "stream",
     "text": [
      "Multiplying complex number: (2+0j)\n"
     ]
    }
   ],
   "source": [
    "print('Multiplying complex number:',(1+1j)*(1-1j))"
   ]
  },
  {
   "cell_type": "code",
   "execution_count": null,
   "id": "ad472bfc-4abb-4203-9ab9-2dfb7d69008c",
   "metadata": {},
   "outputs": [],
   "source": [
    "a=3\n",
    "b=2\n",
    "total=a+b\n",
    "diff=a-b\n",
    "product=a*b\n",
    "division=a/b\n",
    "floor_division=a//b\n",
    "exponential=a**b\n",
    "remainder=a%b\n",
    "print('a + b = ',total)\n",
    "print('a - b = ',diff)\n",
    "print('a * b = ',product)\n",
    "print('a/b=',division)\n",
    "print('a%b= ',remainder)\n",
    "print('a//b =',floor_division)\n",
    "print('a** b=',exponential)"
   ]
  },
  {
   "cell_type": "code",
   "execution_count": null,
   "id": "e8ae49b9-a353-4623-8fd8-3c96a5b1991f",
   "metadata": {},
   "outputs": [],
   "source": [
    "num_one= 3\n",
    "num_two = 4\n",
    "total =num_one+num_two\n",
    "diff= num_one-num_two\n",
    "product=num_one*num_two\n",
    "division=num_one/num_two\n",
    "floor_division=num_one//num_two\n",
    "exponential=num_one**num_two\n",
    "remainder=num_one%num_two\n",
    "print('total:',total)\n",
    "print('diff:',diff)\n",
    "print('product:',product)\n",
    "print('floor_division:',floor_division)\n",
    "print('exponential:',exponential)\n",
    "print('remainder:',remainder)\n",
    "print('division:',division)"
   ]
  },
  {
   "cell_type": "code",
   "execution_count": null,
   "id": "6df20bc1-9405-493a-8aae-cd8ae6b6053b",
   "metadata": {},
   "outputs": [],
   "source": [
    "radius=10\n",
    "area_of_circle=3.14*radius**2\n",
    "print(area_of_circle)"
   ]
  },
  {
   "cell_type": "code",
   "execution_count": null,
   "id": "2e976334-9ade-444c-9981-bf89d7ce1fbd",
   "metadata": {},
   "outputs": [],
   "source": [
    "length=10\n",
    "width=20\n",
    "area_of_rectangle=length*width\n",
    "print(area_of_rectangle)\n",
    "print('area_of_rectangle:',area_of_rectangle)"
   ]
  },
  {
   "cell_type": "code",
   "execution_count": null,
   "id": "eda8c3bd-d466-4c72-9510-0050e8a867e8",
   "metadata": {},
   "outputs": [],
   "source": [
    "mass=75\n",
    "gravity=9.81\n",
    "weight=mass*gravity\n",
    "print(weight,'N')"
   ]
  },
  {
   "cell_type": "code",
   "execution_count": 65,
   "id": "1606a804-82e2-4ac6-80b3-8a3902f234b3",
   "metadata": {},
   "outputs": [
    {
     "name": "stdout",
     "output_type": "stream",
     "text": [
      "True\n"
     ]
    }
   ],
   "source": [
    "print(3>2)"
   ]
  },
  {
   "cell_type": "code",
   "execution_count": 67,
   "id": "775e67dc-56ee-45cf-ab82-483097c1487a",
   "metadata": {},
   "outputs": [
    {
     "name": "stdout",
     "output_type": "stream",
     "text": [
      "True\n"
     ]
    }
   ],
   "source": [
    "print(3>=2)"
   ]
  },
  {
   "cell_type": "code",
   "execution_count": 69,
   "id": "3bc70211-43bb-4d7d-bf98-6d688172c472",
   "metadata": {},
   "outputs": [
    {
     "name": "stdout",
     "output_type": "stream",
     "text": [
      "False\n"
     ]
    }
   ],
   "source": [
    "print(3<2)"
   ]
  },
  {
   "cell_type": "code",
   "execution_count": 71,
   "id": "f1a28dac-2d09-4743-81f2-762f873c482f",
   "metadata": {},
   "outputs": [
    {
     "name": "stdout",
     "output_type": "stream",
     "text": [
      "True\n"
     ]
    }
   ],
   "source": [
    "print(2<3)"
   ]
  },
  {
   "cell_type": "code",
   "execution_count": 73,
   "id": "8f172fc1-5e4c-42fd-a9f6-f4586484ab29",
   "metadata": {},
   "outputs": [
    {
     "name": "stdout",
     "output_type": "stream",
     "text": [
      "True\n"
     ]
    }
   ],
   "source": [
    "print(2<=3)"
   ]
  },
  {
   "cell_type": "code",
   "execution_count": 75,
   "id": "efca4862-d3a9-409b-91eb-8979aff7bb4f",
   "metadata": {},
   "outputs": [
    {
     "name": "stdout",
     "output_type": "stream",
     "text": [
      "True\n"
     ]
    }
   ],
   "source": [
    "print(3==3)"
   ]
  },
  {
   "cell_type": "code",
   "execution_count": 77,
   "id": "7f5cb221-0901-4563-bedb-5e488107b09a",
   "metadata": {},
   "outputs": [
    {
     "name": "stdout",
     "output_type": "stream",
     "text": [
      "True\n"
     ]
    }
   ],
   "source": [
    "print(3!=2)"
   ]
  },
  {
   "cell_type": "code",
   "execution_count": 79,
   "id": "d5bbff2d-fb06-410e-a4dc-5f8d81d12d55",
   "metadata": {},
   "outputs": [
    {
     "name": "stdout",
     "output_type": "stream",
     "text": [
      "5\n"
     ]
    }
   ],
   "source": [
    "print(len('mango'))"
   ]
  },
  {
   "cell_type": "code",
   "execution_count": 81,
   "id": "07310967-2f63-4af4-8ee7-4f32d0e43d25",
   "metadata": {},
   "outputs": [
    {
     "name": "stdout",
     "output_type": "stream",
     "text": [
      "False\n"
     ]
    }
   ],
   "source": [
    "print(len('mango')==len('avocado'))"
   ]
  },
  {
   "cell_type": "code",
   "execution_count": 83,
   "id": "fa20c395-41af-40af-8018-575f6d3bc787",
   "metadata": {},
   "outputs": [
    {
     "name": "stdout",
     "output_type": "stream",
     "text": [
      "True\n"
     ]
    }
   ],
   "source": [
    "print(len('mango')!=len('avocado'))"
   ]
  },
  {
   "cell_type": "code",
   "execution_count": 85,
   "id": "18b8eded-9e84-43dd-bd6a-c73e62584625",
   "metadata": {},
   "outputs": [
    {
     "name": "stdout",
     "output_type": "stream",
     "text": [
      "True\n"
     ]
    }
   ],
   "source": [
    "print(len('mango')<len('avocado'))"
   ]
  },
  {
   "cell_type": "code",
   "execution_count": 87,
   "id": "c83f0274-0223-459f-8488-45b433a63460",
   "metadata": {},
   "outputs": [
    {
     "name": "stdout",
     "output_type": "stream",
     "text": [
      "False\n"
     ]
    }
   ],
   "source": [
    "print(len('mango')>len('avocado'))"
   ]
  },
  {
   "cell_type": "code",
   "execution_count": 89,
   "id": "3e85d702-01c1-4414-8496-df666f01ab21",
   "metadata": {},
   "outputs": [
    {
     "name": "stdout",
     "output_type": "stream",
     "text": [
      "False\n"
     ]
    }
   ],
   "source": [
    "print(len('python') > len('dragon'))"
   ]
  },
  {
   "cell_type": "code",
   "execution_count": 91,
   "id": "5f41e09a-31fa-48af-90fa-5516ff99c9bc",
   "metadata": {},
   "outputs": [
    {
     "name": "stdout",
     "output_type": "stream",
     "text": [
      "True\n"
     ]
    }
   ],
   "source": [
    "print(len('python') == len('dragon'))"
   ]
  },
  {
   "cell_type": "code",
   "execution_count": 93,
   "id": "6b86bc3d-df66-47de-a0a8-42e29899a909",
   "metadata": {},
   "outputs": [
    {
     "name": "stdout",
     "output_type": "stream",
     "text": [
      "True == True:  True\n"
     ]
    }
   ],
   "source": [
    "print('True == True: ', True == True)"
   ]
  },
  {
   "cell_type": "code",
   "execution_count": 95,
   "id": "675962cf-f7cf-4625-8573-853de6e21a94",
   "metadata": {},
   "outputs": [
    {
     "name": "stdout",
     "output_type": "stream",
     "text": [
      "True == True:  False\n"
     ]
    }
   ],
   "source": [
    "print('True == True: ', True == False)"
   ]
  },
  {
   "cell_type": "code",
   "execution_count": 97,
   "id": "9c29596a-b05a-43d0-85b3-321330da852a",
   "metadata": {},
   "outputs": [
    {
     "name": "stdout",
     "output_type": "stream",
     "text": [
      "True == True:  True\n"
     ]
    }
   ],
   "source": [
    "print('True == True: ', True and True)"
   ]
  },
  {
   "cell_type": "code",
   "execution_count": 99,
   "id": "d72f495d-1fdb-4453-ac58-34dc8af227df",
   "metadata": {},
   "outputs": [
    {
     "name": "stdout",
     "output_type": "stream",
     "text": [
      "False == False:  True\n"
     ]
    }
   ],
   "source": [
    "print('False == False: ', True == True)"
   ]
  },
  {
   "cell_type": "code",
   "execution_count": 101,
   "id": "53fcfd9e-f2fa-4d5b-8a62-7a9829b7fc52",
   "metadata": {},
   "outputs": [
    {
     "name": "stdout",
     "output_type": "stream",
     "text": [
      "False == False:  False\n"
     ]
    }
   ],
   "source": [
    "print('False == False: ', True == False)"
   ]
  },
  {
   "cell_type": "code",
   "execution_count": 103,
   "id": "a6169773-5fdb-4a3a-890c-33ebf130b0d1",
   "metadata": {},
   "outputs": [
    {
     "name": "stdout",
     "output_type": "stream",
     "text": [
      "False == False:  True\n"
     ]
    }
   ],
   "source": [
    "print('False == False: ', False == False)"
   ]
  },
  {
   "cell_type": "code",
   "execution_count": 105,
   "id": "86b7ecc0-692c-4bed-9879-d1ae16c0a56d",
   "metadata": {},
   "outputs": [
    {
     "name": "stdout",
     "output_type": "stream",
     "text": [
      "True and True:  True\n"
     ]
    }
   ],
   "source": [
    "print('True and True: ', True and True)"
   ]
  },
  {
   "cell_type": "code",
   "execution_count": 107,
   "id": "2314487a-dd01-4b32-93f5-ed94a028d995",
   "metadata": {},
   "outputs": [
    {
     "name": "stdout",
     "output_type": "stream",
     "text": [
      "True or False: True\n"
     ]
    }
   ],
   "source": [
    "print('True or False:', True or False)"
   ]
  },
  {
   "cell_type": "code",
   "execution_count": 109,
   "id": "9b8cd884-c5e2-4229-90a8-8d32ff1d42d4",
   "metadata": {},
   "outputs": [
    {
     "name": "stdout",
     "output_type": "stream",
     "text": [
      "1 is 1 True\n"
     ]
    },
    {
     "name": "stderr",
     "output_type": "stream",
     "text": [
      "<>:1: SyntaxWarning: \"is\" with 'int' literal. Did you mean \"==\"?\n",
      "<>:1: SyntaxWarning: \"is\" with 'int' literal. Did you mean \"==\"?\n",
      "C:\\Users\\Lenovo\\AppData\\Local\\Temp\\ipykernel_16180\\186316889.py:1: SyntaxWarning: \"is\" with 'int' literal. Did you mean \"==\"?\n",
      "  print('1 is 1',1 is 1)\n"
     ]
    }
   ],
   "source": [
    "print('1 is 1',1 is 1)"
   ]
  },
  {
   "cell_type": "code",
   "execution_count": 111,
   "id": "9d4605a9-e56a-43cd-851d-e7bdb10a2a23",
   "metadata": {},
   "outputs": [
    {
     "name": "stdout",
     "output_type": "stream",
     "text": [
      "1 is not 2 True\n"
     ]
    },
    {
     "name": "stderr",
     "output_type": "stream",
     "text": [
      "<>:1: SyntaxWarning: \"is not\" with 'int' literal. Did you mean \"!=\"?\n",
      "<>:1: SyntaxWarning: \"is not\" with 'int' literal. Did you mean \"!=\"?\n",
      "C:\\Users\\Lenovo\\AppData\\Local\\Temp\\ipykernel_16180\\2684715621.py:1: SyntaxWarning: \"is not\" with 'int' literal. Did you mean \"!=\"?\n",
      "  print('1 is not 2', 1 is not 2)\n"
     ]
    }
   ],
   "source": [
    "print('1 is not 2', 1 is not 2)"
   ]
  },
  {
   "cell_type": "code",
   "execution_count": 113,
   "id": "781139ce-d6df-46cb-9368-2b78de0c2143",
   "metadata": {},
   "outputs": [
    {
     "name": "stdout",
     "output_type": "stream",
     "text": [
      "A in Asabeneh True\n"
     ]
    }
   ],
   "source": [
    "print('A in Asabeneh', 'A' in 'Asabeneh') "
   ]
  },
  {
   "cell_type": "code",
   "execution_count": 115,
   "id": "73e46f50-6afa-4e00-a9c8-6d2ae749671a",
   "metadata": {},
   "outputs": [
    {
     "name": "stdout",
     "output_type": "stream",
     "text": [
      "B in AsaBeneh True\n"
     ]
    }
   ],
   "source": [
    "print('B in AsaBeneh', 'B' in 'AsaBeneh')"
   ]
  },
  {
   "cell_type": "code",
   "execution_count": 117,
   "id": "c2d7ea8b-7b11-41f3-8d2a-70b72315127d",
   "metadata": {},
   "outputs": [
    {
     "name": "stdout",
     "output_type": "stream",
     "text": [
      "B in Asabeneh False\n"
     ]
    }
   ],
   "source": [
    "print('B in Asabeneh', 'B' in 'Asabeneh')"
   ]
  },
  {
   "cell_type": "code",
   "execution_count": 119,
   "id": "006a77fa-76fd-4e3f-9ffa-744749dddc03",
   "metadata": {},
   "outputs": [
    {
     "name": "stdout",
     "output_type": "stream",
     "text": [
      "True\n"
     ]
    }
   ],
   "source": [
    "print('coding' in 'coding for all')"
   ]
  },
  {
   "cell_type": "code",
   "execution_count": 121,
   "id": "bacd74fb-3fcb-4920-b9a9-f284f24d3227",
   "metadata": {},
   "outputs": [
    {
     "name": "stdout",
     "output_type": "stream",
     "text": [
      "a in an: True\n"
     ]
    }
   ],
   "source": [
    "print('a in an:', 'a' in 'an')    "
   ]
  },
  {
   "cell_type": "code",
   "execution_count": 123,
   "id": "f27f06bc-1d24-440a-b07e-a9353d63ebbf",
   "metadata": {},
   "outputs": [
    {
     "name": "stdout",
     "output_type": "stream",
     "text": [
      "4 is 2 ** 2: True\n"
     ]
    },
    {
     "name": "stderr",
     "output_type": "stream",
     "text": [
      "<>:1: SyntaxWarning: \"is\" with 'int' literal. Did you mean \"==\"?\n",
      "<>:1: SyntaxWarning: \"is\" with 'int' literal. Did you mean \"==\"?\n",
      "C:\\Users\\Lenovo\\AppData\\Local\\Temp\\ipykernel_16180\\2267984047.py:1: SyntaxWarning: \"is\" with 'int' literal. Did you mean \"==\"?\n",
      "  print('4 is 2 ** 2:', 4 is 2 ** 2)\n"
     ]
    }
   ],
   "source": [
    "print('4 is 2 ** 2:', 4 is 2 ** 2)"
   ]
  },
  {
   "cell_type": "code",
   "execution_count": 135,
   "id": "f35f7e0a-01d4-4db4-b7e5-adb178dd118f",
   "metadata": {},
   "outputs": [
    {
     "name": "stdout",
     "output_type": "stream",
     "text": [
      "True\n"
     ]
    }
   ],
   "source": [
    "print(3 > 2 and 4 > 3)"
   ]
  },
  {
   "cell_type": "code",
   "execution_count": 137,
   "id": "9c1db7cb-a299-4e72-b991-91ba58396037",
   "metadata": {},
   "outputs": [
    {
     "name": "stdout",
     "output_type": "stream",
     "text": [
      "False\n"
     ]
    }
   ],
   "source": [
    "print(3 > 2 and 4 < 3) "
   ]
  },
  {
   "cell_type": "code",
   "execution_count": 139,
   "id": "6036421e-1551-4e21-9ab1-266381b63c29",
   "metadata": {},
   "outputs": [
    {
     "name": "stdout",
     "output_type": "stream",
     "text": [
      "False\n"
     ]
    }
   ],
   "source": [
    "print(not not False) "
   ]
  },
  {
   "cell_type": "code",
   "execution_count": 141,
   "id": "add557e5-6c10-403b-9e17-f08c4d89b287",
   "metadata": {},
   "outputs": [
    {
     "name": "stdout",
     "output_type": "stream",
     "text": [
      "True\n"
     ]
    }
   ],
   "source": [
    "print(not False)"
   ]
  },
  {
   "cell_type": "code",
   "execution_count": 143,
   "id": "ebf9ff18-fd33-490d-913b-8a0485559be4",
   "metadata": {},
   "outputs": [
    {
     "name": "stdout",
     "output_type": "stream",
     "text": [
      "True\n"
     ]
    }
   ],
   "source": [
    "print(not not True)"
   ]
  },
  {
   "cell_type": "code",
   "execution_count": 145,
   "id": "e820c8a8-d661-4e0f-88c0-783fd82a6eed",
   "metadata": {},
   "outputs": [
    {
     "name": "stdout",
     "output_type": "stream",
     "text": [
      "False\n"
     ]
    }
   ],
   "source": [
    "print(not True)"
   ]
  }
 ],
 "metadata": {
  "kernelspec": {
   "display_name": "Python [conda env:base] *",
   "language": "python",
   "name": "conda-base-py"
  },
  "language_info": {
   "codemirror_mode": {
    "name": "ipython",
    "version": 3
   },
   "file_extension": ".py",
   "mimetype": "text/x-python",
   "name": "python",
   "nbconvert_exporter": "python",
   "pygments_lexer": "ipython3",
   "version": "3.12.7"
  }
 },
 "nbformat": 4,
 "nbformat_minor": 5
}
