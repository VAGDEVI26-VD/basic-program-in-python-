{
 "cells": [
  {
   "cell_type": "markdown",
   "id": "a8d75a9d-3bbf-4078-9fc5-a7c7685e36b0",
   "metadata": {},
   "source": [
    "# swap the 2 variable\n",
    "    - using temp (3rd variable)\n",
    "    - using operator\n",
    "    - can you swap using bit number ( use print(0b101| ob 110)\n",
    "    - using XOR ( i will explain tomorrow)\n",
    "    - a, b = b, a"
   ]
  },
  {
   "cell_type": "code",
   "execution_count": 7,
   "id": "705d400c-6f0f-479f-b6f7-5d762512f51a",
   "metadata": {},
   "outputs": [
    {
     "name": "stdout",
     "output_type": "stream",
     "text": [
      "A=5 B=6\n"
     ]
    }
   ],
   "source": [
    "a=5\n",
    "b=6\n",
    "print(\"A=\"+ str(a),\"B=\"+str(b))"
   ]
  },
  {
   "cell_type": "code",
   "execution_count": 17,
   "id": "316c9b12-e8ad-451f-9a8f-ee39961e5b45",
   "metadata": {},
   "outputs": [
    {
     "name": "stdout",
     "output_type": "stream",
     "text": [
      "a= 6, b = 5\n"
     ]
    }
   ],
   "source": [
    "a=5\n",
    "b=6\n",
    "temp = a\n",
    "a = b\n",
    "b = temp\n",
    "print(f\"a= {a}, b = {b}\")"
   ]
  },
  {
   "cell_type": "code",
   "execution_count": 21,
   "id": "f3cebc66-639b-445d-be8a-38021452eff4",
   "metadata": {},
   "outputs": [
    {
     "name": "stdout",
     "output_type": "stream",
     "text": [
      "a=6 b=5\n"
     ]
    }
   ],
   "source": [
    "a= 6\n",
    "b = 5\n",
    "\n",
    "print(\"a=\"+ str(a),\"b=\"+str(b))"
   ]
  },
  {
   "cell_type": "code",
   "execution_count": 31,
   "id": "fb2d9123-2856-43b1-830a-299be749e131",
   "metadata": {},
   "outputs": [
    {
     "name": "stdout",
     "output_type": "stream",
     "text": [
      "a=5 b=6\n"
     ]
    }
   ],
   "source": [
    "a=6 \n",
    "b=5\n",
    "a= a + b \n",
    "b = a - b\n",
    "a= a - b \n",
    "print(\"a=\"+str(a), \"b=\"+ str(b))"
   ]
  },
  {
   "cell_type": "code",
   "execution_count": 33,
   "id": "1a5d2822-407e-4ea8-966a-24c0149e6738",
   "metadata": {},
   "outputs": [
    {
     "name": "stdout",
     "output_type": "stream",
     "text": [
      "a =  6\n",
      "b =  5\n"
     ]
    }
   ],
   "source": [
    "a=5 \n",
    "b=6\n",
    "\n",
    "a1 = 0b0101 \n",
    "b1 = 0b0110\n",
    "print(\"a = \",b1 )\n",
    "print(\"b = \",a1 )"
   ]
  },
  {
   "cell_type": "code",
   "execution_count": 35,
   "id": "eaf02857-5d70-46b4-8efe-fe6b3ec690bd",
   "metadata": {},
   "outputs": [
    {
     "name": "stdout",
     "output_type": "stream",
     "text": [
      "a =  0b110\n",
      "b =  0b101\n"
     ]
    }
   ],
   "source": [
    "a = 6\n",
    "b = 5\n",
    "\n",
    "print(\"a = \",bin(b1) )\n",
    "print(\"b = \",bin(a1) )"
   ]
  },
  {
   "cell_type": "code",
   "execution_count": 53,
   "id": "8657d5c2-7388-4163-8308-2ebfb1f60ffd",
   "metadata": {},
   "outputs": [
    {
     "name": "stdout",
     "output_type": "stream",
     "text": [
      "x y\n"
     ]
    }
   ],
   "source": [
    "# XOR\n",
    "x,y = 10 , 20\n",
    "print(\"x\",\"y\")"
   ]
  },
  {
   "cell_type": "code",
   "execution_count": null,
   "id": "8d017e17-346f-4bc0-9f87-05fc8a5fa140",
   "metadata": {},
   "outputs": [],
   "source": []
  }
 ],
 "metadata": {
  "kernelspec": {
   "display_name": "Python [conda env:base] *",
   "language": "python",
   "name": "conda-base-py"
  },
  "language_info": {
   "codemirror_mode": {
    "name": "ipython",
    "version": 3
   },
   "file_extension": ".py",
   "mimetype": "text/x-python",
   "name": "python",
   "nbconvert_exporter": "python",
   "pygments_lexer": "ipython3",
   "version": "3.12.7"
  }
 },
 "nbformat": 4,
 "nbformat_minor": 5
}
