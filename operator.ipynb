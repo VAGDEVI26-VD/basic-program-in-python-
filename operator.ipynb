{
 "cells": [
  {
   "cell_type": "code",
   "execution_count": 1,
   "id": "1126b6aa-2f67-4184-83b1-a5cb4220aa1d",
   "metadata": {},
   "outputs": [
    {
     "name": "stdout",
     "output_type": "stream",
     "text": [
      "Arthmetic oper:\n",
      "\n",
      "sum: 7\n",
      "difference: 3\n",
      "product: 10\n",
      "division: 2.5\n",
      "\n",
      "comparision oper:\n",
      "\n",
      "is equal: False\n",
      "is not equal: True\n",
      "is greater than: True\n",
      "is lesser than: False\n",
      "\n",
      "logical oper:\n",
      "\n",
      "logical AND: True\n",
      "logical OR: True\n",
      "logical NOT: False\n"
     ]
    }
   ],
   "source": [
    "# Arthmetic oper\n",
    "\n",
    "a = 5\n",
    "b= 2\n",
    "sum_result = a+b\n",
    "difference_result = a-b\n",
    "product_result = a*b\n",
    "division_result = a/b\n",
    "\n",
    "# comparision oper\n",
    "\n",
    "is_equal= a==b\n",
    "is_not_equal = a!=b\n",
    "is_greater_than = a>b\n",
    "is_lesser_than= a<b\n",
    "\n",
    "#logical oper\n",
    "\n",
    "logical_and =a>0 and b>0\n",
    "logical_or = a>0 and b>0\n",
    "logical_not = not (a>0)\n",
    "\n",
    "\n",
    "print(\"Arthmetic oper:\")\n",
    "print(\"\\n\"\"sum:\",sum_result)\n",
    "print(\"difference:\",difference_result)\n",
    "print(\"product:\",product_result)\n",
    "print(\"division:\",division_result)\n",
    "\n",
    "print(\"\\ncomparision oper:\")\n",
    "print(\"\\n\"\"is equal:\",is_equal)\n",
    "print(\"is not equal:\",is_not_equal)\n",
    "print(\"is greater than:\",is_greater_than)\n",
    "print(\"is lesser than:\",is_lesser_than)\n",
    "\n",
    "print(\"\\nlogical oper:\")\n",
    "print('\\n'\"logical AND:\",logical_and)\n",
    "print(\"logical OR:\",logical_or)\n",
    "print(\"logical NOT:\",logical_not)"
   ]
  },
  {
   "cell_type": "code",
   "execution_count": 43,
   "id": "3bccd72f-0acb-4c14-b7b7-78a8c069cab8",
   "metadata": {},
   "outputs": [
    {
     "name": "stdout",
     "output_type": "stream",
     "text": [
      "Unary Minus oper: -10\n",
      "Unary plus operator: 10\n",
      "Logical NOT Operator: False\n"
     ]
    }
   ],
   "source": [
    "# Unary minus oper\n",
    "number = 10\n",
    "result = -number\n",
    "print(\"Unary Minus oper:\",result)\n",
    "\n",
    "#Unary plus oper\n",
    "result =+number\n",
    "print(\"Unary plus operator:\",result)\n",
    "\n",
    "# Logical NOT (!) operator\n",
    "is_true =True\n",
    "logical_not_result = not is_true\n",
    "print(\"Logical NOT Operator:\", logical_not_result)"
   ]
  },
  {
   "cell_type": "code",
   "execution_count": 47,
   "id": "e8756861-fe6f-418b-8dea-ab16a4e0eb37",
   "metadata": {},
   "outputs": [
    {
     "name": "stdout",
     "output_type": "stream",
     "text": [
      "Binary Addition Operator: 8\n",
      "Binary Multiplication Operator: 15\n",
      "Bitwise AND Operator: 1\n"
     ]
    }
   ],
   "source": [
    "# binary addition oper\n",
    "\n",
    "a = 5\n",
    "b = 3\n",
    "addition_result =a+b\n",
    "print(\"Binary Addition Operator:\",addition_result)\n",
    "\n",
    "# Binary multiplication oper\n",
    "multiplication_result =a*b\n",
    "print(\"Binary Multiplication Operator:\",multiplication_result)\n",
    "\n",
    "# Logical AND oper\n",
    "bitwise_and_result =a&b\n",
    "print(\"Bitwise AND Operator:\",bitwise_and_result)"
   ]
  },
  {
   "cell_type": "code",
   "execution_count": 49,
   "id": "bdc5c08d-22e9-4b68-a5fa-5fe89cdfadd0",
   "metadata": {},
   "outputs": [
    {
     "name": "stdout",
     "output_type": "stream",
     "text": [
      "result: 7.0\n"
     ]
    }
   ],
   "source": [
    "# examp expression\n",
    "\n",
    "result = 5+3*2/2-(4%3)**2\n",
    "print(\"result:\",result)"
   ]
  },
  {
   "cell_type": "code",
   "execution_count": 53,
   "id": "264be023-cf92-4eda-9a95-706ecafd8156",
   "metadata": {},
   "outputs": [
    {
     "name": "stdout",
     "output_type": "stream",
     "text": [
      "addition result: 13\n",
      "subtraction result: 7\n",
      "multiplication result: 30\n",
      "division result: 3.3333333333333335\n",
      "modulus result: 1\n",
      "exponentation result: 1000\n"
     ]
    }
   ],
   "source": [
    "# Arthmetic oper\n",
    "\n",
    "a=10\n",
    "b=3\n",
    "\n",
    "#Addition\n",
    "addition_result = a+b\n",
    "print(\"addition result:\",addition_result)\n",
    "\n",
    "#substraction\n",
    "subtraction_result =a-b\n",
    "print(\"subtraction result:\",subtraction_result)\n",
    "\n",
    "#Multiplication\n",
    "multiplication_result = a*b\n",
    "print(\"multiplication result:\",multiplication_result)\n",
    "\n",
    "#division\n",
    "division_result =a/b\n",
    "print(\"division result:\",division_result)\n",
    "\n",
    "#modulus\n",
    "modulus_result = a%b\n",
    "print(\"modulus result:\",modulus_result)\n",
    "\n",
    "#exponentation\n",
    "exponentation_result =a**b\n",
    "print(\"exponentation result:\",exponentation_result)"
   ]
  },
  {
   "cell_type": "code",
   "execution_count": 3,
   "id": "dd1b1e3e-06a5-42db-a91b-e9ddb48f78e2",
   "metadata": {},
   "outputs": [
    {
     "name": "stdout",
     "output_type": "stream",
     "text": [
      "The remainder of15 divided by 7 is: 1\n"
     ]
    }
   ],
   "source": [
    "number =15\n",
    "divisior=7\n",
    "remainder=number%divisior\n",
    "print(f\"The remainder of{number} divided by {divisior} is: {remainder}\")"
   ]
  },
  {
   "cell_type": "code",
   "execution_count": 5,
   "id": "9baf9f6d-bf55-4855-a84d-9bf154b66803",
   "metadata": {},
   "outputs": [
    {
     "name": "stdout",
     "output_type": "stream",
     "text": [
      "Using== oper: True\n",
      "Using is oper: False\n"
     ]
    }
   ],
   "source": [
    "list1=[1,2,3]\n",
    "list2=[1,2,3]\n",
    "result1=list1==list2\n",
    "\n",
    "list3=[1,2,3]\n",
    "list4=[1,2,3]\n",
    "result2=list3 is list4\n",
    "\n",
    "print(\"Using== oper:\",result1)\n",
    "print(\"Using is oper:\",result2)"
   ]
  },
  {
   "cell_type": "code",
   "execution_count": 7,
   "id": "2c5821ad-70c0-4d9f-bd02-f31bf2f4f290",
   "metadata": {},
   "outputs": [
    {
     "name": "stdout",
     "output_type": "stream",
     "text": [
      "Using and oper: True\n",
      "Using or oper: True\n",
      "Using not oper: False\n"
     ]
    }
   ],
   "source": [
    "# AND,OR ,NOT\n",
    "num1=5\n",
    "num2=10\n",
    "result1=num1>0 and num2>0\n",
    "\n",
    "num3=-5\n",
    "num4=10\n",
    "result2=num3>0 or num4>0\n",
    "\n",
    "flag=True\n",
    "result3 = not flag\n",
    "\n",
    "print(\"Using and oper:\",result1)\n",
    "print(\"Using or oper:\",result2)\n",
    "print(\"Using not oper:\",result3)"
   ]
  },
  {
   "cell_type": "code",
   "execution_count": 11,
   "id": "9b641a0b-8f6d-42e5-86c4-0420a7c8f7a2",
   "metadata": {},
   "outputs": [
    {
     "name": "stdout",
     "output_type": "stream",
     "text": [
      "bitwise AND: 1\n",
      "bitwise OR: 7\n",
      "bitwise XOR: 6\n",
      "left shift: 10\n",
      "right shift: 2\n"
     ]
    }
   ],
   "source": [
    "# bitwise oper:\n",
    "\n",
    "num1=5\n",
    "num2=3\n",
    "\n",
    "result_and =num1&num2\n",
    "result_or= num1|num2\n",
    "result_xor=num1^num2\n",
    "result_left_shift=num1<<1\n",
    "result_right_shift=num1>>1\n",
    "\n",
    "print(\"bitwise AND:\",result_and)\n",
    "print(\"bitwise OR:\",result_or)\n",
    "print(\"bitwise XOR:\",result_xor)\n",
    "print(\"left shift:\",result_left_shift)\n",
    "print(\"right shift:\",result_right_shift)"
   ]
  },
  {
   "cell_type": "code",
   "execution_count": 19,
   "id": "c06b24bd-c899-4340-bcda-cabacad0bc50",
   "metadata": {},
   "outputs": [
    {
     "name": "stdout",
     "output_type": "stream",
     "text": [
      "'banana' in fruits: True\n",
      "'grape' in fruits: False\n",
      "'watermelon' not in fruits : True\n",
      "'orange' not in fruits: False\n"
     ]
    }
   ],
   "source": [
    "fruits=['apple','banana','orange']\n",
    "is_banana_in_list='banana' in fruits\n",
    "is_grape_in_list='grape' in fruits\n",
    "is_watermelon_not_in_list='watermelon' not in fruits \n",
    "is_orange_not_in_list='orange' not in fruits\n",
    "\n",
    "print(\"'banana' in fruits:\",is_banana_in_list)\n",
    "print(\"'grape' in fruits:\",is_grape_in_list)\n",
    "print(\"'watermelon' not in fruits :\",is_watermelon_not_in_list)\n",
    "print(\"'orange' not in fruits:\",is_orange_not_in_list)"
   ]
  },
  {
   "cell_type": "code",
   "execution_count": 23,
   "id": "186b0bf8-c2ce-4dda-8ec3-1323b1940056",
   "metadata": {},
   "outputs": [
    {
     "name": "stdout",
     "output_type": "stream",
     "text": [
      "x is y: False\n",
      "x is z: True\n",
      "x is not y: True\n",
      "x is not z: False\n"
     ]
    }
   ],
   "source": [
    "#  is oper:\n",
    "\n",
    "x =[1, 2, 3]\n",
    "y=[1, 2, 3]\n",
    "z=x\n",
    "\n",
    "are_x_and_y_same = x is y\n",
    "are_x_and_z_same = x is z\n",
    "are_x_and_y_not_same = x is not y\n",
    "are_x_and_z_not_same = x is not z\n",
    "\n",
    "print(\"x is y:\", are_x_and_y_same)\n",
    "print(\"x is z:\", are_x_and_z_same)\n",
    "print(\"x is not y:\", are_x_and_y_not_same)\n",
    "print(\"x is not z:\", are_x_and_z_not_same)"
   ]
  },
  {
   "cell_type": "code",
   "execution_count": 25,
   "id": "53d003ad-a19a-4260-9ef7-83a18d924d17",
   "metadata": {},
   "outputs": [
    {
     "name": "stdout",
     "output_type": "stream",
     "text": [
      "wheather today: sunny\n"
     ]
    }
   ],
   "source": [
    "# ternary conditional oper:\n",
    "\n",
    "temperature=25\n",
    "wheather=\"sunny\" if temperature>20 else \"cloudy\"\n",
    "print(\"wheather today:\",wheather)"
   ]
  },
  {
   "cell_type": "code",
   "execution_count": 27,
   "id": "7ed436d5-7681-4508-b00b-b2547cb18167",
   "metadata": {},
   "outputs": [
    {
     "name": "stdout",
     "output_type": "stream",
     "text": [
      "x<y: True\n",
      "x>y: False\n",
      "x<=y: True\n",
      "x>=y: False\n",
      "x==y: False\n",
      "x!=y: True\n"
     ]
    }
   ],
   "source": [
    "# comparision oper:\n",
    "\n",
    "x = 5\n",
    "y = 10\n",
    "\n",
    "result_less_than= x<y\n",
    "result_greater_than= x>y\n",
    "result_less_than_equal_to= x<=y\n",
    "result_graeater_than_equal_to= x>=y\n",
    "result_equal_to= x==y\n",
    "result_not_equal_to= x!=y\n",
    "\n",
    "print(\"x<y:\",result_less_than)\n",
    "print(\"x>y:\",result_greater_than)\n",
    "print(\"x<=y:\",result_less_than_equal_to)\n",
    "print(\"x>=y:\",result_graeater_than_equal_to)\n",
    "print(\"x==y:\",result_equal_to)\n",
    "print(\"x!=y:\",result_not_equal_to)"
   ]
  },
  {
   "cell_type": "code",
   "execution_count": 33,
   "id": "02c5b42e-57d7-45e2-8102-ac518ad65048",
   "metadata": {},
   "outputs": [
    {
     "name": "stdout",
     "output_type": "stream",
     "text": [
      "x (after x+=3): 8\n",
      "x (after x-=2): 6\n",
      "x (after x *= 4): 24\n",
      "x (after x /= 2): 12.0\n"
     ]
    }
   ],
   "source": [
    "# assignment oper:\n",
    "\n",
    "x=5\n",
    "y=x\n",
    "\n",
    "x+=3\n",
    "print(\"x (after x+=3):\",x)\n",
    "x-=2\n",
    "print(\"x (after x-=2):\",x)\n",
    "x *= 4\n",
    "print(\"x (after x *= 4):\", x)\n",
    "x /= 2\n",
    "print(\"x (after x /= 2):\", x)"
   ]
  },
  {
   "cell_type": "code",
   "execution_count": 37,
   "id": "c7a1282c-c2db-4461-90f6-e65142665ef6",
   "metadata": {},
   "outputs": [
    {
     "name": "stdout",
     "output_type": "stream",
     "text": [
      "Is 't' present in 'Python'? True\n",
      "Is 3 present in [1, 2, 3, 4, 5]? True\n"
     ]
    }
   ],
   "source": [
    "# string\n",
    "\n",
    "string_example = \"Python\"\n",
    "char_to_check = \"t\"\n",
    "is_present = char_to_check in string_example\n",
    "print(f\"Is '{char_to_check}' present in '{string_example}'? {is_present}\")\n",
    "\n",
    "list_example = [1, 2, 3, 4, 5]\n",
    "element_to_check = 3\n",
    "is_present = element_to_check in list_example\n",
    "print(f\"Is {element_to_check} present in {list_example}? {is_present}\")"
   ]
  },
  {
   "cell_type": "code",
   "execution_count": 39,
   "id": "3741b727-2fde-42b6-88b4-bc83fd2b62ae",
   "metadata": {},
   "outputs": [
    {
     "name": "stdout",
     "output_type": "stream",
     "text": [
      "Substring: Programmin\n",
      "Sublist: [3, 4, 5, 6, 7]\n"
     ]
    }
   ],
   "source": [
    "string_example = \"PythonProgramming\"\n",
    "substring = string_example[6:16] \n",
    "print(\"Substring:\", substring)\n",
    "\n",
    "list_example = [1, 2, 3, 4, 5, 6, 7, 8, 9]\n",
    "sublist = list_example[2:7]\n",
    "print(\"Sublist:\", sublist)"
   ]
  },
  {
   "cell_type": "code",
   "execution_count": 41,
   "id": "7217703a-7a3f-4094-98b2-2910726d04b4",
   "metadata": {},
   "outputs": [
    {
     "name": "stdout",
     "output_type": "stream",
     "text": [
      "result: 8\n"
     ]
    }
   ],
   "source": [
    "base=2\n",
    "exponent=3\n",
    "\n",
    "result=base**exponent\n",
    "print(\"result:\",result)"
   ]
  },
  {
   "cell_type": "code",
   "execution_count": 45,
   "id": "c1559d5b-1ebd-45dc-835c-4e065f4980ef",
   "metadata": {},
   "outputs": [
    {
     "name": "stdout",
     "output_type": "stream",
     "text": [
      "result: 3\n"
     ]
    }
   ],
   "source": [
    "dividend=10\n",
    "divisior=3\n",
    "result=dividend//divisior\n",
    "print(\"result:\",result)"
   ]
  },
  {
   "cell_type": "code",
   "execution_count": 47,
   "id": "097ab4b5-902f-4348-a896-bf46b277f687",
   "metadata": {},
   "outputs": [
    {
     "name": "stdout",
     "output_type": "stream",
     "text": [
      "Result: 8\n"
     ]
    }
   ],
   "source": [
    "num1 = 5\n",
    "num1 += 3\n",
    "print(\"Result:\", num1)"
   ]
  },
  {
   "cell_type": "code",
   "execution_count": 49,
   "id": "ae1f4abe-5e5e-4505-a8c8-933e652f0d6e",
   "metadata": {},
   "outputs": [
    {
     "name": "stdout",
     "output_type": "stream",
     "text": [
      "Result: 8\n"
     ]
    }
   ],
   "source": [
    "num2 = 4\n",
    "num2 *= 2\n",
    "print(\"Result:\", num2)"
   ]
  },
  {
   "cell_type": "code",
   "execution_count": 51,
   "id": "ac569d02-07fe-4a6c-bef6-e90b9a5b9d8c",
   "metadata": {},
   "outputs": [
    {
     "name": "stdout",
     "output_type": "stream",
     "text": [
      "Original Value: True\n",
      "Negated Value: False\n"
     ]
    }
   ],
   "source": [
    "is_python_fun = True\n",
    "not_python_fun = not is_python_fun\n",
    "print(\"Original Value:\", is_python_fun)\n",
    "print(\"Negated Value:\", not_python_fun)"
   ]
  },
  {
   "cell_type": "code",
   "execution_count": 53,
   "id": "02ec4b4e-92f1-4564-b705-9a6908671e25",
   "metadata": {},
   "outputs": [
    {
     "name": "stdout",
     "output_type": "stream",
     "text": [
      "Tuple: (1, 2, 3)\n"
     ]
    }
   ],
   "source": [
    "my_tuple = (1, 2, 3)\n",
    "print(\"Tuple:\", my_tuple)"
   ]
  },
  {
   "cell_type": "code",
   "execution_count": 55,
   "id": "4125f1de-3ef6-4e0e-8f4b-45fd098b6772",
   "metadata": {},
   "outputs": [
    {
     "name": "stdout",
     "output_type": "stream",
     "text": [
      "Result: 16\n"
     ]
    }
   ],
   "source": [
    "result = (5 + 3) * 2\n",
    "print(\"Result:\", result)"
   ]
  }
 ],
 "metadata": {
  "kernelspec": {
   "display_name": "Python [conda env:base] *",
   "language": "python",
   "name": "conda-base-py"
  },
  "language_info": {
   "codemirror_mode": {
    "name": "ipython",
    "version": 3
   },
   "file_extension": ".py",
   "mimetype": "text/x-python",
   "name": "python",
   "nbconvert_exporter": "python",
   "pygments_lexer": "ipython3",
   "version": "3.12.7"
  }
 },
 "nbformat": 4,
 "nbformat_minor": 5
}
