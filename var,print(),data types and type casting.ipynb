{
 "cells": [
  {
   "cell_type": "markdown",
   "id": "6ba13db6-4bfc-4841-8b08-5ef3626c78e6",
   "metadata": {},
   "source": [
    "# IDENTIFIER"
   ]
  },
  {
   "cell_type": "code",
   "execution_count": 89,
   "id": "fab0614c-91bc-40a0-93c1-8b071f92f397",
   "metadata": {},
   "outputs": [
    {
     "name": "stdout",
     "output_type": "stream",
     "text": [
      "25\n",
      "Vagdevi\n",
      "100\n",
      "89\n",
      "3.14159\n",
      "150.75\n",
      "10\n"
     ]
    }
   ],
   "source": [
    "age=25\n",
    "name=\"Vagdevi\"\n",
    "my_var=100\n",
    "score_1=89\n",
    "_PI=3.14159\n",
    "total_amount=150.75\n",
    "myVariable=10\n",
    "print(age)\n",
    "print(name)\n",
    "print(my_var)\n",
    "print(score_1)\n",
    "print(_PI)\n",
    "print(total_amount)\n",
    "print(myVariable)"
   ]
  },
  {
   "cell_type": "code",
   "execution_count": 91,
   "id": "248a6e34-d70d-439d-a05a-0ac49ef3ecca",
   "metadata": {},
   "outputs": [
    {
     "ename": "SyntaxError",
     "evalue": "invalid decimal literal (2338863074.py, line 1)",
     "output_type": "error",
     "traceback": [
      "\u001b[1;36m  Cell \u001b[1;32mIn[91], line 1\u001b[1;36m\u001b[0m\n\u001b[1;33m    1st_place=\"First\"\u001b[0m\n\u001b[1;37m    ^\u001b[0m\n\u001b[1;31mSyntaxError\u001b[0m\u001b[1;31m:\u001b[0m invalid decimal literal\n"
     ]
    }
   ],
   "source": [
    "1st_place=\"First\"\n",
    "total-price=200\n",
    "class=\"python\"\n",
    "my variable=\"space\"\n",
    "print(1st_place)"
   ]
  },
  {
   "cell_type": "code",
   "execution_count": 7,
   "id": "54a2a112-5cc1-423d-b32c-a45d82e8b9ef",
   "metadata": {},
   "outputs": [
    {
     "name": "stdout",
     "output_type": "stream",
     "text": [
      "Hello,Vagdevi!\n"
     ]
    }
   ],
   "source": [
    "def greet(name):\n",
    "    print(f\"Hello,{name}!\")\n",
    "greet(\"Vagdevi\")"
   ]
  },
  {
   "cell_type": "code",
   "execution_count": 21,
   "id": "259e8eba-1b2d-44a8-8259-3901cb4002b4",
   "metadata": {},
   "outputs": [],
   "source": [
    "class car:\n",
    "    def __init__(self,make,model):\n",
    "        self.make=make\n",
    "        self.model=model\n",
    "        \n",
    "my_car=car(\"Toyota\",\"Corolla\")"
   ]
  },
  {
   "cell_type": "code",
   "execution_count": 23,
   "id": "7b5613ef-00e0-4bdd-b185-67c3ee7b561f",
   "metadata": {},
   "outputs": [
    {
     "name": "stdout",
     "output_type": "stream",
     "text": [
      "3.141592653589793\n"
     ]
    }
   ],
   "source": [
    "import math\n",
    "print(math.pi)"
   ]
  },
  {
   "cell_type": "markdown",
   "id": "310a62d2-9bd2-413f-8e30-6ca14f47f6a8",
   "metadata": {},
   "source": [
    "# PRINT()"
   ]
  },
  {
   "cell_type": "code",
   "execution_count": 32,
   "id": "36308049-f3a6-4727-9a71-2a67fe2082df",
   "metadata": {},
   "outputs": [
    {
     "ename": "NameError",
     "evalue": "name 'objects' is not defined",
     "output_type": "error",
     "traceback": [
      "\u001b[1;31m---------------------------------------------------------------------------\u001b[0m",
      "\u001b[1;31mNameError\u001b[0m                                 Traceback (most recent call last)",
      "Cell \u001b[1;32mIn[32], line 1\u001b[0m\n\u001b[1;32m----> 1\u001b[0m \u001b[38;5;28mprint\u001b[39m(\u001b[38;5;241m*\u001b[39mobjects, sep\u001b[38;5;241m=\u001b[39m\u001b[38;5;124m'\u001b[39m\u001b[38;5;124m'\u001b[39m, end\u001b[38;5;241m=\u001b[39m\u001b[38;5;124m'\u001b[39m\u001b[38;5;130;01m\\n\u001b[39;00m\u001b[38;5;124m'\u001b[39m, file\u001b[38;5;241m=\u001b[39msys\u001b[38;5;241m.\u001b[39mstdout, flush\u001b[38;5;241m=\u001b[39m\u001b[38;5;28;01mFalse\u001b[39;00m)\n",
      "\u001b[1;31mNameError\u001b[0m: name 'objects' is not defined"
     ]
    }
   ],
   "source": [
    "print(*objects, sep='', end='\\n', file=sys.stdout, flush=False)"
   ]
  },
  {
   "cell_type": "code",
   "execution_count": 34,
   "id": "5e18d579-323a-494d-8a01-da927dba7584",
   "metadata": {},
   "outputs": [
    {
     "name": "stdout",
     "output_type": "stream",
     "text": [
      "Hello, World!\n"
     ]
    }
   ],
   "source": [
    "print(\"Hello, World!\")"
   ]
  },
  {
   "cell_type": "code",
   "execution_count": 36,
   "id": "efa1f72b-e6b9-4634-8a0c-60987f7b6aeb",
   "metadata": {},
   "outputs": [
    {
     "name": "stdout",
     "output_type": "stream",
     "text": [
      "42\n",
      "3.14\n"
     ]
    }
   ],
   "source": [
    "print(42)\n",
    "print(3.14)"
   ]
  },
  {
   "cell_type": "code",
   "execution_count": 38,
   "id": "6f120ab4-aaf8-4577-8dc0-b0846a08c101",
   "metadata": {},
   "outputs": [
    {
     "name": "stdout",
     "output_type": "stream",
     "text": [
      "The value of x is 10 and the value of y is 20\n"
     ]
    }
   ],
   "source": [
    "x=10\n",
    "y=20\n",
    "print(\"The value of x is\",x,\"and the value of y is\",y)"
   ]
  },
  {
   "cell_type": "code",
   "execution_count": 48,
   "id": "830e01f7-377b-4b1c-a1f7-59f631cfdbba",
   "metadata": {},
   "outputs": [
    {
     "name": "stdout",
     "output_type": "stream",
     "text": [
      "apple,banana,cherry\n"
     ]
    }
   ],
   "source": [
    "print(\"apple\",\"banana\",\"cherry\",sep=\",\")"
   ]
  },
  {
   "cell_type": "code",
   "execution_count": 52,
   "id": "a50d669f-7347-4989-aa7e-1e7434026623",
   "metadata": {},
   "outputs": [
    {
     "name": "stdout",
     "output_type": "stream",
     "text": [
      "apple banana cherry\n"
     ]
    }
   ],
   "source": [
    "print(\"apple\",\"banana\",\"cherry\",sep=\" \")"
   ]
  },
  {
   "cell_type": "code",
   "execution_count": 54,
   "id": "41c742eb-ff20-4c04-bb64-6dd0111081ee",
   "metadata": {},
   "outputs": [
    {
     "name": "stdout",
     "output_type": "stream",
     "text": [
      "Hello World!\n"
     ]
    }
   ],
   "source": [
    "print(\"Hello\",end=\" \")\n",
    "print(\"World!\")"
   ]
  },
  {
   "cell_type": "markdown",
   "id": "c806ab4e-d482-4470-83f7-9953df5067fc",
   "metadata": {},
   "source": [
    "# DATA TYPES AND TYPE CASTING"
   ]
  },
  {
   "cell_type": "code",
   "execution_count": 69,
   "id": "1d59fd56-b022-476d-b880-283dd02fac7d",
   "metadata": {},
   "outputs": [
    {
     "name": "stdout",
     "output_type": "stream",
     "text": [
      "10\n"
     ]
    }
   ],
   "source": [
    "x = \"10\" \n",
    "y = int(x) \n",
    "print(y)"
   ]
  },
  {
   "cell_type": "code",
   "execution_count": 71,
   "id": "617c384b-51cd-49df-8b80-3ccfeb709a46",
   "metadata": {},
   "outputs": [
    {
     "name": "stdout",
     "output_type": "stream",
     "text": [
      "3.14\n"
     ]
    }
   ],
   "source": [
    "x = \"3.14\" \n",
    "y = float(x) \n",
    "print(y)"
   ]
  },
  {
   "cell_type": "code",
   "execution_count": 73,
   "id": "38c2926f-9f05-45a0-abcc-63d83489039d",
   "metadata": {},
   "outputs": [
    {
     "name": "stdout",
     "output_type": "stream",
     "text": [
      "100\n"
     ]
    }
   ],
   "source": [
    "x = 100 \n",
    "y = str(x) \n",
    "print(y)"
   ]
  },
  {
   "cell_type": "code",
   "execution_count": 75,
   "id": "16fabfe2-efda-40a0-897d-d33dc775599f",
   "metadata": {},
   "outputs": [
    {
     "name": "stdout",
     "output_type": "stream",
     "text": [
      "True\n",
      "False\n"
     ]
    }
   ],
   "source": [
    "X = 1 \n",
    "y = bool(x)\n",
    "print(y)\n",
    "x = 0 \n",
    "y = bool(x)\n",
    "print(y) "
   ]
  },
  {
   "cell_type": "code",
   "execution_count": 85,
   "id": "83c79c90-2a1d-473b-be16-2983459c5781",
   "metadata": {},
   "outputs": [
    {
     "name": "stdout",
     "output_type": "stream",
     "text": [
      "123\n",
      "123\n",
      "123.0\n"
     ]
    }
   ],
   "source": [
    "string_value = \"123\"\n",
    "int_value = int(string_value)\n",
    "float_value = float(string_value) \n",
    "print(string_value)\n",
    "print(int_value)\n",
    "print(float_value)"
   ]
  },
  {
   "cell_type": "code",
   "execution_count": 95,
   "id": "9d1c0d36-c72e-41ce-b392-1e30c1458646",
   "metadata": {},
   "outputs": [
    {
     "name": "stdout",
     "output_type": "stream",
     "text": [
      "45\n"
     ]
    }
   ],
   "source": [
    "num = 45\n",
    "str_value = str(num)\n",
    "print(str_value)"
   ]
  },
  {
   "cell_type": "code",
   "execution_count": 99,
   "id": "20417443-bf68-4109-9e1c-d43a70e3d9d3",
   "metadata": {},
   "outputs": [
    {
     "name": "stdout",
     "output_type": "stream",
     "text": [
      "hello\n",
      "True\n",
      "False\n"
     ]
    }
   ],
   "source": [
    "x = \"hello\"\n",
    "y = bool(x) \n",
    "z = bool(\"\")\n",
    "print(x)\n",
    "print(y)\n",
    "print(z)"
   ]
  },
  {
   "cell_type": "code",
   "execution_count": 101,
   "id": "e2718ae3-b3f4-4881-9294-6f4f85e7dc4d",
   "metadata": {},
   "outputs": [
    {
     "name": "stdout",
     "output_type": "stream",
     "text": [
      "True\n",
      "1\n",
      "1.0\n"
     ]
    }
   ],
   "source": [
    "bool_val = True\n",
    "int_val = int(bool_val) \n",
    "float_val = float(bool_val)\n",
    "print(bool_val)\n",
    "print(int_val)\n",
    "print(float_val)"
   ]
  },
  {
   "cell_type": "code",
   "execution_count": 105,
   "id": "42e2d46d-040b-488b-850a-79e1fe520c5c",
   "metadata": {},
   "outputs": [
    {
     "name": "stdout",
     "output_type": "stream",
     "text": [
      "Error: invalid literal for int() with base 10: 'hello'\n"
     ]
    }
   ],
   "source": [
    "x = \"hello\"\n",
    "try:\n",
    " y = int(x) \n",
    "except ValueError as e:\n",
    " print(f\"Error: {e}\")"
   ]
  },
  {
   "cell_type": "code",
   "execution_count": null,
   "id": "9ccb376c-e742-46ed-8454-fb9ac99d4bf3",
   "metadata": {},
   "outputs": [],
   "source": []
  },
  {
   "cell_type": "code",
   "execution_count": null,
   "id": "bb65e119-d022-4f50-aef5-1b25e377a4ce",
   "metadata": {},
   "outputs": [],
   "source": []
  },
  {
   "cell_type": "code",
   "execution_count": null,
   "id": "8fe7b893-696a-460a-9ce9-0725aaf55818",
   "metadata": {},
   "outputs": [],
   "source": []
  },
  {
   "cell_type": "code",
   "execution_count": null,
   "id": "31e68d39-6a9c-46be-bdf0-565fcb83d095",
   "metadata": {},
   "outputs": [],
   "source": []
  },
  {
   "cell_type": "code",
   "execution_count": null,
   "id": "999808c3-4de9-4780-90d5-4b4a0c529ebb",
   "metadata": {},
   "outputs": [],
   "source": []
  }
 ],
 "metadata": {
  "kernelspec": {
   "display_name": "Python [conda env:base] *",
   "language": "python",
   "name": "conda-base-py"
  },
  "language_info": {
   "codemirror_mode": {
    "name": "ipython",
    "version": 3
   },
   "file_extension": ".py",
   "mimetype": "text/x-python",
   "name": "python",
   "nbconvert_exporter": "python",
   "pygments_lexer": "ipython3",
   "version": "3.12.7"
  }
 },
 "nbformat": 4,
 "nbformat_minor": 5
}
