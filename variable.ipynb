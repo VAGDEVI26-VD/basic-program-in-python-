{
 "cells": [
  {
   "cell_type": "code",
   "execution_count": 12,
   "id": "37639d79-8349-4305-8e7e-cf637e0a6225",
   "metadata": {},
   "outputs": [
    {
     "name": "stdout",
     "output_type": "stream",
     "text": [
      "First name: VAGDEVI\n",
      "First name length: 7\n",
      "Last name:  GAJJALA\n",
      "Last name length:  7\n",
      "Country:  Nlg\n",
      "City:  TELENGANA\n",
      "Age:  20026\n",
      "Married:  True\n",
      "Skills:  ['HTML', 'CSS', 'JS', 'REACT', 'PYTHON']\n",
      "Person information:  {'firstname': 'ANANTHA', 'lastname': 'LAXMI', 'country': 'USA', 'city': 'Newyork'}\n"
     ]
    }
   ],
   "source": [
    "first_name = 'VAGDEVI'\n",
    "last_name = 'GAJJALA'\n",
    "country = 'Nlg'\n",
    "city = 'TELENGANA'\n",
    "age = 20026\n",
    "is_married = True\n",
    "skills = ['HTML', 'CSS', 'JS', 'REACT', 'PYTHON']\n",
    "person_info = {\n",
    "    'firstname':'ANANTHA',\n",
    "    'lastname':'LAXMI',\n",
    "    'country':'USA',\n",
    "    'city':'Newyork'\n",
    "    }\n",
    "print('First name:', first_name)\n",
    "print('First name length:', len(first_name))\n",
    "print('Last name: ', last_name)\n",
    "print('Last name length: ', len(last_name))\n",
    "print('Country: ', country)\n",
    "print('City: ', city)\n",
    "print('Age: ', age)\n",
    "print('Married: ', is_married)\n",
    "print('Skills: ', skills)\n",
    "print('Person information: ', person_info)"
   ]
  },
  {
   "cell_type": "code",
   "execution_count": 18,
   "id": "8aac22d6-2971-48fa-b269-272185a1400f",
   "metadata": {},
   "outputs": [
    {
     "name": "stdout",
     "output_type": "stream",
     "text": [
      "Gajjala Vagdevi Newyork 2506 True\n",
      "First name: Gajjala\n",
      "Last name:  Vagdevi\n",
      "Country:  Newyork\n",
      "Age:  2506\n",
      "Married:  True\n"
     ]
    }
   ],
   "source": [
    "first_name, last_name, country, age, is_married = 'Gajjala', 'Vagdevi', 'Newyork', 2506, True\n",
    "print(first_name, last_name, country, age, is_married)\n",
    "print('First name:', first_name)\n",
    "print('Last name: ', last_name)\n",
    "print('Country: ', country)\n",
    "print('Age: ', age)\n",
    "print('Married: ', is_married)"
   ]
  }
 ],
 "metadata": {
  "kernelspec": {
   "display_name": "Python [conda env:base] *",
   "language": "python",
   "name": "conda-base-py"
  },
  "language_info": {
   "codemirror_mode": {
    "name": "ipython",
    "version": 3
   },
   "file_extension": ".py",
   "mimetype": "text/x-python",
   "name": "python",
   "nbconvert_exporter": "python",
   "pygments_lexer": "ipython3",
   "version": "3.12.7"
  }
 },
 "nbformat": 4,
 "nbformat_minor": 5
}
